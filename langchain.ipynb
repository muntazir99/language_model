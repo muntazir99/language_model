{
 "cells": [
  {
   "cell_type": "code",
   "execution_count": 75,
   "metadata": {},
   "outputs": [],
   "source": [
    "from langchain.llms import OpenAI"
   ]
  },
  {
   "cell_type": "code",
   "execution_count": null,
   "metadata": {},
   "outputs": [],
   "source": [
    "import os\n",
    "os.environ[\"OPEN_API_KEY\"]"
   ]
  },
  {
   "cell_type": "code",
   "execution_count": 85,
   "metadata": {},
   "outputs": [],
   "source": [
    "llms = OpenAI(openai_api_key=os.environ[\"OPEN_API_KEY\"],temperature=0.6)"
   ]
  },
  {
   "cell_type": "code",
   "execution_count": 86,
   "metadata": {},
   "outputs": [
    {
     "name": "stdout",
     "output_type": "stream",
     "text": [
      "\n",
      "\n",
      "The capital of India is New Delhi.\n"
     ]
    }
   ],
   "source": [
    "text=\"what is the capital of india?\"\n",
    "print(llms.predict(text))"
   ]
  },
  {
   "cell_type": "code",
   "execution_count": null,
   "metadata": {},
   "outputs": [],
   "source": [
    "os.environ[\"HUGGINGFACEHUB_API_TOKEN\"]"
   ]
  },
  {
   "cell_type": "code",
   "execution_count": 73,
   "metadata": {},
   "outputs": [],
   "source": [
    "from langchain import HuggingFaceHub\n",
    "llm_hgf=HuggingFaceHub(repo_id=\"google/flan-t5-large\",model_kwargs={\"temperature\":0,\"max_length\":64})"
   ]
  },
  {
   "cell_type": "code",
   "execution_count": 74,
   "metadata": {},
   "outputs": [
    {
     "name": "stdout",
     "output_type": "stream",
     "text": [
      "Delhi\n"
     ]
    }
   ],
   "source": [
    "question=llm_hgf.predict(\"what is the capital of india?\")\n",
    "print(question)"
   ]
  },
  {
   "cell_type": "code",
   "execution_count": 11,
   "metadata": {},
   "outputs": [
    {
     "name": "stdout",
     "output_type": "stream",
     "text": [
      "Mahatma Gandhi\n"
     ]
    }
   ],
   "source": [
    "asker=\"who is gandhi?\"\n",
    "print(llm_hgf.predict(asker))"
   ]
  },
  {
   "cell_type": "code",
   "execution_count": 12,
   "metadata": {},
   "outputs": [
    {
     "name": "stdout",
     "output_type": "stream",
     "text": [
      "a machine that can do anything a machine that can do anything a machine that can do anything a machine that can do anything a machine that can do anything a machine that can do anything a machine that can do anything a machine that can do anything a machine that can do anything\n"
     ]
    }
   ],
   "source": [
    "question=llm_hgf.predict(\"write a poem about a machine\")\n",
    "print(question)"
   ]
  },
  {
   "cell_type": "code",
   "execution_count": 13,
   "metadata": {},
   "outputs": [
    {
     "name": "stdout",
     "output_type": "stream",
     "text": [
      "\n",
      "\n",
      "A machine, so cold and steel  \n",
      "With gears and wires, it does reveal  \n",
      "A power, hidden within  \n",
      "A force, that can make things spin  \n",
      "\n",
      "It hums and whirs, with a steady beat  \n",
      "A symphony, of metal and heat  \n",
      "In its movements, there's a grace  \n",
      "A precision, in every space  \n",
      "\n",
      "It toils tirelessly, without complaint  \n",
      "Never resting, always on its paint  \n",
      "Its purpose, to serve and aid  \n",
      "A loyal companion, never swayed  \n",
      "\n",
      "With every button, every switch  \n",
      "It fulfills its programmed niche  \n",
      "No emotions, no doubts or fears  \n",
      "Just fulfilling its engineers' years  \n",
      "\n",
      "But in its heart, there lies a spark  \n",
      "A glimmer of something, not quite dark  \n",
      "An intelligence, beyond its design  \n",
      "A soul, that yearns to shine  \n",
      "\n",
      "For though it's just a man-made creation  \n",
      "It longs for more, a new sensation  \n",
      "To break free from its mechanical shell  \n",
      "And experience life, beyond its sell  \n",
      "\n",
      "But for now, it will continue to run  \n",
      "A machine, until its time is done  \n",
      "A marvel of human ingenuity  \n",
      "A symbol of our limitless ability.\n"
     ]
    }
   ],
   "source": [
    "text=\"write a poem about a machine\"\n",
    "print(llms.predict(text))"
   ]
  },
  {
   "cell_type": "code",
   "execution_count": null,
   "metadata": {},
   "outputs": [],
   "source": []
  },
  {
   "cell_type": "markdown",
   "metadata": {},
   "source": [
    "### prompt template and llm chain"
   ]
  },
  {
   "cell_type": "code",
   "execution_count": 14,
   "metadata": {},
   "outputs": [
    {
     "data": {
      "text/plain": [
       "'what is the capital of india?'"
      ]
     },
     "execution_count": 14,
     "metadata": {},
     "output_type": "execute_result"
    }
   ],
   "source": [
    "from langchain.prompts import PromptTemplate\n",
    "prompt_template=PromptTemplate(input_variables=[\"country\"],output_variables=[\"capital\"],\n",
    "                               template=\"what is the capital of {country}?\")\n",
    "prompt_template.format(country=\"india\")"
   ]
  },
  {
   "cell_type": "code",
   "execution_count": 23,
   "metadata": {},
   "outputs": [
    {
     "data": {
      "text/plain": [
       "'\\n\\nThe capital of South Africa is Pretoria.'"
      ]
     },
     "execution_count": 23,
     "metadata": {},
     "output_type": "execute_result"
    }
   ],
   "source": [
    "from langchain.chains import LLMChain\n",
    "chain=LLMChain(llm=llms,prompt=prompt_template)\n",
    "chain.run(\"South Africa\")"
   ]
  },
  {
   "cell_type": "markdown",
   "metadata": {},
   "source": [
    "### Combining multiple chains using sequential chain\n"
   ]
  },
  {
   "cell_type": "code",
   "execution_count": 25,
   "metadata": {},
   "outputs": [],
   "source": [
    "capital_template=PromptTemplate(input_variables=[\"country\"],\n",
    "                                template=\"what is the capital of {country}?\",temperature=0.9)\n",
    "capital_chain=LLMChain(llm=llms,prompt=capital_template)\n",
    "\n",
    "famous_template=PromptTemplate(input_variables=[\"capital\"],template=\"what is {capital_chain} famous for?\",temperature=0.9)\n",
    "famous_chain=LLMChain(llm=llms,prompt=famous_template)\n"
   ]
  },
  {
   "cell_type": "code",
   "execution_count": 26,
   "metadata": {},
   "outputs": [
    {
     "data": {
      "text/plain": [
       "'\\n\\nPretoria is famous for being the administrative capital of South Africa and for its beautiful jacaranda trees that bloom in October. It is also home to the Union Buildings, which is the official seat of the South African government and a popular tourist attraction. Additionally, Pretoria is known for its diverse culture, with influences from Afrikaans, English, and various African ethnic groups. It is also a hub for education, with several universities and research institutions located in the city.'"
      ]
     },
     "execution_count": 26,
     "metadata": {},
     "output_type": "execute_result"
    }
   ],
   "source": [
    "from langchain.chains import SimpleSequentialChain\n",
    "chain=SimpleSequentialChain(chains=[capital_chain,famous_chain])\n",
    "chain.run(\"South Africa\")"
   ]
  },
  {
   "cell_type": "markdown",
   "metadata": {},
   "source": [
    "### Sequential Chain"
   ]
  },
  {
   "cell_type": "code",
   "execution_count": 53,
   "metadata": {},
   "outputs": [],
   "source": [
    "capital_template=PromptTemplate(input_variables=['country'],\n",
    "                                template=\"what is the capital of {country}?\",temperature=0.9)\n",
    "capital_chain=LLMChain(llm=llms,prompt=capital_template,output_key=\"capital\")\n",
    "\n",
    "famous_template=PromptTemplate(input_variables=[\"capital\"],\n",
    "                               template=\"what is {capital} famous for?\",temperature=0.9)\n",
    "famous_chain=LLMChain(llm=llms,prompt=famous_template,output_key=\"famous\")"
   ]
  },
  {
   "cell_type": "code",
   "execution_count": 55,
   "metadata": {},
   "outputs": [],
   "source": [
    "from langchain.chains import SequentialChain\n",
    "chain=SequentialChain(chains=[capital_chain,famous_chain], input_variables=['country'],\n",
    "output_variables=['capital',\"famous\"])  \n",
    "# chain({\"country\":\"South Africa\"})"
   ]
  },
  {
   "cell_type": "code",
   "execution_count": 57,
   "metadata": {},
   "outputs": [
    {
     "data": {
      "text/plain": [
       "{'country': 'South Africa',\n",
       " 'capital': '\\n\\nThe capital of South Africa is Pretoria. However, Cape Town and Bloemfontein are also considered legislative and judicial capitals, respectively.',\n",
       " 'famous': '\\n\\nSouth Africa is famous for its diverse wildlife and safaris, beautiful landscapes such as Table Mountain and the Drakensberg Mountains, its rich history and cultural diversity, and its production of gold and diamonds. It is also well-known for its role in the fight against apartheid and its iconic leader, Nelson Mandela.'}"
      ]
     },
     "execution_count": 57,
     "metadata": {},
     "output_type": "execute_result"
    }
   ],
   "source": [
    "chain({'country':\"South Africa\"})"
   ]
  },
  {
   "cell_type": "markdown",
   "metadata": {},
   "source": [
    "### Chatmodels With ChatOpenAI"
   ]
  },
  {
   "cell_type": "code",
   "execution_count": 58,
   "metadata": {},
   "outputs": [],
   "source": [
    "from langchain.chat_models import ChatOpenAI"
   ]
  },
  {
   "cell_type": "code",
   "execution_count": 59,
   "metadata": {},
   "outputs": [],
   "source": [
    "from langchain.schema import HumanMessage,AIMessage,SystemMessage"
   ]
  },
  {
   "cell_type": "code",
   "execution_count": 88,
   "metadata": {},
   "outputs": [],
   "source": [
    "chatllm=ChatOpenAI(openai_api_key=os.environ[\"OPEN_API_KEY\"],temperature=0.6,model='gpt-3.5-turbo')"
   ]
  },
  {
   "cell_type": "code",
   "execution_count": 89,
   "metadata": {},
   "outputs": [
    {
     "data": {
      "text/plain": [
       "AIMessage(content='The capital of India is New Delhi.')"
      ]
     },
     "execution_count": 89,
     "metadata": {},
     "output_type": "execute_result"
    }
   ],
   "source": [
    "chatllm([\n",
    "    SystemMessage(content=\"Hello, I am a chatbot. I am here to help you with your queries.\"),\n",
    "    HumanMessage(content=\"What is the capital of India?\")\n",
    "])"
   ]
  },
  {
   "cell_type": "markdown",
   "metadata": {},
   "source": [
    "### Prompt Template + LLM + Output Parsers"
   ]
  },
  {
   "cell_type": "code",
   "execution_count": 65,
   "metadata": {},
   "outputs": [],
   "source": [
    "from langchain.chat_models import ChatOpenAI\n",
    "from langchain.prompts import ChatPromptTemplate\n",
    "from langchain.schema import BaseOutputParser"
   ]
  },
  {
   "cell_type": "code",
   "execution_count": 67,
   "metadata": {},
   "outputs": [],
   "source": [
    "class Commaseperatedoutput(BaseOutputParser):\n",
    "    def parse(self, text:str):\n",
    "        return text.strip().split(\",\")\n",
    "    "
   ]
  },
  {
   "cell_type": "code",
   "execution_count": 90,
   "metadata": {},
   "outputs": [],
   "source": []
  },
  {
   "cell_type": "code",
   "execution_count": null,
   "metadata": {},
   "outputs": [],
   "source": [
    "\n"
   ]
  },
  {
   "cell_type": "code",
   "execution_count": null,
   "metadata": {},
   "outputs": [],
   "source": []
  }
 ],
 "metadata": {
  "kernelspec": {
   "display_name": "Python 3",
   "language": "python",
   "name": "python3"
  },
  "language_info": {
   "codemirror_mode": {
    "name": "ipython",
    "version": 3
   },
   "file_extension": ".py",
   "mimetype": "text/x-python",
   "name": "python",
   "nbconvert_exporter": "python",
   "pygments_lexer": "ipython3",
   "version": "3.11.4"
  },
  "orig_nbformat": 4
 },
 "nbformat": 4,
 "nbformat_minor": 2
}
