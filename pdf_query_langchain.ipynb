{
  "nbformat": 4,
  "nbformat_minor": 0,
  "metadata": {
    "colab": {
      "provenance": [],
      "authorship_tag": "ABX9TyM9hzZNTWW0+0JzwiAbvktC"
    },
    "kernelspec": {
      "name": "python3",
      "display_name": "Python 3"
    },
    "language_info": {
      "name": "python"
    }
  },
  "cells": [
    {
      "cell_type": "code",
      "execution_count": 1,
      "metadata": {
        "id": "pMFF6B44GCKq",
        "colab": {
          "base_uri": "https://localhost:8080/"
        },
        "outputId": "1fda8a91-6982-40ab-aff4-472b86e4bf90"
      },
      "outputs": [
        {
          "output_type": "stream",
          "name": "stdout",
          "text": [
            "\u001b[2K     \u001b[90m━━━━━━━━━━━━━━━━━━━━━━━━━━━━━━━━━━━━━━━━\u001b[0m \u001b[32m41.3/41.3 kB\u001b[0m \u001b[31m1.4 MB/s\u001b[0m eta \u001b[36m0:00:00\u001b[0m\n",
            "\u001b[2K     \u001b[90m━━━━━━━━━━━━━━━━━━━━━━━━━━━━━━━━━━━━━━━━\u001b[0m \u001b[32m510.5/510.5 kB\u001b[0m \u001b[31m17.4 MB/s\u001b[0m eta \u001b[36m0:00:00\u001b[0m\n",
            "\u001b[2K     \u001b[90m━━━━━━━━━━━━━━━━━━━━━━━━━━━━━━━━━━━━━━━━\u001b[0m \u001b[32m809.1/809.1 kB\u001b[0m \u001b[31m31.3 MB/s\u001b[0m eta \u001b[36m0:00:00\u001b[0m\n",
            "\u001b[2K     \u001b[90m━━━━━━━━━━━━━━━━━━━━━━━━━━━━━━━━━━━━━━━━\u001b[0m \u001b[32m257.5/257.5 kB\u001b[0m \u001b[31m24.5 MB/s\u001b[0m eta \u001b[36m0:00:00\u001b[0m\n",
            "\u001b[2K     \u001b[90m━━━━━━━━━━━━━━━━━━━━━━━━━━━━━━━━━━━━━━━━\u001b[0m \u001b[32m1.8/1.8 MB\u001b[0m \u001b[31m46.9 MB/s\u001b[0m eta \u001b[36m0:00:00\u001b[0m\n",
            "\u001b[2K     \u001b[90m━━━━━━━━━━━━━━━━━━━━━━━━━━━━━━━━━━━━━━━━\u001b[0m \u001b[32m18.8/18.8 MB\u001b[0m \u001b[31m36.7 MB/s\u001b[0m eta \u001b[36m0:00:00\u001b[0m\n",
            "\u001b[2K     \u001b[90m━━━━━━━━━━━━━━━━━━━━━━━━━━━━━━━━━━━━━━━━\u001b[0m \u001b[32m116.3/116.3 kB\u001b[0m \u001b[31m12.1 MB/s\u001b[0m eta \u001b[36m0:00:00\u001b[0m\n",
            "\u001b[2K     \u001b[90m━━━━━━━━━━━━━━━━━━━━━━━━━━━━━━━━━━━━━━━━\u001b[0m \u001b[32m194.1/194.1 kB\u001b[0m \u001b[31m15.0 MB/s\u001b[0m eta \u001b[36m0:00:00\u001b[0m\n",
            "\u001b[2K     \u001b[90m━━━━━━━━━━━━━━━━━━━━━━━━━━━━━━━━━━━━━━━━\u001b[0m \u001b[32m134.8/134.8 kB\u001b[0m \u001b[31m13.8 MB/s\u001b[0m eta \u001b[36m0:00:00\u001b[0m\n",
            "\u001b[2K     \u001b[90m━━━━━━━━━━━━━━━━━━━━━━━━━━━━━━━━━━━━━━━━\u001b[0m \u001b[32m1.8/1.8 MB\u001b[0m \u001b[31m51.0 MB/s\u001b[0m eta \u001b[36m0:00:00\u001b[0m\n",
            "\u001b[2K     \u001b[90m━━━━━━━━━━━━━━━━━━━━━━━━━━━━━━━━━━━━━━━━\u001b[0m \u001b[32m258.8/258.8 kB\u001b[0m \u001b[31m18.7 MB/s\u001b[0m eta \u001b[36m0:00:00\u001b[0m\n",
            "\u001b[2K     \u001b[90m━━━━━━━━━━━━━━━━━━━━━━━━━━━━━━━━━━━━━━━━\u001b[0m \u001b[32m67.6/67.6 kB\u001b[0m \u001b[31m7.1 MB/s\u001b[0m eta \u001b[36m0:00:00\u001b[0m\n",
            "\u001b[2K     \u001b[90m━━━━━━━━━━━━━━━━━━━━━━━━━━━━━━━━━━━━━━━━\u001b[0m \u001b[32m75.6/75.6 kB\u001b[0m \u001b[31m8.3 MB/s\u001b[0m eta \u001b[36m0:00:00\u001b[0m\n",
            "\u001b[2K     \u001b[90m━━━━━━━━━━━━━━━━━━━━━━━━━━━━━━━━━━━━━━━━\u001b[0m \u001b[32m49.4/49.4 kB\u001b[0m \u001b[31m5.4 MB/s\u001b[0m eta \u001b[36m0:00:00\u001b[0m\n",
            "\u001b[2K     \u001b[90m━━━━━━━━━━━━━━━━━━━━━━━━━━━━━━━━━━━━━━━━\u001b[0m \u001b[32m77.8/77.8 kB\u001b[0m \u001b[31m9.0 MB/s\u001b[0m eta \u001b[36m0:00:00\u001b[0m\n",
            "\u001b[2K     \u001b[90m━━━━━━━━━━━━━━━━━━━━━━━━━━━━━━━━━━━━━━━━\u001b[0m \u001b[32m58.3/58.3 kB\u001b[0m \u001b[31m6.5 MB/s\u001b[0m eta \u001b[36m0:00:00\u001b[0m\n",
            "\u001b[2K     \u001b[90m━━━━━━━━━━━━━━━━━━━━━━━━━━━━━━━━━━━━━━━━\u001b[0m \u001b[32m53.0/53.0 kB\u001b[0m \u001b[31m5.8 MB/s\u001b[0m eta \u001b[36m0:00:00\u001b[0m\n",
            "\u001b[2K     \u001b[90m━━━━━━━━━━━━━━━━━━━━━━━━━━━━━━━━━━━━━━━━\u001b[0m \u001b[32m138.5/138.5 kB\u001b[0m \u001b[31m13.5 MB/s\u001b[0m eta \u001b[36m0:00:00\u001b[0m\n",
            "\u001b[?25h"
          ]
        }
      ],
      "source": [
        "!pip install -q cassio datasets langchain openai tiktoken"
      ]
    },
    {
      "cell_type": "code",
      "source": [
        "from langchain.vectorstores.cassandra import Cassandra\n",
        "from langchain.indexes.vectorstore import VectorStoreIndexWrapper\n",
        "from langchain.llms import OpenAI\n",
        "#from openai import OpenAI\n",
        "from langchain.embeddings import OpenAIEmbeddings\n",
        "\n",
        "from datasets import load_dataset\n",
        "\n",
        "import cassio"
      ],
      "metadata": {
        "id": "aE9BEidJr6HI"
      },
      "execution_count": 2,
      "outputs": []
    },
    {
      "cell_type": "code",
      "source": [
        "!pip install PyPDF2"
      ],
      "metadata": {
        "colab": {
          "base_uri": "https://localhost:8080/"
        },
        "id": "s9RzFYHqsoKz",
        "outputId": "2f0c3055-3ee5-49d6-bf56-48d1df888065"
      },
      "execution_count": 3,
      "outputs": [
        {
          "output_type": "stream",
          "name": "stdout",
          "text": [
            "Collecting PyPDF2\n",
            "  Downloading pypdf2-3.0.1-py3-none-any.whl (232 kB)\n",
            "\u001b[2K     \u001b[90m━━━━━━━━━━━━━━━━━━━━━━━━━━━━━━━━━━━━━━━━\u001b[0m \u001b[32m232.6/232.6 kB\u001b[0m \u001b[31m3.2 MB/s\u001b[0m eta \u001b[36m0:00:00\u001b[0m\n",
            "\u001b[?25hInstalling collected packages: PyPDF2\n",
            "Successfully installed PyPDF2-3.0.1\n"
          ]
        }
      ]
    },
    {
      "cell_type": "code",
      "source": [
        "from PyPDF2 import PdfReader"
      ],
      "metadata": {
        "id": "Gz1TSlMItwoR"
      },
      "execution_count": 4,
      "outputs": []
    },
    {
      "cell_type": "code",
      "source": [
        "ASTRA_DB_APPLICATION_TOKEN=\"\"\n",
        "ASTRA_DB_ID=\"\"\n",
        "OPENAI_API_KEY=\"OPENAI_API_KEY\""
      ],
      "metadata": {
        "id": "lIj4ML7CuKVB"
      },
      "execution_count": 5,
      "outputs": []
    },
    {
      "cell_type": "code",
      "source": [
        "pdfreader=PdfReader('Envision.pdf')"
      ],
      "metadata": {
        "id": "1JhHhxStuz-l"
      },
      "execution_count": 6,
      "outputs": []
    },
    {
      "cell_type": "code",
      "source": [
        "from typing_extensions import Concatenate\n",
        "raw_text=''\n",
        "for i,page in enumerate(pdfreader.pages):\n",
        "  content = page.extract_text()\n",
        "  if content:\n",
        "    raw_text+=content"
      ],
      "metadata": {
        "id": "iUJAvYxdveuf"
      },
      "execution_count": 7,
      "outputs": []
    },
    {
      "cell_type": "code",
      "source": [
        "print(raw_text)"
      ],
      "metadata": {
        "colab": {
          "base_uri": "https://localhost:8080/"
        },
        "id": "mjS3oaVvEuFV",
        "outputId": "c063a37f-5c78-4297-bf40-664a345497e5"
      },
      "execution_count": 8,
      "outputs": [
        {
          "output_type": "stream",
          "name": "stdout",
          "text": [
            " \n",
            " \n",
            " \n",
            "AARUUSH’ 22  \n",
            " \n",
            " \n",
            " \n",
            " \n",
            "Administrators: Atigya Dubey  \n",
            "Kshitij Ramrakhiani  \n",
            "Vedant Anandan \n",
            "Email: administrator@aaruush.net  \n",
            "High Impact Manager: Ritika Agarwal  \n",
            "Email: highimpact@aaruush.org  \n",
            "Event Organisers: Aditi Sahu , Dushyant Betala  \n",
            "Email: event.org@aaruush.net  \n",
            "Team Development Organisers:  Rachana Komanduri, Sumedha Banthia:  \n",
            "Email: teamdev@aaruush.org  \n",
            " \n",
            " \n",
            " \n",
            " \n",
            " \n",
            " \n",
            " \n",
            "  \n",
            " \n",
            " \n",
            " \n",
            " \n",
            "DOMAINS:  \n",
            "1) Architecture:  \n",
            "Architecture encompasses elements related to planning, design, light usage, space, layouts, \n",
            "computer modeling software, and programming that help digitalize architecture’s core \n",
            "processes, thereby providing a comprehensive experience of modern architecture. You \n",
            "need planning, innovation, efficiency, design enhancement, and magic ensues. \n",
            "Organiser: Priyanshu Rishi \n",
            "Email: architecture@aaruush.net  \n",
            "2) Bluebook:  \n",
            "Bluebook is a consortium of bioengineering, life sciences, and chemistry events. Each \n",
            "event makes sure that the participants enjoy and learn new concepts that they were \n",
            "previously unaware of through quizzes and FAQ rounds. \n",
            "Organiser: Md. Amsath Haseef  \n",
            "Email: bluebook@aaruush.net  \n",
            "3) Digital Design:  \n",
            "Digital Design is the domain of problem-solving through images, words, or graphic forms. \n",
            "It is a subset of visual communication and graphic design. It includes the work of various \n",
            "fields such as digital imaging, videography, modern art, music, costume design, visual \n",
            "effects, animation, software editing of ads, and the addition of computing techniques perks \n",
            "up the charm. It is a uniquely crafted domain for all the sound and visual artists at heart. \n",
            "Organiser: Swarnima Gupta  \n",
            "Email: digitaldesign@aaruush.org   \n",
            " \n",
            " \n",
            "4) Electrizite:  \n",
            "This domain makes provisions for the participants to be bombarded by a stream of \n",
            "resistors, diodes, capacitors, and inductors. The knowledge of topics like artificial \n",
            "intelligence, microprocessors, integrated circuitry, embedded systems, etc., is the order of \n",
            "the course. \n",
            "Organiser: Priyanshu Rishi \n",
            "Email: electrizite@aaruush.net  \n",
            "5) Fundaz: \n",
            "Fundaz deals with the basic concepts of science spiked with entertainment. If puzzles, \n",
            "quizzes, logical reasoning, and crosswords are your interests, this domain is where you \n",
            "should be! \n",
            "Organiser: Aditi Sahu  \n",
            "Email: fundaz@aaruush.net  \n",
            "6) Konstruktion & Canoe Challenge:  \n",
            "Konstruktion puts together events focused on civil engineering and infrastructure, \n",
            "highlighting the part of the spectrum of designing, fabricating, and practical testing of \n",
            "models using the CAD software as the mandate. The Canoe challenge is a junction for \n",
            "the best of minds that requires immense patience and hard work where the teams design, \n",
            "analyze models and cast a lightweight concrete canoe within a limited time frame. \n",
            "Organiser: Viren Jagwani  \n",
            "Email: konstruktion@aaruush.net  \n",
            "  \n",
            " \n",
            " \n",
            "7) Machination:  \n",
            "Machination is a domain that covers the various technical aspects related to the school of \n",
            "mechanical and automobile engineering. This domain involves various subjects such as \n",
            "designing machines, drawing blueprints, adding and improving various automobiles' \n",
            "technical aspects, and bringing in solutions for problems by applying various techniques \n",
            "revolving around contraption functions. \n",
            "Organiser: Arkaprava Ray  \n",
            "Email: machination@aaruush.net  \n",
            "8) Magefficie and Startups:  \n",
            "Magefficie and startups encompass various events that test a student's business and \n",
            "management skills. Marketing, finance, share markets, entrepreneurs, startups, corporate \n",
            "strategies, and business planning form the basics of this domain. \n",
            "Organiser: Dushyant Betala \n",
            "Email: magefficie@aaruush.net  \n",
            "9) Online: \n",
            "This domain provides an excellent opportunity to compete in events around the World \n",
            "Wide Web. This domain is all about participating in online events, including gaming, \n",
            "web designing, poster & logo making, photography, and app development. This is the \n",
            "platform where one could sit comfortably back at home and enjoy the essence of \n",
            "Aaruush. \n",
            "Organiser: Viren Jagwani \n",
            "Email: online@aaruush.net   \n",
            " \n",
            "  \n",
            " \n",
            " \n",
            "10) Praesentatio:  \n",
            "This domain is slightly different, unique, maybe pompous, but greatly pertinacious. It is all \n",
            "about presenting yourself in whatever way you want to. Not limited to J.A.M.s, debates, or \n",
            "verbal expressions, but any other way you can fathom. Praesentatio allows you to express \n",
            "yourself and what you believe in. \n",
            "Organiser: Harsh Bardhan \n",
            "Email: praesentatio@aaruush.net  \n",
            "11) Robogyan:  \n",
            "Robogyan allows you to stand head-to-head with the advancing technology. All of us are \n",
            "fascinated by robots because they are the machines that can mimic life, so be innovative \n",
            "and formulate your ideas to coordinate the events. Manual, semi-autonomous and \n",
            "autonomous robotic events are all accepted. \n",
            "Organiser: Swarnima Gupta \n",
            "Email: robogyan@aaruush.net  \n",
            "12) Vimanaz:  \n",
            "This domain showcases everything that “flying” or “aviation” associates itself with. It is \n",
            "concerned with development, design, and research. It also covers the aerodynamic \n",
            "characteristics. It is a canvas for those who always want to soar into grander horizons. \n",
            "Organiser: Md. Amsath Haseef \n",
            "Email: vimanaz@aaruush.net  \n",
            " \n",
            " \n",
            "  \n",
            " \n",
            " \n",
            "13) X-Zone and E-Sports:  \n",
            "X-Zone and E-Sports mainly deal with events based on off-beat interests like \n",
            "brainstorming, treasure –hunts, gaming, etc. As the future of sporting is E-Sports, this \n",
            "domain focuses on all the intricacies of gaming and making teams that get to represent \n",
            "Team Aaruush on other platforms. These events are fun-based and offer respite from the \n",
            "technical mumbo-jumbo. \n",
            "Organiser: Harsh Bardhan  \n",
            "Email: xzone@aaruush.net  \n",
            "14) Yuddhame:  \n",
            "Yuddhame concentrates on events that deal with testing software and hardware skills, \n",
            "web designing, operating systems, mobile apps, android, distributed computing, and \n",
            "networking and communication techniques. \n",
            "Organiser: Sanjukta Sen  \n",
            "Email: yuddhame@aaruush.net  \n",
            " \n",
            " \n",
            " \n",
            " \n",
            " \n",
            " \n",
            "  \n",
            " \n",
            " \n",
            "COMMITTEES:  \n",
            "1) Alumni Relations:  \n",
            "The Alumni Relations Committee functions to strengthen the bond between the institution \n",
            "and alumnus for a mutually beneficial relationship. The committee helps the alumnus \n",
            "interface with the students and organization through events such as talks, workshops, and \n",
            "guest lectures. Apart from the unique experience of networking and interacting with top-\n",
            "notch officials and leading decision-makers, the committee also teaches one how to foster \n",
            "and nurture a strong bond between the organization and its alumni. \n",
            "Organisers:  Anshul Tyagi and Shreya Saha Roy  \n",
            "Email: alumnirelations@aaruush.org  \n",
            "2) Corporate Strategy & Implementation:  \n",
            "Corporate Strategy and Implementation (CSI) is a dynamic committee that is the on-\n",
            "ground army of Aaruush. Responsible for internal and external publicity, strategizing work \n",
            "plans, and executing them, CSI is the committee that gives one hands-on experience \n",
            "working in the corporate world with big teams and even bigger ideas. The committee also \n",
            "takes care of maintaining the digital presence of the fest while on the ground promoting \n",
            "events and its sales. CSI is also responsible for Crowd Management and Crisis \n",
            "Management. \n",
            "Organisers: Pranav Khandelwal, Ritika Agarwal, and Siddhant Priyadarshi  \n",
            "Email: csiorg@aaruush.net  \n",
            " \n",
            " \n",
            "  \n",
            " \n",
            " \n",
            "3) Challenges & Championships:  \n",
            "This committee showcases a series of challenging competitions, testing your technical \n",
            "skills and ability to adapt to challenging constraints. Mind-boggling, out-of-the-box \n",
            "competitions await you in the form of Hackathons, Robotics and Design Challenges, etc. \n",
            "The Championships include mega-events like Robo-Wars, RC Cars, Drone Racing, \n",
            "Coding, and Sports. \n",
            "Organisers: Aparajita Sahoo, Divyanshu Chourasiya, Nurukurthi Veera Venkata  \n",
            "Ganesh, and Sahaj Ghatiya \n",
            "Email: championship@aaruush.net  \n",
            "4) Creatives:  \n",
            "Creatives have various subdomains, including photography, videography, graphic \n",
            "designing, VFX, music, video editing, and scripting. It gives you the platform to get the \n",
            "wheels of your artsy left-brain spinning and implement whatever you can visualize. Apply \n",
            "right away if you feel like your larger-than-life vision needs makers. \n",
            "Organiser: Md. Fardin Hossain, Ujjwal Puri and Utkarsh Sharma  \n",
            "Email: creatives@aaruush.net  \n",
            "5) Deco and Arts:  \n",
            "Deco and Arts are the committee that ensures Aaruush comes easy and pleasant to the eyes \n",
            "of the onlooker. Everything is covered by the Deco and Arts Committee, from artistic \n",
            "banners, artwork, structures, and models for decoration alongside flags, lights, and colors. \n",
            "Organisers: Arpita Muleva, Preetish Reddy, and Thotakura Venkat Gandhi Varma  \n",
            "Email: deco_arts@aaruush.net  \n",
            " \n",
            "  \n",
            " \n",
            " \n",
            "6) Finance: \n",
            "The Finance Committee examines the accounts, scrutinizes the proposals for \n",
            "expenditures, and submits the annual budget for the Aaruush. No expenditure in the \n",
            "budget is incurred without the prior approval of the Finance Committee, which fixes \n",
            "limits for the total expenditure for the year based on the resources and the income. \n",
            "Organisers: G Srikar Reddy and Siddhant Priyadarshi  \n",
            "Email: finance_hr@aaruush.net  \n",
            "7) Highlights:  \n",
            "The committee takes care of all the  Guest Lectures, Aaruush Nites, Expos, exhibitions, \n",
            "and dignitaries that become a part of this National-Level fest. Highlights are responsible \n",
            "for the hospitality and transportation of the guests. The guest accommodation and \n",
            "fulfilling all the requirements that surround the guest. \n",
            "Organisers: Shreshtha Kumar Pathak and Shreya Saha Roy  \n",
            "Email: highlights@aaruush.net  \n",
            "8) Initiatives:  \n",
            "Initiatives is a committee that embodies new ideas, projects, and initiatives that will create \n",
            "a difference. It promises to bring out the soft and humanitarian side of you in the pursuit of \n",
            "taking our fest to higher echelons of success. \n",
            "Organisers: Anshul Tyagi, Arkaprava Ray, and Sumedha Banthia  \n",
            "Email: initiatives@aaruush.net  \n",
            " \n",
            "  \n",
            " \n",
            " \n",
            "9) Operations and Resource Management:  \n",
            "The Operations and Resource Management (ORM) Committee is in charge of all \n",
            "resource requirements and their management, permissions for the team, and those \n",
            "required for the smooth flow of all the events. It is responsible for carrying out \n",
            "operations, fulfilling requirements, obtaining permissions, controlling the crowd, \n",
            "performing crisis management, brainstorming, and innovating solutions for event \n",
            "management. \n",
            "Organisers: Karaka Rahul and Nurukurthi Veera Venkata Ganesh  \n",
            "Email: orm@aaruush.net  \n",
            "10) Outreach:  \n",
            "The Outreach Committee functions in collaboration with other colleges and universities by \n",
            "conducting events modeled by committees and domains to represent Aaruush as a brand \n",
            "across the entire nation. These events are held to provide experience to the participants. \n",
            "Establishing and maintaining a good professional relationship with other schools, \n",
            "universities, institutions, and representatives is also critical for the Outreach work profile. \n",
            "Organiser: Abhishek Arora  \n",
            "Email: outreach@aaruush.org  \n",
            "11) Public Relations:  \n",
            "Public Relations in Aaruush are a distinctive management body that helps establish and \n",
            "maintain lines of communication between the organization and its public. It includes \n",
            "content writing, documenting, achieving certified patronages and accreditations, \n",
            "anchoring, etc. It is divided into four sub-divisions: Letters, Documentation, NGOs, and \n",
            "Media. Media builds an individual's interpersonal and public speaking skills, addressing a \n",
            "crowd of thousands to giving our voice off-screen for podcasts and radio. It enables one to \n",
            "explore their creative side and make it hyper-useful to write scripts, screenplays, and  \n",
            " \n",
            " \n",
            "sketches for Aaruush, record vlogs, and conduct interviews of the myriad of guests joining \n",
            "us for the fest. \n",
            "Organisers: Abhilasha, Jishnu Kumar Srivastava and Stuti Chauhan  \n",
            "Email: pro@aaruush.net  \n",
            "12) Quality Assurance:  \n",
            "The main aim of Quality Assurance is to maintain the desired level of quality of the fest \n",
            "that we uphold and to strive forward and refine it in every step. It comprises data analysis, \n",
            "report writing, required follow-up during implementation, and accommodation of external \n",
            "participants during the fest. One of the significant job profiles of the committee while \n",
            "maintaining the quality is ideating and executing GWR. \n",
            "Organisers: Anubhav Mathur, Gayatri Ajith, and Stuti Chauhan  \n",
            "Email: qa@aaruush.net  \n",
            "13) Sponsorship & Marketing:  \n",
            "From having corporate meetings with various professionals to bringing sponsors and \n",
            "implementing marketing ideas, the committee attempts to deliver more than a drive-by \n",
            "impression. The committee expects potential members to strategize the various \n",
            "marketing tactics to shape various business deals around the fest. \n",
            "Organisers: Abhilakshit Kathait, Arnav Sharma, and Rachana Komanduri  \n",
            "Email: sponsorship@aaruush.net  \n",
            " \n",
            " \n",
            "  \n",
            " \n",
            " \n",
            "14) Workshops  \n",
            "The committee conceptualizes design and conducts workshops on various technology \n",
            "fields in collaboration with big organizations across the country. Workshops are also \n",
            "responsible for the Common Registrations before the main Aaruush Days, and the \n",
            "distribution of certificates is taken care of by the committee. \n",
            "Organisers: Abhishek Arora, Arnav Sharma, and Jishnu Kumar Srivastava  \n",
            "Email: workshops@aaruush.org  \n",
            "TEAM: \n",
            "1) Team Envision:  \n",
            "Team Envision is a Multidisciplinary Technical Team of Aaruush that aims to provide \n",
            "solutions to most campus and societal issues. Team Envision participated in Rajasthan \n",
            "Hackathon, Mozofest Hackathon, and Accenture Blockchain Hackathon, wherein we \n",
            "presented hacks based on Campus and Societal Issues, which won accolades. Team \n",
            "Envision is a consortium of AI, IoT, Blockchain, Web & App Developers, Visual \n",
            "Designers, and Electrical and Mechanical Engineers who work closely to ideate, design, \n",
            "fabricate and develop products to tackle campus and societal issues and problems. These \n",
            "products can also take a form of a research paper that can be published in renowned \n",
            "international conferences or can be filed for patent. It is a team where we convert vision to \n",
            "reality. Bring us your ideas, and we will Envision them together. \n",
            "Organisers: Dhanya Sri Aravapalli, Md. Fardin Hossain, Rishabh Gupta, Sahaj  \n",
            "Ghatiya and Sanjukta Sen  \n",
            "Email: envision@aaruush.org  \n"
          ]
        }
      ]
    },
    {
      "cell_type": "markdown",
      "source": [
        "connection to database"
      ],
      "metadata": {
        "id": "aOMlkoEVF56d"
      }
    },
    {
      "cell_type": "code",
      "source": [
        "cassio.init(token=ASTRA_DB_APPLICATION_TOKEN, database_id=ASTRA_DB_ID)"
      ],
      "metadata": {
        "colab": {
          "base_uri": "https://localhost:8080/"
        },
        "id": "PAc9IiujGCRj",
        "outputId": "de57f073-bc2d-4a3a-d7c9-8286a5cd09bf"
      },
      "execution_count": 9,
      "outputs": [
        {
          "output_type": "stream",
          "name": "stderr",
          "text": [
            "WARNING:cassandra.cluster:Downgrading core protocol version from 66 to 65 for 78459230-d954-46e9-9f6a-07d9a7362e61-us-east1.db.astra.datastax.com:29042:d9c37237-6e7b-4ddd-9ec3-07c71159b530. To avoid this, it is best practice to explicitly set Cluster(protocol_version) to the version supported by your cluster. http://datastax.github.io/python-driver/api/cassandra/cluster.html#cassandra.cluster.Cluster.protocol_version\n",
            "WARNING:cassandra.cluster:Downgrading core protocol version from 65 to 5 for 78459230-d954-46e9-9f6a-07d9a7362e61-us-east1.db.astra.datastax.com:29042:d9c37237-6e7b-4ddd-9ec3-07c71159b530. To avoid this, it is best practice to explicitly set Cluster(protocol_version) to the version supported by your cluster. http://datastax.github.io/python-driver/api/cassandra/cluster.html#cassandra.cluster.Cluster.protocol_version\n",
            "ERROR:cassandra.connection:Closing connection <AsyncoreConnection(135854119879440) 78459230-d954-46e9-9f6a-07d9a7362e61-us-east1.db.astra.datastax.com:29042:d9c37237-6e7b-4ddd-9ec3-07c71159b530> due to protocol error: Error from server: code=000a [Protocol error] message=\"Beta version of the protocol used (5/v5-beta), but USE_BETA flag is unset\"\n",
            "WARNING:cassandra.cluster:Downgrading core protocol version from 5 to 4 for 78459230-d954-46e9-9f6a-07d9a7362e61-us-east1.db.astra.datastax.com:29042:d9c37237-6e7b-4ddd-9ec3-07c71159b530. To avoid this, it is best practice to explicitly set Cluster(protocol_version) to the version supported by your cluster. http://datastax.github.io/python-driver/api/cassandra/cluster.html#cassandra.cluster.Cluster.protocol_version\n"
          ]
        }
      ]
    },
    {
      "cell_type": "markdown",
      "source": [
        "LangChain Embedding or LLM object"
      ],
      "metadata": {
        "id": "rE_VxOTqQnPV"
      }
    },
    {
      "cell_type": "code",
      "source": [
        "llm= OpenAI(openai_api_key='OPENAI_API_KEY')\n"
      ],
      "metadata": {
        "id": "BIp83rxbGGJI"
      },
      "execution_count": 11,
      "outputs": []
    },
    {
      "cell_type": "code",
      "source": [
        "embedding = OpenAIEmbeddings(openai_api_key='OPENAI_API_KEY')"
      ],
      "metadata": {
        "id": "h2fD7n0iYLX6"
      },
      "execution_count": 13,
      "outputs": []
    },
    {
      "cell_type": "code",
      "source": [
        "astra_vector_store = Cassandra(\n",
        "    embedding=embedding,\n",
        "    table_name='qa_mini_demo',\n",
        "    session=None,\n",
        "    keyspace=None,\n",
        ")"
      ],
      "metadata": {
        "id": "ij09m-EQWY8z"
      },
      "execution_count": 14,
      "outputs": []
    },
    {
      "cell_type": "code",
      "source": [
        "from langchain.text_splitter import CharacterTextSplitter\n",
        "text_splitter = CharacterTextSplitter(\n",
        "    separator=\"\\n\",\n",
        "    chunk_size=800,\n",
        "    chunk_overlap=200,\n",
        "    length_function=len,\n",
        ")\n",
        "\n",
        "texts = text_splitter.split_text(raw_text)"
      ],
      "metadata": {
        "id": "Vbub-_1rWsp2"
      },
      "execution_count": 15,
      "outputs": []
    },
    {
      "cell_type": "code",
      "source": [
        "texts[:50]"
      ],
      "metadata": {
        "colab": {
          "base_uri": "https://localhost:8080/"
        },
        "id": "7L7KyWNyXw5w",
        "outputId": "2f8cda37-ccf6-45db-cc33-f5d08df4ce86"
      },
      "execution_count": 16,
      "outputs": [
        {
          "output_type": "execute_result",
          "data": {
            "text/plain": [
              "['AARUUSH’ 22  \\n \\n \\n \\n \\nAdministrators: Atigya Dubey  \\nKshitij Ramrakhiani  \\nVedant Anandan \\nEmail: administrator@aaruush.net  \\nHigh Impact Manager: Ritika Agarwal  \\nEmail: highimpact@aaruush.org  \\nEvent Organisers: Aditi Sahu , Dushyant Betala  \\nEmail: event.org@aaruush.net  \\nTeam Development Organisers:  Rachana Komanduri, Sumedha Banthia:  \\nEmail: teamdev@aaruush.org  \\n \\n \\n \\n \\n \\n \\n \\n  \\n \\n \\n \\n \\nDOMAINS:  \\n1) Architecture:  \\nArchitecture encompasses elements related to planning, design, light usage, space, layouts, \\ncomputer modeling software, and programming that help digitalize architecture’s core \\nprocesses, thereby providing a comprehensive experience of modern architecture. You \\nneed planning, innovation, efficiency, design enhancement, and magic ensues.',\n",
              " 'processes, thereby providing a comprehensive experience of modern architecture. You \\nneed planning, innovation, efficiency, design enhancement, and magic ensues. \\nOrganiser: Priyanshu Rishi \\nEmail: architecture@aaruush.net  \\n2) Bluebook:  \\nBluebook is a consortium of bioengineering, life sciences, and chemistry events. Each \\nevent makes sure that the participants enjoy and learn new concepts that they were \\npreviously unaware of through quizzes and FAQ rounds. \\nOrganiser: Md. Amsath Haseef  \\nEmail: bluebook@aaruush.net  \\n3) Digital Design:  \\nDigital Design is the domain of problem-solving through images, words, or graphic forms. \\nIt is a subset of visual communication and graphic design. It includes the work of various',\n",
              " 'Digital Design is the domain of problem-solving through images, words, or graphic forms. \\nIt is a subset of visual communication and graphic design. It includes the work of various \\nfields such as digital imaging, videography, modern art, music, costume design, visual \\neffects, animation, software editing of ads, and the addition of computing techniques perks \\nup the charm. It is a uniquely crafted domain for all the sound and visual artists at heart. \\nOrganiser: Swarnima Gupta  \\nEmail: digitaldesign@aaruush.org   \\n \\n \\n4) Electrizite:  \\nThis domain makes provisions for the participants to be bombarded by a stream of \\nresistors, diodes, capacitors, and inductors. The knowledge of topics like artificial',\n",
              " '4) Electrizite:  \\nThis domain makes provisions for the participants to be bombarded by a stream of \\nresistors, diodes, capacitors, and inductors. The knowledge of topics like artificial \\nintelligence, microprocessors, integrated circuitry, embedded systems, etc., is the order of \\nthe course. \\nOrganiser: Priyanshu Rishi \\nEmail: electrizite@aaruush.net  \\n5) Fundaz: \\nFundaz deals with the basic concepts of science spiked with entertainment. If puzzles, \\nquizzes, logical reasoning, and crosswords are your interests, this domain is where you \\nshould be! \\nOrganiser: Aditi Sahu  \\nEmail: fundaz@aaruush.net  \\n6) Konstruktion & Canoe Challenge:  \\nKonstruktion puts together events focused on civil engineering and infrastructure,',\n",
              " 'should be! \\nOrganiser: Aditi Sahu  \\nEmail: fundaz@aaruush.net  \\n6) Konstruktion & Canoe Challenge:  \\nKonstruktion puts together events focused on civil engineering and infrastructure, \\nhighlighting the part of the spectrum of designing, fabricating, and practical testing of \\nmodels using the CAD software as the mandate. The Canoe challenge is a junction for \\nthe best of minds that requires immense patience and hard work where the teams design, \\nanalyze models and cast a lightweight concrete canoe within a limited time frame. \\nOrganiser: Viren Jagwani  \\nEmail: konstruktion@aaruush.net  \\n  \\n \\n \\n7) Machination:  \\nMachination is a domain that covers the various technical aspects related to the school of \\nmechanical and automobile engineering. This domain involves various subjects such as',\n",
              " \"7) Machination:  \\nMachination is a domain that covers the various technical aspects related to the school of \\nmechanical and automobile engineering. This domain involves various subjects such as \\ndesigning machines, drawing blueprints, adding and improving various automobiles' \\ntechnical aspects, and bringing in solutions for problems by applying various techniques \\nrevolving around contraption functions. \\nOrganiser: Arkaprava Ray  \\nEmail: machination@aaruush.net  \\n8) Magefficie and Startups:  \\nMagefficie and startups encompass various events that test a student's business and \\nmanagement skills. Marketing, finance, share markets, entrepreneurs, startups, corporate \\nstrategies, and business planning form the basics of this domain. \\nOrganiser: Dushyant Betala\",\n",
              " 'management skills. Marketing, finance, share markets, entrepreneurs, startups, corporate \\nstrategies, and business planning form the basics of this domain. \\nOrganiser: Dushyant Betala \\nEmail: magefficie@aaruush.net  \\n9) Online: \\nThis domain provides an excellent opportunity to compete in events around the World \\nWide Web. This domain is all about participating in online events, including gaming, \\nweb designing, poster & logo making, photography, and app development. This is the \\nplatform where one could sit comfortably back at home and enjoy the essence of \\nAaruush. \\nOrganiser: Viren Jagwani \\nEmail: online@aaruush.net   \\n \\n  \\n \\n \\n10) Praesentatio:  \\nThis domain is slightly different, unique, maybe pompous, but greatly pertinacious. It is all',\n",
              " 'Aaruush. \\nOrganiser: Viren Jagwani \\nEmail: online@aaruush.net   \\n \\n  \\n \\n \\n10) Praesentatio:  \\nThis domain is slightly different, unique, maybe pompous, but greatly pertinacious. It is all \\nabout presenting yourself in whatever way you want to. Not limited to J.A.M.s, debates, or \\nverbal expressions, but any other way you can fathom. Praesentatio allows you to express \\nyourself and what you believe in. \\nOrganiser: Harsh Bardhan \\nEmail: praesentatio@aaruush.net  \\n11) Robogyan:  \\nRobogyan allows you to stand head-to-head with the advancing technology. All of us are \\nfascinated by robots because they are the machines that can mimic life, so be innovative \\nand formulate your ideas to coordinate the events. Manual, semi-autonomous and \\nautonomous robotic events are all accepted.',\n",
              " 'and formulate your ideas to coordinate the events. Manual, semi-autonomous and \\nautonomous robotic events are all accepted. \\nOrganiser: Swarnima Gupta \\nEmail: robogyan@aaruush.net  \\n12) Vimanaz:  \\nThis domain showcases everything that “flying” or “aviation” associates itself with. It is \\nconcerned with development, design, and research. It also covers the aerodynamic \\ncharacteristics. It is a canvas for those who always want to soar into grander horizons. \\nOrganiser: Md. Amsath Haseef \\nEmail: vimanaz@aaruush.net  \\n \\n \\n  \\n \\n \\n13) X-Zone and E-Sports:  \\nX-Zone and E-Sports mainly deal with events based on off-beat interests like \\nbrainstorming, treasure –hunts, gaming, etc. As the future of sporting is E-Sports, this',\n",
              " '13) X-Zone and E-Sports:  \\nX-Zone and E-Sports mainly deal with events based on off-beat interests like \\nbrainstorming, treasure –hunts, gaming, etc. As the future of sporting is E-Sports, this \\ndomain focuses on all the intricacies of gaming and making teams that get to represent \\nTeam Aaruush on other platforms. These events are fun-based and offer respite from the \\ntechnical mumbo-jumbo. \\nOrganiser: Harsh Bardhan  \\nEmail: xzone@aaruush.net  \\n14) Yuddhame:  \\nYuddhame concentrates on events that deal with testing software and hardware skills, \\nweb designing, operating systems, mobile apps, android, distributed computing, and \\nnetworking and communication techniques. \\nOrganiser: Sanjukta Sen  \\nEmail: yuddhame@aaruush.net  \\n \\n \\n \\n \\n \\n \\n  \\n \\n \\nCOMMITTEES:  \\n1) Alumni Relations:',\n",
              " 'networking and communication techniques. \\nOrganiser: Sanjukta Sen  \\nEmail: yuddhame@aaruush.net  \\n \\n \\n \\n \\n \\n \\n  \\n \\n \\nCOMMITTEES:  \\n1) Alumni Relations:  \\nThe Alumni Relations Committee functions to strengthen the bond between the institution \\nand alumnus for a mutually beneficial relationship. The committee helps the alumnus \\ninterface with the students and organization through events such as talks, workshops, and \\nguest lectures. Apart from the unique experience of networking and interacting with top-\\nnotch officials and leading decision-makers, the committee also teaches one how to foster \\nand nurture a strong bond between the organization and its alumni. \\nOrganisers:  Anshul Tyagi and Shreya Saha Roy  \\nEmail: alumnirelations@aaruush.org  \\n2) Corporate Strategy & Implementation:',\n",
              " 'and nurture a strong bond between the organization and its alumni. \\nOrganisers:  Anshul Tyagi and Shreya Saha Roy  \\nEmail: alumnirelations@aaruush.org  \\n2) Corporate Strategy & Implementation:  \\nCorporate Strategy and Implementation (CSI) is a dynamic committee that is the on-\\nground army of Aaruush. Responsible for internal and external publicity, strategizing work \\nplans, and executing them, CSI is the committee that gives one hands-on experience \\nworking in the corporate world with big teams and even bigger ideas. The committee also \\ntakes care of maintaining the digital presence of the fest while on the ground promoting \\nevents and its sales. CSI is also responsible for Crowd Management and Crisis \\nManagement. \\nOrganisers: Pranav Khandelwal, Ritika Agarwal, and Siddhant Priyadarshi',\n",
              " 'events and its sales. CSI is also responsible for Crowd Management and Crisis \\nManagement. \\nOrganisers: Pranav Khandelwal, Ritika Agarwal, and Siddhant Priyadarshi  \\nEmail: csiorg@aaruush.net  \\n \\n \\n  \\n \\n \\n3) Challenges & Championships:  \\nThis committee showcases a series of challenging competitions, testing your technical \\nskills and ability to adapt to challenging constraints. Mind-boggling, out-of-the-box \\ncompetitions await you in the form of Hackathons, Robotics and Design Challenges, etc. \\nThe Championships include mega-events like Robo-Wars, RC Cars, Drone Racing, \\nCoding, and Sports. \\nOrganisers: Aparajita Sahoo, Divyanshu Chourasiya, Nurukurthi Veera Venkata  \\nGanesh, and Sahaj Ghatiya \\nEmail: championship@aaruush.net  \\n4) Creatives:',\n",
              " 'Coding, and Sports. \\nOrganisers: Aparajita Sahoo, Divyanshu Chourasiya, Nurukurthi Veera Venkata  \\nGanesh, and Sahaj Ghatiya \\nEmail: championship@aaruush.net  \\n4) Creatives:  \\nCreatives have various subdomains, including photography, videography, graphic \\ndesigning, VFX, music, video editing, and scripting. It gives you the platform to get the \\nwheels of your artsy left-brain spinning and implement whatever you can visualize. Apply \\nright away if you feel like your larger-than-life vision needs makers. \\nOrganiser: Md. Fardin Hossain, Ujjwal Puri and Utkarsh Sharma  \\nEmail: creatives@aaruush.net  \\n5) Deco and Arts:  \\nDeco and Arts are the committee that ensures Aaruush comes easy and pleasant to the eyes \\nof the onlooker. Everything is covered by the Deco and Arts Committee, from artistic',\n",
              " '5) Deco and Arts:  \\nDeco and Arts are the committee that ensures Aaruush comes easy and pleasant to the eyes \\nof the onlooker. Everything is covered by the Deco and Arts Committee, from artistic \\nbanners, artwork, structures, and models for decoration alongside flags, lights, and colors. \\nOrganisers: Arpita Muleva, Preetish Reddy, and Thotakura Venkat Gandhi Varma  \\nEmail: deco_arts@aaruush.net  \\n \\n  \\n \\n \\n6) Finance: \\nThe Finance Committee examines the accounts, scrutinizes the proposals for \\nexpenditures, and submits the annual budget for the Aaruush. No expenditure in the \\nbudget is incurred without the prior approval of the Finance Committee, which fixes \\nlimits for the total expenditure for the year based on the resources and the income.',\n",
              " 'budget is incurred without the prior approval of the Finance Committee, which fixes \\nlimits for the total expenditure for the year based on the resources and the income. \\nOrganisers: G Srikar Reddy and Siddhant Priyadarshi  \\nEmail: finance_hr@aaruush.net  \\n7) Highlights:  \\nThe committee takes care of all the  Guest Lectures, Aaruush Nites, Expos, exhibitions, \\nand dignitaries that become a part of this National-Level fest. Highlights are responsible \\nfor the hospitality and transportation of the guests. The guest accommodation and \\nfulfilling all the requirements that surround the guest. \\nOrganisers: Shreshtha Kumar Pathak and Shreya Saha Roy  \\nEmail: highlights@aaruush.net  \\n8) Initiatives:  \\nInitiatives is a committee that embodies new ideas, projects, and initiatives that will create',\n",
              " 'Email: highlights@aaruush.net  \\n8) Initiatives:  \\nInitiatives is a committee that embodies new ideas, projects, and initiatives that will create \\na difference. It promises to bring out the soft and humanitarian side of you in the pursuit of \\ntaking our fest to higher echelons of success. \\nOrganisers: Anshul Tyagi, Arkaprava Ray, and Sumedha Banthia  \\nEmail: initiatives@aaruush.net  \\n \\n  \\n \\n \\n9) Operations and Resource Management:  \\nThe Operations and Resource Management (ORM) Committee is in charge of all \\nresource requirements and their management, permissions for the team, and those \\nrequired for the smooth flow of all the events. It is responsible for carrying out \\noperations, fulfilling requirements, obtaining permissions, controlling the crowd,',\n",
              " 'required for the smooth flow of all the events. It is responsible for carrying out \\noperations, fulfilling requirements, obtaining permissions, controlling the crowd, \\nperforming crisis management, brainstorming, and innovating solutions for event \\nmanagement. \\nOrganisers: Karaka Rahul and Nurukurthi Veera Venkata Ganesh  \\nEmail: orm@aaruush.net  \\n10) Outreach:  \\nThe Outreach Committee functions in collaboration with other colleges and universities by \\nconducting events modeled by committees and domains to represent Aaruush as a brand \\nacross the entire nation. These events are held to provide experience to the participants. \\nEstablishing and maintaining a good professional relationship with other schools,',\n",
              " \"across the entire nation. These events are held to provide experience to the participants. \\nEstablishing and maintaining a good professional relationship with other schools, \\nuniversities, institutions, and representatives is also critical for the Outreach work profile. \\nOrganiser: Abhishek Arora  \\nEmail: outreach@aaruush.org  \\n11) Public Relations:  \\nPublic Relations in Aaruush are a distinctive management body that helps establish and \\nmaintain lines of communication between the organization and its public. It includes \\ncontent writing, documenting, achieving certified patronages and accreditations, \\nanchoring, etc. It is divided into four sub-divisions: Letters, Documentation, NGOs, and \\nMedia. Media builds an individual's interpersonal and public speaking skills, addressing a\",\n",
              " \"anchoring, etc. It is divided into four sub-divisions: Letters, Documentation, NGOs, and \\nMedia. Media builds an individual's interpersonal and public speaking skills, addressing a \\ncrowd of thousands to giving our voice off-screen for podcasts and radio. It enables one to \\nexplore their creative side and make it hyper-useful to write scripts, screenplays, and  \\n \\n \\nsketches for Aaruush, record vlogs, and conduct interviews of the myriad of guests joining \\nus for the fest. \\nOrganisers: Abhilasha, Jishnu Kumar Srivastava and Stuti Chauhan  \\nEmail: pro@aaruush.net  \\n12) Quality Assurance:  \\nThe main aim of Quality Assurance is to maintain the desired level of quality of the fest \\nthat we uphold and to strive forward and refine it in every step. It comprises data analysis,\",\n",
              " 'The main aim of Quality Assurance is to maintain the desired level of quality of the fest \\nthat we uphold and to strive forward and refine it in every step. It comprises data analysis, \\nreport writing, required follow-up during implementation, and accommodation of external \\nparticipants during the fest. One of the significant job profiles of the committee while \\nmaintaining the quality is ideating and executing GWR. \\nOrganisers: Anubhav Mathur, Gayatri Ajith, and Stuti Chauhan  \\nEmail: qa@aaruush.net  \\n13) Sponsorship & Marketing:  \\nFrom having corporate meetings with various professionals to bringing sponsors and \\nimplementing marketing ideas, the committee attempts to deliver more than a drive-by \\nimpression. The committee expects potential members to strategize the various',\n",
              " 'implementing marketing ideas, the committee attempts to deliver more than a drive-by \\nimpression. The committee expects potential members to strategize the various \\nmarketing tactics to shape various business deals around the fest. \\nOrganisers: Abhilakshit Kathait, Arnav Sharma, and Rachana Komanduri  \\nEmail: sponsorship@aaruush.net  \\n \\n \\n  \\n \\n \\n14) Workshops  \\nThe committee conceptualizes design and conducts workshops on various technology \\nfields in collaboration with big organizations across the country. Workshops are also \\nresponsible for the Common Registrations before the main Aaruush Days, and the \\ndistribution of certificates is taken care of by the committee. \\nOrganisers: Abhishek Arora, Arnav Sharma, and Jishnu Kumar Srivastava  \\nEmail: workshops@aaruush.org  \\nTEAM:',\n",
              " 'distribution of certificates is taken care of by the committee. \\nOrganisers: Abhishek Arora, Arnav Sharma, and Jishnu Kumar Srivastava  \\nEmail: workshops@aaruush.org  \\nTEAM: \\n1) Team Envision:  \\nTeam Envision is a Multidisciplinary Technical Team of Aaruush that aims to provide \\nsolutions to most campus and societal issues. Team Envision participated in Rajasthan \\nHackathon, Mozofest Hackathon, and Accenture Blockchain Hackathon, wherein we \\npresented hacks based on Campus and Societal Issues, which won accolades. Team \\nEnvision is a consortium of AI, IoT, Blockchain, Web & App Developers, Visual \\nDesigners, and Electrical and Mechanical Engineers who work closely to ideate, design, \\nfabricate and develop products to tackle campus and societal issues and problems. These',\n",
              " 'Designers, and Electrical and Mechanical Engineers who work closely to ideate, design, \\nfabricate and develop products to tackle campus and societal issues and problems. These \\nproducts can also take a form of a research paper that can be published in renowned \\ninternational conferences or can be filed for patent. It is a team where we convert vision to \\nreality. Bring us your ideas, and we will Envision them together. \\nOrganisers: Dhanya Sri Aravapalli, Md. Fardin Hossain, Rishabh Gupta, Sahaj  \\nGhatiya and Sanjukta Sen  \\nEmail: envision@aaruush.org']"
            ]
          },
          "metadata": {},
          "execution_count": 16
        }
      ]
    },
    {
      "cell_type": "code",
      "source": [
        "astra_vector_store.add_texts(texts[:50])\n",
        "print(\"Inserted %i headlines.\" %len(texts[:50]))\n",
        "astra_vector_index =VectorStoreIndexWrapper(vectorstore=astra_vector_store)"
      ],
      "metadata": {
        "colab": {
          "base_uri": "https://localhost:8080/"
        },
        "id": "l7hO-vPzXzcz",
        "outputId": "56cc8215-3600-4132-d1fe-99631e5937ef"
      },
      "execution_count": 17,
      "outputs": [
        {
          "output_type": "stream",
          "name": "stdout",
          "text": [
            "Inserted 24 headlines.\n"
          ]
        }
      ]
    },
    {
      "cell_type": "code",
      "source": [],
      "metadata": {
        "id": "vTrywtmlZu4-"
      },
      "execution_count": null,
      "outputs": []
    },
    {
      "cell_type": "markdown",
      "source": [
        "Q/A session start"
      ],
      "metadata": {
        "id": "3B-r2scCaQit"
      }
    },
    {
      "cell_type": "code",
      "source": [
        "f_q=True\n",
        "while True:\n",
        "  if f_q:\n",
        "    query_text=input(\"\\nEnter your Question [or type quit to exit]:\").strip()\n",
        "  else:\n",
        "    query_text =input(\"\\n What is your Next Question:\").strip()\n",
        "\n",
        "  if query_text.lower()==\"quit\":\n",
        "    break\n",
        "\n",
        "  if query_text==\"\":\n",
        "    continue\n",
        "\n",
        "  f_q=False\n",
        "\n",
        "  print(\"\\nQuestion:\\\"%s\\\"\"%query_text)\n",
        "  answer=astra_vector_index.query(query_text, llm=llm).strip()\n",
        "  print(\"answer:\\\"%s\\\"\\n\"%answer)\n",
        "\n",
        "  print(\"first doc by relevence:\")\n",
        "  for doc,score in astra_vector_store.similarity_search_with_score(query_text, k=4):\n",
        "    print(\" [%0.4f]\\\"%s...\\\"\"%(score,doc.page_content[:84]))\n"
      ],
      "metadata": {
        "colab": {
          "base_uri": "https://localhost:8080/"
        },
        "id": "KfPg7fUqaURX",
        "outputId": "0d04ebe7-e239-4e0e-b434-491ff0947ac3"
      },
      "execution_count": 18,
      "outputs": [
        {
          "output_type": "stream",
          "name": "stdout",
          "text": [
            "\n",
            "Enter your Question [or type quit to exit]:What is Aaruush?\n",
            "\n",
            "Question:\"What is Aaruush?\"\n"
          ]
        },
        {
          "output_type": "stream",
          "name": "stderr",
          "text": [
            "WARNING:cassandra.protocol:Server warning: Top-K queries can only be run with consistency level ONE / LOCAL_ONE / NODE_LOCAL. Consistency level LOCAL_QUORUM was requested. Downgrading the consistency level to LOCAL_ONE.\n"
          ]
        },
        {
          "output_type": "stream",
          "name": "stdout",
          "text": [
            "answer:\"Aaruush is an annual event organized by SRMIST that started off as a technical fest in 2007 and has since evolved into a national techno-management fest. It has a theme of \"Towards Infinity\" and a motto of \"Rising in the spirit of innovation\". It comprises of 14 committees, 14 domains, and 1 team, and is represented by a logo of a rising sun.\"\n",
            "\n",
            "first doc by relevence:\n"
          ]
        },
        {
          "output_type": "stream",
          "name": "stderr",
          "text": [
            "WARNING:cassandra.protocol:Server warning: Top-K queries can only be run with consistency level ONE / LOCAL_ONE / NODE_LOCAL. Consistency level LOCAL_QUORUM was requested. Downgrading the consistency level to LOCAL_ONE.\n"
          ]
        },
        {
          "name": "stdout",
          "output_type": "stream",
          "text": [
            " [0.9286]\"CM Guide  \n",
            " \n",
            "Introduction:  \n",
            "• Aaruush means the “First Rays of Sun”  \n",
            "• Our Theme -...\"\n",
            " [0.9286]\"CM Guide  \n",
            " \n",
            "Introduction:  \n",
            "• Aaruush means the “First Rays of Sun”  \n",
            "• Our Theme -...\"\n",
            " [0.9270]\"• It was inaugurated in 2007 by Late Ex -President Dr. APJ Abdul Kalam.  \n",
            "• In 2009,...\"\n",
            " [0.9269]\"• It was inaugurated in 2007 by Late Ex -President Dr. APJ Abdul Kalam.  \n",
            "• In 2009,...\"\n",
            "\n",
            " What is your Next Question:quit\n"
          ]
        }
      ]
    },
    {
      "cell_type": "code",
      "source": [],
      "metadata": {
        "id": "y66bwmmYxnln"
      },
      "execution_count": null,
      "outputs": []
    }
  ]
}