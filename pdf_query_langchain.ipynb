{
  "cells": [
    {
      "cell_type": "code",
      "execution_count": 1,
      "metadata": {
        "colab": {
          "base_uri": "https://localhost:8080/"
        },
        "id": "pMFF6B44GCKq",
        "outputId": "b75b4250-8a50-4494-d35f-d1509de16531"
      },
      "outputs": [
        {
          "name": "stdout",
          "output_type": "stream",
          "text": [
            "\u001b[?25l     \u001b[90m━━━━━━━━━━━━━━━━━━━━━━━━━━━━━━━━━━━━━━━━\u001b[0m \u001b[32m0.0/41.3 kB\u001b[0m \u001b[31m?\u001b[0m eta \u001b[36m-:--:--\u001b[0m\r\u001b[2K     \u001b[90m━━━━━━━━━━━━━━━━━━━━━━━━━━━━━━━━━━━━━━━━\u001b[0m \u001b[32m41.3/41.3 kB\u001b[0m \u001b[31m1.6 MB/s\u001b[0m eta \u001b[36m0:00:00\u001b[0m\n",
            "\u001b[2K     \u001b[90m━━━━━━━━━━━━━━━━━━━━━━━━━━━━━━━━━━━━━━━━\u001b[0m \u001b[32m510.5/510.5 kB\u001b[0m \u001b[31m17.7 MB/s\u001b[0m eta \u001b[36m0:00:00\u001b[0m\n",
            "\u001b[2K     \u001b[90m━━━━━━━━━━━━━━━━━━━━━━━━━━━━━━━━━━━━━━━━\u001b[0m \u001b[32m807.5/807.5 kB\u001b[0m \u001b[31m44.8 MB/s\u001b[0m eta \u001b[36m0:00:00\u001b[0m\n",
            "\u001b[2K     \u001b[90m━━━━━━━━━━━━━━━━━━━━━━━━━━━━━━━━━━━━━━━━\u001b[0m \u001b[32m227.4/227.4 kB\u001b[0m \u001b[31m19.1 MB/s\u001b[0m eta \u001b[36m0:00:00\u001b[0m\n",
            "\u001b[2K     \u001b[90m━━━━━━━━━━━━━━━━━━━━━━━━━━━━━━━━━━━━━━━━\u001b[0m \u001b[32m1.8/1.8 MB\u001b[0m \u001b[31m72.1 MB/s\u001b[0m eta \u001b[36m0:00:00\u001b[0m\n",
            "\u001b[2K     \u001b[90m━━━━━━━━━━━━━━━━━━━━━━━━━━━━━━━━━━━━━━━━\u001b[0m \u001b[32m18.8/18.8 MB\u001b[0m \u001b[31m72.5 MB/s\u001b[0m eta \u001b[36m0:00:00\u001b[0m\n",
            "\u001b[2K     \u001b[90m━━━━━━━━━━━━━━━━━━━━━━━━━━━━━━━━━━━━━━━━\u001b[0m \u001b[32m116.3/116.3 kB\u001b[0m \u001b[31m15.2 MB/s\u001b[0m eta \u001b[36m0:00:00\u001b[0m\n",
            "\u001b[2K     \u001b[90m━━━━━━━━━━━━━━━━━━━━━━━━━━━━━━━━━━━━━━━━\u001b[0m \u001b[32m134.8/134.8 kB\u001b[0m \u001b[31m18.2 MB/s\u001b[0m eta \u001b[36m0:00:00\u001b[0m\n",
            "\u001b[2K     \u001b[90m━━━━━━━━━━━━━━━━━━━━━━━━━━━━━━━━━━━━━━━━\u001b[0m \u001b[32m1.8/1.8 MB\u001b[0m \u001b[31m80.3 MB/s\u001b[0m eta \u001b[36m0:00:00\u001b[0m\n",
            "\u001b[2K     \u001b[90m━━━━━━━━━━━━━━━━━━━━━━━━━━━━━━━━━━━━━━━━\u001b[0m \u001b[32m256.9/256.9 kB\u001b[0m \u001b[31m32.4 MB/s\u001b[0m eta \u001b[36m0:00:00\u001b[0m\n",
            "\u001b[2K     \u001b[90m━━━━━━━━━━━━━━━━━━━━━━━━━━━━━━━━━━━━━━━━\u001b[0m \u001b[32m66.6/66.6 kB\u001b[0m \u001b[31m8.6 MB/s\u001b[0m eta \u001b[36m0:00:00\u001b[0m\n",
            "\u001b[2K     \u001b[90m━━━━━━━━━━━━━━━━━━━━━━━━━━━━━━━━━━━━━━━━\u001b[0m \u001b[32m75.6/75.6 kB\u001b[0m \u001b[31m8.6 MB/s\u001b[0m eta \u001b[36m0:00:00\u001b[0m\n",
            "\u001b[2K     \u001b[90m━━━━━━━━━━━━━━━━━━━━━━━━━━━━━━━━━━━━━━━━\u001b[0m \u001b[32m49.4/49.4 kB\u001b[0m \u001b[31m6.5 MB/s\u001b[0m eta \u001b[36m0:00:00\u001b[0m\n",
            "\u001b[2K     \u001b[90m━━━━━━━━━━━━━━━━━━━━━━━━━━━━━━━━━━━━━━━━\u001b[0m \u001b[32m77.8/77.8 kB\u001b[0m \u001b[31m10.7 MB/s\u001b[0m eta \u001b[36m0:00:00\u001b[0m\n",
            "\u001b[2K     \u001b[90m━━━━━━━━━━━━━━━━━━━━━━━━━━━━━━━━━━━━━━━━\u001b[0m \u001b[32m58.3/58.3 kB\u001b[0m \u001b[31m8.5 MB/s\u001b[0m eta \u001b[36m0:00:00\u001b[0m\n",
            "\u001b[2K     \u001b[90m━━━━━━━━━━━━━━━━━━━━━━━━━━━━━━━━━━━━━━━━\u001b[0m \u001b[32m138.5/138.5 kB\u001b[0m \u001b[31m15.6 MB/s\u001b[0m eta \u001b[36m0:00:00\u001b[0m\n",
            "\u001b[?25h"
          ]
        }
      ],
      "source": [
        "!pip install -q cassio datasets langchain openai tiktoken"
      ]
    },
    {
      "cell_type": "code",
      "execution_count": 48,
      "metadata": {
        "id": "aE9BEidJr6HI"
      },
      "outputs": [],
      "source": [
        "from langchain.vectorstores.cassandra import Cassandra\n",
        "from langchain.indexes.vectorstore import VectorStoreIndexWrapper\n",
        "from langchain.llms import OpenAI\n",
        "#from openai import OpenAI\n",
        "from langchain.embeddings import OpenAIEmbeddings\n",
        "\n",
        "from datasets import load_dataset\n",
        "\n",
        "import cassio"
      ]
    },
    {
      "cell_type": "code",
      "execution_count": 3,
      "metadata": {
        "colab": {
          "base_uri": "https://localhost:8080/"
        },
        "id": "s9RzFYHqsoKz",
        "outputId": "8c28c11e-367f-426b-c7d4-f1961681d560"
      },
      "outputs": [
        {
          "name": "stdout",
          "output_type": "stream",
          "text": [
            "Collecting PyPDF2\n",
            "  Downloading pypdf2-3.0.1-py3-none-any.whl (232 kB)\n",
            "\u001b[2K     \u001b[90m━━━━━━━━━━━━━━━━━━━━━━━━━━━━━━━━━━━━━━━━\u001b[0m \u001b[32m232.6/232.6 kB\u001b[0m \u001b[31m4.2 MB/s\u001b[0m eta \u001b[36m0:00:00\u001b[0m\n",
            "\u001b[?25hInstalling collected packages: PyPDF2\n",
            "Successfully installed PyPDF2-3.0.1\n"
          ]
        }
      ],
      "source": [
        "!pip install PyPDF2"
      ]
    },
    {
      "cell_type": "code",
      "execution_count": 4,
      "metadata": {
        "id": "Gz1TSlMItwoR"
      },
      "outputs": [],
      "source": [
        "from PyPDF2 import PdfReader"
      ]
    },
    {
      "cell_type": "code",
      "execution_count": 5,
      "metadata": {
        "id": "lIj4ML7CuKVB"
      },
      "outputs": [],
      "source": [
        "ASTRA_DB_APPLICATION_TOKEN=\"AstraCS:tIFJtOqbDBPURdfPbISFXxar:cd1bb55a3483450b101dae40736cca2d7c8413b87138e2fc4606054900396\"\n",
        "ASTRA_DB_ID=\"78459230-d954-46e9-9f67362e61\"\n",
        "OPENAI_API_KEY=\"OPENAI_API_KEY\""
      ]
    },
    {
      "cell_type": "code",
      "execution_count": 7,
      "metadata": {
        "id": "1JhHhxStuz-l"
      },
      "outputs": [],
      "source": [
        "pdfreader=PdfReader('Envision.pdf')"
      ]
    },
    {
      "cell_type": "code",
      "execution_count": 8,
      "metadata": {
        "id": "iUJAvYxdveuf"
      },
      "outputs": [],
      "source": [
        "from typing_extensions import Concatenate\n",
        "raw_text=''\n",
        "for i,page in enumerate(pdfreader.pages):\n",
        "  content = page.extract_text()\n",
        "  if content:\n",
        "    raw_text+=content"
      ]
    },
    {
      "cell_type": "code",
      "execution_count": 9,
      "metadata": {
        "colab": {
          "base_uri": "https://localhost:8080/"
        },
        "id": "mjS3oaVvEuFV",
        "outputId": "79c7f460-f326-4c02-9cc6-b908c2394594"
      },
      "outputs": [
        {
          "name": "stdout",
          "output_type": "stream",
          "text": [
            " \n",
            " \n",
            " \n",
            "CM Guide  \n",
            " \n",
            "Introduction:  \n",
            "• Aaruush means the “First Rays of Sun”  \n",
            "• Our Theme - Towards Infinity  \n",
            "• Our Motto - Rising in the spirit of innovation  \n",
            "• Our logo, that is of a rising sun, implies that we will shed light on the most \n",
            "unexpected realms of Science and Technology.  \n",
            " \n",
            "Patrons of Aaruush:  \n",
            "● Dr. C. Muthamizhchelvan (Vice -Chancellor, SRMIST)  \n",
            "● Prof. T.V. Gopal (Dean - College of Engg. & Tech.)  \n",
            "● Dr. A. Rathinam (Convenor of Aaruush, Director of Alumni Affairs)  \n",
            "● Dr. V. Thirumurugan (Associate Director - Campus Life)  \n",
            " \n",
            "Brief History of Aaruush : \n",
            "• Aaruush started off as a technical fest in 2007.  \n",
            "• It was inaugurated in 2007 by Late Ex -President Dr. APJ Abdul Kalam.  \n",
            "• In 2009, Aaruush evolved from a technical fest to the National Techno -Management \n",
            "Fest.  \n",
            " \n",
            "Date of Aaruush’22 Main Days:  \n",
            "27th October - 30th October, 20 22 \n",
            " \n",
            "Structure of Aaruush:  \n",
            "Aaruush comprises of : \n",
            "• 14 committees   \n",
            " \n",
            "• 14 domains  \n",
            "• 1 Team  \n",
            " \n",
            "The Committees, Domains, Team are as follows:  \n",
            "Committee  Domain  \n",
            "Alumni Relations  Architecture  \n",
            "Corporate Strategies & Implementation  Bluebook  \n",
            "Challenges & Championships  Digital Design  \n",
            "Creatives  Electrizite  \n",
            "Deco & Arts  Fundaz  \n",
            "Finance  Konstruktion  \n",
            "Highlights  Machination  \n",
            "Initiatives  Magefficie and E -Summit  \n",
            "Operations & Resource Management  Online  \n",
            "Outreach  Praesentatio  \n",
            "Public Relations  Robogyan  \n",
            "Quality Assurance  Vimanaz  \n",
            "Sponsorship & Marketing  X Zone & E -Sports  \n",
            "Workshops  Yudhamme  \n",
            " \n",
            "1 Team – Team Envision  \n",
            " \n",
            " \n",
            "  \n",
            " \n",
            "Team Hierarchy in Aaruush : \n",
            "1. Volunteers – First year students  \n",
            "2. Committee Members (for committees)/ Event Coordinators (for domains)/ \n",
            "Envision Members (for Team Envision) - Second year students  \n",
            "3. Committee Heads (for committees and domains)/ Envision Heads (for Team \n",
            "Envision) - Third year students  \n",
            "4. Organisers - Fourth year s tudents  \n",
            " \n",
            "Description of Domains, Committees and Team:  \n",
            "Domains:  \n",
            "1) Architecture:  \n",
            "Architecture encompasses elements related to planning, design, light usage, space, layouts, \n",
            "computer modeling software, and programming that help digitalize architecture’s core \n",
            "processes, thereby providing a comprehensive experience of modern architecture.  You need \n",
            "planning, innovation, efficiency, design enhancement, and magic ensues.  \n",
            "Organiser: Priyanshu Rishi  \n",
            "Email:  architecture@aaruush.net  \n",
            " \n",
            "2) Bluebook:  \n",
            "Bluebook is a consortium of bioengineering, lif e sciences, and chemistry events. Each event \n",
            "makes sure that the participants enjoy and learn new concepts that they were previously \n",
            "unaware of through quizzes and FAQ rounds.  \n",
            "Organiser: Md. Amsath Haseef  \n",
            "Email:  bluebook@aaruush.net  \n",
            " \n",
            "3) Digital Design:  \n",
            "Digital Design is the domain of problem -solving through images, words, or graphic forms. It \n",
            "is a subset of visual communication and graphic design. It includes the work of various fields \n",
            "such as digital imagin g, videography, modern art, music, costume design, visual effects, \n",
            "animation, software editing of ads, and the addition of computing techniques perks up the \n",
            "charm. It is a uniquely crafted domain for all the sound and visual artists at heart.   \n",
            " \n",
            "Organiser: S warnima Gupta  \n",
            "Email:  digitaldesign@aaruush.org  \n",
            " \n",
            "4) Electrizite:  \n",
            "This domain makes provisions for the participants to be bombarded by a stream of resistors, \n",
            "diodes, capacitors, and inductors. The knowledg e of topics like artificial intelligence, \n",
            "microprocessors, integrated circuitry, embedded systems, etc., is the order of the course. \n",
            "Organiser: Priyanshu Rishi  \n",
            "Email:  electrizite@aaruush.net  \n",
            " \n",
            "5) Fundaz:  \n",
            "Fundaz deals with the basic concepts of science spiked with entertainment. If puzzles, \n",
            "quizzes, logical reasoning, and crosswords are your interests, this domain is where you \n",
            "should be!  \n",
            "Organiser: Aditi Sahu  \n",
            "Email:  fundaz@aaruush.net  \n",
            " \n",
            "6) Konstruktion & Canoe Challenge:  \n",
            "Konstruktion puts together events focused on civil engineering and infrastructure, \n",
            "highlighting the part of the spectrum of designing, fabricating, and practical testing of models \n",
            "using the CAD software as the mandate. The Canoe challenge is a junction for  the best of \n",
            "minds that requires immense patience and hard work where the teams design, analyze models \n",
            "and cast a lightweight concrete canoe within a limited time frame.  \n",
            "Organiser: Viren Jagwani  \n",
            "Email:  konstruktion@aaruush.net  \n",
            " \n",
            "7) Machination:  \n",
            "Machination is a domain that covers the various technical aspects related to the school of \n",
            "mechanical and automobile engineering. This domain involves various subjects such as \n",
            "designing machines, drawing blueprints,  adding and improving various automobiles' \n",
            "technical aspects, and bringing in solutions for problems by applying various techniques \n",
            "revolving around contraption functions.  \n",
            "Organiser: Arkaprava Ray   \n",
            " \n",
            "Email: machination@aaruush.net  \n",
            " \n",
            "8) Magefficie and E-Summit :  \n",
            "Magefficie and startups encompass various events that test a student's business and \n",
            "management skills. Marketing, finance, share markets, entrepreneurs, startups, corporate \n",
            "strategies, and business plan ning form the basics of this domain.  \n",
            "Organiser: Dushyant Betala  \n",
            "Email: magefficie@aaruush.net  \n",
            " \n",
            "9) Online:   \n",
            "This domain provides an excellent opportunity to compete in events around the World Wide \n",
            "Web. This  domain is all about participating in online events, including gaming, web \n",
            "designing, poster & logo making, photography, and app development. This is the platform \n",
            "where one could sit comfortably back at home and enjoy the essence of Aaruush.  \n",
            "Organiser: Vi ren Jagwani  \n",
            "Email:  online@aaruush.net  \n",
            " \n",
            "10) Praesentatio:  \n",
            "This domain is slightly different, unique, maybe pompous, but greatly pertinacious. It is all \n",
            "about presenting yourself in whatever way you want to. Not limited to J.A.M.s, debates, or \n",
            "verbal expressions, but any other way you can fathom. Praesentatio allo ws you to express \n",
            "yourself and what you believe in.  \n",
            "Organiser: Harsh Bardhan  \n",
            "Email:  praesentatio@aaruush.net  \n",
            " \n",
            "11) Robogyan:  \n",
            "Robogyan allows you to stand head -to-head with the advancing technology. All of us are \n",
            "fascinated by robots because they are the machines that can mimic life, so be innovative and \n",
            "formulate your ideas to coordinate the events. Manual, semi -autonomous and a utonomous \n",
            "robotic events are all accepted.  \n",
            "Organiser: Swarnima Gupta  \n",
            "Email:  robogyan@aaruush.net   \n",
            " \n",
            " \n",
            "12) Vimanaz:  \n",
            "This domain showcases everything that “flying” or “aviation” associates itself with. It is \n",
            "conc erned with development, design, and research. It also covers the aerodynamic \n",
            "characteristics. It is a canvas for those who always want to soar into grander horizons.  \n",
            "Organiser: Md. Amsath Haseef  \n",
            "Email: vimana z@aaruush.net  \n",
            " \n",
            "13) X -Zone and E -Sports:   \n",
            "X-Zone and E -Sports mainly deal with events based on off -beat interests like brainstorming, \n",
            "treasure –hunts, gaming, etc. As the future of sporting is E -Sports, this domain focuses on all \n",
            "the intricacies of gaming a nd making teams that get to represent Team Aaruush on other \n",
            "platforms. These events are fun -based and offer respite from the technical mumbo -jumbo.  \n",
            "Organiser: Harsh Bardhan  \n",
            "Email:  xzone@aaruush.net  \n",
            " \n",
            "14) Yuddham e: \n",
            "Yuddhame concentrates on events that deal with testing software and hardware skills, web \n",
            "designing, operating systems, mobile apps, android, distributed computing, and networking \n",
            "and communication techniques.  \n",
            "Organiser: Sanjukta Sen  \n",
            "Email: yuddhame@aaruush.net  \n",
            " \n",
            "Committees  \n",
            "1) Alumni Relations:  \n",
            "The Alumni Relations Committee functions to strengthen the bond between the institution \n",
            "and alumni for a mutually beneficial relationship. The committee hel ps the alumnus interface \n",
            "with the students and organization through events such as talks, workshops, and guest \n",
            "lectures. Apart from the unique experience of networking and interacting with topnotch \n",
            "officials and leading decision -makers, the committee also teaches one how to foster and \n",
            "nurture a strong bond between the organization and its alumni.  \n",
            "Organisers: Shreya Saha Roy   \n",
            " \n",
            "Email:  alumnirelations@aaruush.org  \n",
            " \n",
            "2) Corporate Strategy & Implementation:  \n",
            "Corp orate Strategy and Implementation (CSI) is a dynamic committee that is the onground \n",
            "army of Aaruush. Responsible for internal and external publicity, strategizing work plans, \n",
            "and executing them, CSI is the committee that gives one hands -on experience worki ng in the \n",
            "corporate world with big teams and even bigger ideas. The committee also takes care of \n",
            "maintaining the digital presence of the fest while on the ground promoting events and its \n",
            "sales. CSI is also responsible for Crowd Management and Crisis Manage ment.  \n",
            "Organisers: Pranav Khandelwal, Ritika Agarwal, and Siddhant Priyadarshi  \n",
            "Email:  csiorg@aaruush.net  \n",
            " \n",
            "3) Challenges & Championships:  \n",
            "This committee showcases a series of challenging competitions, testing your technical skills \n",
            "and ability to adapt to challenging constraints. Mind -boggling, out -of-the-box competitions \n",
            "await you in the form of Hackathons, Robotics and Design Challenges, et c. The \n",
            "Championships include mega -events like Robo -Wars, RC Cars, Drone Racing, Coding, and \n",
            "Sports.  \n",
            "Organisers: Aparajita Sahoo, Nurukurthi Veera VenkataGanesh, and Sahaj Ghatiya  \n",
            "Email:  championship@aaru ush.net  \n",
            " \n",
            "4) Creatives:  \n",
            "Creatives have various subdomains, including photography, videography, graphic designing, \n",
            "VFX, music, video editing, and scripting. It gives you the platform to get the wheels of your \n",
            "artsy left -brain spinning and implement whatever  you can visualize. Apply right away if you \n",
            "feel like your larger -than-life vision needs makers.  \n",
            "Organiser: Md. Fardin Hossain, Ujjwal Puri and Utkarsh Sharma  \n",
            "Email:  creatives@aaruush.net  \n",
            " \n",
            "5) Deco and Arts:  \n",
            "Deco and Arts are the committee that ensures Aaruush comes easy and pleasant to the eyes of \n",
            "the onlooker. Everything is covered by the Deco and Arts Committee, from artistic banners, \n",
            "artwork, structures, and models for decoration alongsi de flags, lights, and colors.   \n",
            " \n",
            "Organisers: Arpita Muleva, Preetish Reddy, and Thotakura Venkat Gandhi Varma  \n",
            "Email:  deco_arts@aaruush.net  \n",
            " \n",
            "6) Finance:  \n",
            "The Finance Committee examines the accounts, scrutinizes the proposals for expenditures, \n",
            "and submits the annual budget for the Aaruush. No expenditure in the budget is incurred \n",
            "without the prior approval of the Finance Committee, which fixes limits for the total \n",
            "expenditure for the year based on the resources an d the income.  \n",
            "Organisers: G Srikar Reddy and Siddhant Priyadarshi  \n",
            "Email:  finance_hr@aaruush.net  \n",
            " \n",
            "7) Highlights:  \n",
            "The committee takes care of all the Guest Lectures, Aaruush Nites, Expos, exhibitions, and \n",
            "dignitaries that become a part of this National -Level fest. Highlights are responsible for the \n",
            "hospitality and transportation of the guests. The guest accommodation and fulfilling all the \n",
            "requirements that surround the guest.  \n",
            "Organisers: Shreshtha Kumar Pa thak and Shreya Saha Roy  \n",
            "Email:  highlights@aaruush.net  \n",
            " \n",
            "8) Initiatives:  \n",
            "Initiatives is a committee that embodies new ideas, projects, and initiatives that will create a \n",
            "difference. It promises to bring out the soft and humanitarian side of you in the pursuit of \n",
            "taking our fest to higher echelons of success.  \n",
            "Organisers:  Arkapr ava Ray  and Sumedha Banthia  \n",
            "Email: initiatives@aaruush.net  \n",
            " \n",
            "9) Operations and Resource Management:  \n",
            "The Operations and Resource Management (ORM) Committee is in charge of all resource \n",
            "requirements and their management, permissions for the team, and those required for the \n",
            "smooth flow of all the events. It is responsible for carrying out operations, fulfil ling \n",
            "requirements, obtaining permissions, controlling the crowd, performing crisis management, \n",
            "brainstorming, and innovating solutions for event management.   \n",
            " \n",
            "Organisers: Karaka Rahul and Nurukurthi Veera Venkata Ganesh  \n",
            "Email: orm@aaruush.net   \n",
            " \n",
            "10) Outreach:  \n",
            "The Outreach Committee functions in collaboration with other colleges and universities by \n",
            "conducting events modeled by committees and domains to represent Aaruush as a brand \n",
            "across the entire nation. These events are held to provide experience to the participants. \n",
            "Establishing and maintaining a good professional relationship with other schools, \n",
            "universities, institutions, and representatives is also critical for the Outreach work profile.  \n",
            "Organiser: Abhishek Arora   \n",
            "Email: outreach@aaruush.org  \n",
            " \n",
            "11) Public Relations:  \n",
            "Public Relations in Aaruush are a distinctive management body that helps establish and \n",
            "maintain lines of communication between the organization and its public. It includes content \n",
            "writing, documenting, achieving certified patronages and accreditations, anc horing, etc. It is \n",
            "divided into four sub -divisions: Letters, Documentation, NGOs, and Media. Media builds an \n",
            "individual's interpersonal and public speaking skills, addressing a crowd of thousands to \n",
            "giving our voice off -screen for podcasts and radio. It en ables one to explore their creative \n",
            "side and make it hyper -useful to write scripts, screenplays, and sketches for Aaruush, record \n",
            "vlogs, and conduct interviews of the myriad of guests joining us for the fest.  \n",
            "Organisers: Abhilasha, Jishnu Kumar Srivastava  and Stuti Chauhan  \n",
            "Email:  pro@aaruush.net  \n",
            " \n",
            "12) Quality Assurance:  \n",
            "The main aim of Quality Assurance is to maintain the desired level of quality of the fest that \n",
            "we uphold and to strive forward and refine it in ev ery step. It comprises data analysis, report \n",
            "writing, required follow -up during implementation, and accommodation of external \n",
            "participants during the fest. One of the significant job profiles of the committee while \n",
            "maintaining the quality is ideating and e xecuting GWR.  \n",
            "Organisers: Anubhav Mathur, Gayatri Ajith, and Stuti Chauhan  \n",
            "Email:  qa@aaruush.net  \n",
            "  \n",
            " \n",
            "13) Sponsorship & Marketing:  \n",
            "From having corporate meetings with various professionals to bringing sponsors and \n",
            "implementing marketing ideas, the committee attempts to deliver more than a drive -by \n",
            "impression. The committee expects potential members to strategize the various marketing \n",
            "tactics to shape various business deals around the fest.  \n",
            "Organisers: Abhilakshit Kat hait, Arnav Sharma, and Rachana Komanduri  \n",
            "Email:  sponsorship@aaruush.net  \n",
            " \n",
            "14) Workshops:  \n",
            "The committee conceptualizes design and conducts workshops on various technology fields \n",
            "in collaboration with big organizations across the country. Workshops are also responsible \n",
            "for the Common Registrations before the main Aaruush Days, and the distributi on of \n",
            "certificates is taken care of by the committee.  \n",
            "Organisers: Abhishek Arora, Arnav Sharma, and Jishnu Kumar Srivastava  \n",
            "Email:  workshops@aaruush.org  \n",
            " \n",
            "Team Envision  \n",
            "Team Envision is a Multidisciplinary Te chnical Team of Aaruush that aims to provide \n",
            "solutions to most campus and societal issues. Team Envision participated in Rajasthan \n",
            "Hackathon, Mozofest Hackathon, and Accenture Blockchain Hackathon, wherein we \n",
            "presented hacks based on Campus and Societal Is sues, which won accolades. Team Envision \n",
            "is a consortium of AI, IoT, Blockchain, Web & App Developers, Visual Designers, and \n",
            "Electrical and Mechanical Engineers who work closely to ideate, design, fabricate and \n",
            "develop products to tackle campus and societa l issues and problems. These products can also \n",
            "take the form of a research paper that can be published in renowned international conferences \n",
            "or can be filed for patent. It is a team where we convert vision to reality. Bring us your ideas, \n",
            "and we will Envis ion them together.  \n",
            "Organisers: Dhanya Sri Aravapalli, Rishabh Gupta, Sahaj Ghatiya and Sanjukta Sen  \n",
            "Email:  envision@aaruush.org  \n",
            " \n",
            "Work Profile of Team Envision:  \n",
            "● Technical support for all Aaruush Events including both hardware and software.  \n",
            "● Development of Aaruush Website , all Aaruush Portals a nd Android/iOS applications.   \n",
            " \n",
            "● Projects related to the campus and social causes.  \n",
            " \n",
            "Projects Done By Team Envision  \n",
            "● A’19 Website  \n",
            "● Aaruush Application (Android & iOS)  \n",
            "● Trash -it \n",
            "● Suroma House of Children Website  \n",
            "● Near You App  \n",
            "● Low Cost IoT Hybrid Mesh Multicast Tree Network for Smart Agriculture  \n",
            "● Grid Connected Solar PV Array System using CFTS  \n",
            "● A’20 Website  \n",
            "● Aaruush Campus Ambassador Program Portal  \n",
            "● Here For You App  \n",
            " \n",
            "Divisions of Team Envision:  \n",
            "Team Envision comprises of 9 divisions:  \n",
            "1. AI/ML:   \n",
            "Dive deep into the world of Artificial Intelligence and Machine learning and develop \n",
            "technologies that work exactly like humans and serve social causes. Be it developing \n",
            "automatic smart systems, working on various OpenCV projects, building systems to address \n",
            "daily life problems and solving problems related to our college campus using machine \n",
            "learning technologies, we have got you covered.  \n",
            " \n",
            " \n",
            "2. App Development:   \n",
            "If you are into developi ng creative and functional mobile applications with amazing user \n",
            "experience, then this is the right division to work for. From developing apps for our college \n",
            "and Aaruush to addressing social issues through technology, we have got it all. Some of our \n",
            "previ ous projects include Near You App and Here For You which is a mental health tracking \n",
            "app. \n",
            " \n",
            " \n",
            "  \n",
            " \n",
            "3. Blockchain:   \n",
            "Step into the world of Blockchain technologies and grab the wonderful opportunity to work \n",
            "on collaborative projects and learn a number of trending tec hnologies including Web3, \n",
            "Dapps, NFT, Metaverse and a lot more.  \n",
            " \n",
            " \n",
            "4. Cyber Security:   \n",
            "If you want to be a part of the Tech Army that protects networks, programs and systems from \n",
            "different digital and cyber attacks, this is just the place for you. Here’s your opportunity to \n",
            "grab the chance to work on exciting projects and be a part of several cyber security \n",
            "hackathons and competitions with us.  \n",
            " \n",
            " \n",
            "5. Designer Team:   \n",
            "If creativity is your strength, then this is just the correct sub -division for you. From designing \n",
            "posters for Social Media and graphics for websites and webapps using different graphic \n",
            "designing tools, video making or providing meaning and appealing appearance and user \n",
            "experience to applications and websites, this division has it all.  \n",
            " \n",
            " \n",
            "6. Edito rial:  \n",
            "This division plays a major role in handling the corporate part of the team. Be it planning and \n",
            "management of events or preparing content and captions for our social media, the editorial \n",
            "division takes care of all of it.   \n",
            " \n",
            " \n",
            "7. Game Development:   \n",
            "If you 're someone who is extremely passionate for video games, how about trying your hands \n",
            "at building and designing one ? Here is the right opportunity for you to test your brains and \n",
            "creativity and build video games of your own.   \n",
            " \n",
            " \n",
            " \n",
            "8. Hardware:   \n",
            "Inquisitive to e xplore the hardware aspect of technology? Be it Internet of Things or the \n",
            "Mechanical & Electrical domains of Engineering, we are right here to give you some real -\n",
            "time hands -on project experiences like no other in the campus.   \n",
            " \n",
            " \n",
            "9. Web Development:   \n",
            "Step into the world of building attractive and interactive Websites and Web Applications with \n",
            "distinguished user interfaces. Ranging from building the Aaruush Official Website to \n",
            "maintaining all the official Aaruush Web Portals, the Web Development team works on \n",
            "hands-on projects all throughout the year.  \n",
            "  \n",
            "  \n",
            " \n",
            "Events Conducted in Aaruush’22 so far:  \n",
            "● Square One (29th March)  \n",
            "● T-SUMMIT 6.0 (23rd to 24th April)  \n",
            "● Unsung Heroes (7th May)  \n",
            "● Anigma (18th May to 5th June)  \n",
            "● Online Design Challenge (27th June to 8th July)  \n",
            "● Zone Play (9th to 26th July )  \n",
            "● Aerospanza (20th August to 11th September)  \n",
            "● Aaruush Induction (14th September)  \n",
            "● Hybrid Hack (22nd September)  \n",
            " \n",
            "Main Flagship Events of Aaruush:  \n",
            "Nasa  Space Apps Challenge  by Championships & Challenges  \n",
            "Codematrix  by Championships & Challenges  \n",
            "Colosseum  by Public Relations  \n",
            "Lanstrom  by X -Zone & E -Sports  \n",
            "Aaruush Educates  by Quality Assurance  \n",
            "Hack Summit  by Championships & Challenges  \n",
            "Hybrid Hack by Electrizite  \n",
            "Mini Lanstrom  by X -Zone & E -Sports  \n",
            "Master  Stroke  by Creati ves and Deco & Arts  \n",
            "Art Attack  by Deco & Arts  \n",
            "Aaruush Young Minds by Corporate Strategy & Implementation  \n",
            "Campus Ambassador Program by Corporate Strategy & Implementation  \n",
            "X-Zone X -Play by X -Zone & E -Sports  \n",
            "Main Quiz by Fundaz  \n",
            "E-Summit by Magefficie and E -Summit   \n",
            " \n",
            "Cascase  by Magefficie and E -Summit  \n",
            "T-Summit  by Inititaitives  \n",
            "SRM Run by Initiatives  \n",
            "Canoe Challenge  by Konstruktion  \n",
            "TeachBot by Team Envision  \n",
            " \n"
          ]
        }
      ],
      "source": [
        "print(raw_text)"
      ]
    },
    {
      "cell_type": "markdown",
      "metadata": {
        "id": "aOMlkoEVF56d"
      },
      "source": [
        "connection to database"
      ]
    },
    {
      "cell_type": "code",
      "execution_count": 10,
      "metadata": {
        "colab": {
          "base_uri": "https://localhost:8080/"
        },
        "id": "PAc9IiujGCRj",
        "outputId": "f31f63fa-f9f0-4162-9b73-d32a3ae4b978"
      },
      "outputs": [
        {
          "name": "stderr",
          "output_type": "stream",
          "text": [
            "WARNING:cassandra.cluster:Downgrading core protocol version from 66 to 65 for 78459230-d954-46e9-9f6a-07d9a7362e61-us-east1.db.astra.datastax.com:29042:6e2342c8-6769-4177-b9e6-07bc4ca8148f. To avoid this, it is best practice to explicitly set Cluster(protocol_version) to the version supported by your cluster. http://datastax.github.io/python-driver/api/cassandra/cluster.html#cassandra.cluster.Cluster.protocol_version\n",
            "WARNING:cassandra.cluster:Downgrading core protocol version from 65 to 5 for 78459230-d954-46e9-9f6a-07d9a7362e61-us-east1.db.astra.datastax.com:29042:6e2342c8-6769-4177-b9e6-07bc4ca8148f. To avoid this, it is best practice to explicitly set Cluster(protocol_version) to the version supported by your cluster. http://datastax.github.io/python-driver/api/cassandra/cluster.html#cassandra.cluster.Cluster.protocol_version\n",
            "ERROR:cassandra.connection:Closing connection <AsyncoreConnection(135002215821904) 78459230-d954-46e9-9f6a-07d9a7362e61-us-east1.db.astra.datastax.com:29042:6e2342c8-6769-4177-b9e6-07bc4ca8148f> due to protocol error: Error from server: code=000a [Protocol error] message=\"Beta version of the protocol used (5/v5-beta), but USE_BETA flag is unset\"\n",
            "WARNING:cassandra.cluster:Downgrading core protocol version from 5 to 4 for 78459230-d954-46e9-9f6a-07d9a7362e61-us-east1.db.astra.datastax.com:29042:6e2342c8-6769-4177-b9e6-07bc4ca8148f. To avoid this, it is best practice to explicitly set Cluster(protocol_version) to the version supported by your cluster. http://datastax.github.io/python-driver/api/cassandra/cluster.html#cassandra.cluster.Cluster.protocol_version\n"
          ]
        }
      ],
      "source": [
        "cassio.init(token=ASTRA_DB_APPLICATION_TOKEN, database_id=ASTRA_DB_ID)"
      ]
    },
    {
      "cell_type": "markdown",
      "metadata": {
        "id": "rE_VxOTqQnPV"
      },
      "source": [
        "LangChain Embedding or LLM object"
      ]
    },
    {
      "cell_type": "code",
      "execution_count": 57,
      "metadata": {
        "id": "BIp83rxbGGJI"
      },
      "outputs": [],
      "source": [
        "llm= OpenAI(openai_api_key='OPENAI_API_KEY')\n"
      ]
    },
    {
      "cell_type": "code",
      "execution_count": 58,
      "metadata": {
        "id": "h2fD7n0iYLX6"
      },
      "outputs": [],
      "source": [
        "embedding = OpenAIEmbeddings(openai_api_key='OPENAI_API_KEY')"
      ]
    },
    {
      "cell_type": "code",
      "execution_count": 51,
      "metadata": {
        "id": "ij09m-EQWY8z"
      },
      "outputs": [],
      "source": [
        "astra_vector_store = Cassandra(\n",
        "    embedding=embedding,\n",
        "    table_name='qa_mini_demo',\n",
        "    session=None,\n",
        "    keyspace=None,\n",
        ")"
      ]
    },
    {
      "cell_type": "code",
      "execution_count": 53,
      "metadata": {
        "id": "Vbub-_1rWsp2"
      },
      "outputs": [],
      "source": [
        "from langchain.text_splitter import CharacterTextSplitter\n",
        "text_splitter = CharacterTextSplitter(\n",
        "    separator=\"\\n\",\n",
        "    chunk_size=800,\n",
        "    chunk_overlap=200,\n",
        "    length_function=len,\n",
        ")\n",
        "\n",
        "texts = text_splitter.split_text(raw_text)"
      ]
    },
    {
      "cell_type": "code",
      "execution_count": 54,
      "metadata": {
        "colab": {
          "base_uri": "https://localhost:8080/"
        },
        "id": "7L7KyWNyXw5w",
        "outputId": "c9e7713f-5d36-47af-aa1e-63be5d339793"
      },
      "outputs": [
        {
          "data": {
            "text/plain": [
              "['CM Guide  \\n \\nIntroduction:  \\n• Aaruush means the “First Rays of Sun”  \\n• Our Theme - Towards Infinity  \\n• Our Motto - Rising in the spirit of innovation  \\n• Our logo, that is of a rising sun, implies that we will shed light on the most \\nunexpected realms of Science and Technology.  \\n \\nPatrons of Aaruush:  \\n● Dr. C. Muthamizhchelvan (Vice -Chancellor, SRMIST)  \\n● Prof. T.V. Gopal (Dean - College of Engg. & Tech.)  \\n● Dr. A. Rathinam (Convenor of Aaruush, Director of Alumni Affairs)  \\n● Dr. V. Thirumurugan (Associate Director - Campus Life)  \\n \\nBrief History of Aaruush : \\n• Aaruush started off as a technical fest in 2007.  \\n• It was inaugurated in 2007 by Late Ex -President Dr. APJ Abdul Kalam.  \\n• In 2009, Aaruush evolved from a technical fest to the National Techno -Management',\n",
              " '• It was inaugurated in 2007 by Late Ex -President Dr. APJ Abdul Kalam.  \\n• In 2009, Aaruush evolved from a technical fest to the National Techno -Management \\nFest.  \\n \\nDate of Aaruush’22 Main Days:  \\n27th October - 30th October, 20 22 \\n \\nStructure of Aaruush:  \\nAaruush comprises of : \\n• 14 committees   \\n \\n• 14 domains  \\n• 1 Team  \\n \\nThe Committees, Domains, Team are as follows:  \\nCommittee  Domain  \\nAlumni Relations  Architecture  \\nCorporate Strategies & Implementation  Bluebook  \\nChallenges & Championships  Digital Design  \\nCreatives  Electrizite  \\nDeco & Arts  Fundaz  \\nFinance  Konstruktion  \\nHighlights  Machination  \\nInitiatives  Magefficie and E -Summit  \\nOperations & Resource Management  Online  \\nOutreach  Praesentatio  \\nPublic Relations  Robogyan  \\nQuality Assurance  Vimanaz',\n",
              " 'Highlights  Machination  \\nInitiatives  Magefficie and E -Summit  \\nOperations & Resource Management  Online  \\nOutreach  Praesentatio  \\nPublic Relations  Robogyan  \\nQuality Assurance  Vimanaz  \\nSponsorship & Marketing  X Zone & E -Sports  \\nWorkshops  Yudhamme  \\n \\n1 Team – Team Envision  \\n \\n \\n  \\n \\nTeam Hierarchy in Aaruush : \\n1. Volunteers – First year students  \\n2. Committee Members (for committees)/ Event Coordinators (for domains)/ \\nEnvision Members (for Team Envision) - Second year students  \\n3. Committee Heads (for committees and domains)/ Envision Heads (for Team \\nEnvision) - Third year students  \\n4. Organisers - Fourth year s tudents  \\n \\nDescription of Domains, Committees and Team:  \\nDomains:  \\n1) Architecture:',\n",
              " 'Envision) - Third year students  \\n4. Organisers - Fourth year s tudents  \\n \\nDescription of Domains, Committees and Team:  \\nDomains:  \\n1) Architecture:  \\nArchitecture encompasses elements related to planning, design, light usage, space, layouts, \\ncomputer modeling software, and programming that help digitalize architecture’s core \\nprocesses, thereby providing a comprehensive experience of modern architecture.  You need \\nplanning, innovation, efficiency, design enhancement, and magic ensues.  \\nOrganiser: Priyanshu Rishi  \\nEmail:  architecture@aaruush.net  \\n \\n2) Bluebook:  \\nBluebook is a consortium of bioengineering, lif e sciences, and chemistry events. Each event \\nmakes sure that the participants enjoy and learn new concepts that they were previously',\n",
              " '2) Bluebook:  \\nBluebook is a consortium of bioengineering, lif e sciences, and chemistry events. Each event \\nmakes sure that the participants enjoy and learn new concepts that they were previously \\nunaware of through quizzes and FAQ rounds.  \\nOrganiser: Md. Amsath Haseef  \\nEmail:  bluebook@aaruush.net  \\n \\n3) Digital Design:  \\nDigital Design is the domain of problem -solving through images, words, or graphic forms. It \\nis a subset of visual communication and graphic design. It includes the work of various fields \\nsuch as digital imagin g, videography, modern art, music, costume design, visual effects, \\nanimation, software editing of ads, and the addition of computing techniques perks up the \\ncharm. It is a uniquely crafted domain for all the sound and visual artists at heart.',\n",
              " 'animation, software editing of ads, and the addition of computing techniques perks up the \\ncharm. It is a uniquely crafted domain for all the sound and visual artists at heart.   \\n \\nOrganiser: S warnima Gupta  \\nEmail:  digitaldesign@aaruush.org  \\n \\n4) Electrizite:  \\nThis domain makes provisions for the participants to be bombarded by a stream of resistors, \\ndiodes, capacitors, and inductors. The knowledg e of topics like artificial intelligence, \\nmicroprocessors, integrated circuitry, embedded systems, etc., is the order of the course. \\nOrganiser: Priyanshu Rishi  \\nEmail:  electrizite@aaruush.net  \\n \\n5) Fundaz:  \\nFundaz deals with the basic concepts of science spiked with entertainment. If puzzles, \\nquizzes, logical reasoning, and crosswords are your interests, this domain is where you',\n",
              " '5) Fundaz:  \\nFundaz deals with the basic concepts of science spiked with entertainment. If puzzles, \\nquizzes, logical reasoning, and crosswords are your interests, this domain is where you \\nshould be!  \\nOrganiser: Aditi Sahu  \\nEmail:  fundaz@aaruush.net  \\n \\n6) Konstruktion & Canoe Challenge:  \\nKonstruktion puts together events focused on civil engineering and infrastructure, \\nhighlighting the part of the spectrum of designing, fabricating, and practical testing of models \\nusing the CAD software as the mandate. The Canoe challenge is a junction for  the best of \\nminds that requires immense patience and hard work where the teams design, analyze models \\nand cast a lightweight concrete canoe within a limited time frame.  \\nOrganiser: Viren Jagwani  \\nEmail:  konstruktion@aaruush.net',\n",
              " \"and cast a lightweight concrete canoe within a limited time frame.  \\nOrganiser: Viren Jagwani  \\nEmail:  konstruktion@aaruush.net  \\n \\n7) Machination:  \\nMachination is a domain that covers the various technical aspects related to the school of \\nmechanical and automobile engineering. This domain involves various subjects such as \\ndesigning machines, drawing blueprints,  adding and improving various automobiles' \\ntechnical aspects, and bringing in solutions for problems by applying various techniques \\nrevolving around contraption functions.  \\nOrganiser: Arkaprava Ray   \\n \\nEmail: machination@aaruush.net  \\n \\n8) Magefficie and E-Summit :  \\nMagefficie and startups encompass various events that test a student's business and\",\n",
              " \"Organiser: Arkaprava Ray   \\n \\nEmail: machination@aaruush.net  \\n \\n8) Magefficie and E-Summit :  \\nMagefficie and startups encompass various events that test a student's business and \\nmanagement skills. Marketing, finance, share markets, entrepreneurs, startups, corporate \\nstrategies, and business plan ning form the basics of this domain.  \\nOrganiser: Dushyant Betala  \\nEmail: magefficie@aaruush.net  \\n \\n9) Online:   \\nThis domain provides an excellent opportunity to compete in events around the World Wide \\nWeb. This  domain is all about participating in online events, including gaming, web \\ndesigning, poster & logo making, photography, and app development. This is the platform \\nwhere one could sit comfortably back at home and enjoy the essence of Aaruush.  \\nOrganiser: Vi ren Jagwani\",\n",
              " 'designing, poster & logo making, photography, and app development. This is the platform \\nwhere one could sit comfortably back at home and enjoy the essence of Aaruush.  \\nOrganiser: Vi ren Jagwani  \\nEmail:  online@aaruush.net  \\n \\n10) Praesentatio:  \\nThis domain is slightly different, unique, maybe pompous, but greatly pertinacious. It is all \\nabout presenting yourself in whatever way you want to. Not limited to J.A.M.s, debates, or \\nverbal expressions, but any other way you can fathom. Praesentatio allo ws you to express \\nyourself and what you believe in.  \\nOrganiser: Harsh Bardhan  \\nEmail:  praesentatio@aaruush.net  \\n \\n11) Robogyan:  \\nRobogyan allows you to stand head -to-head with the advancing technology. All of us are',\n",
              " 'Organiser: Harsh Bardhan  \\nEmail:  praesentatio@aaruush.net  \\n \\n11) Robogyan:  \\nRobogyan allows you to stand head -to-head with the advancing technology. All of us are \\nfascinated by robots because they are the machines that can mimic life, so be innovative and \\nformulate your ideas to coordinate the events. Manual, semi -autonomous and a utonomous \\nrobotic events are all accepted.  \\nOrganiser: Swarnima Gupta  \\nEmail:  robogyan@aaruush.net   \\n \\n \\n12) Vimanaz:  \\nThis domain showcases everything that “flying” or “aviation” associates itself with. It is \\nconc erned with development, design, and research. It also covers the aerodynamic \\ncharacteristics. It is a canvas for those who always want to soar into grander horizons.  \\nOrganiser: Md. Amsath Haseef  \\nEmail: vimana z@aaruush.net',\n",
              " 'characteristics. It is a canvas for those who always want to soar into grander horizons.  \\nOrganiser: Md. Amsath Haseef  \\nEmail: vimana z@aaruush.net  \\n \\n13) X -Zone and E -Sports:   \\nX-Zone and E -Sports mainly deal with events based on off -beat interests like brainstorming, \\ntreasure –hunts, gaming, etc. As the future of sporting is E -Sports, this domain focuses on all \\nthe intricacies of gaming a nd making teams that get to represent Team Aaruush on other \\nplatforms. These events are fun -based and offer respite from the technical mumbo -jumbo.  \\nOrganiser: Harsh Bardhan  \\nEmail:  xzone@aaruush.net  \\n \\n14) Yuddham e: \\nYuddhame concentrates on events that deal with testing software and hardware skills, web',\n",
              " 'Organiser: Harsh Bardhan  \\nEmail:  xzone@aaruush.net  \\n \\n14) Yuddham e: \\nYuddhame concentrates on events that deal with testing software and hardware skills, web \\ndesigning, operating systems, mobile apps, android, distributed computing, and networking \\nand communication techniques.  \\nOrganiser: Sanjukta Sen  \\nEmail: yuddhame@aaruush.net  \\n \\nCommittees  \\n1) Alumni Relations:  \\nThe Alumni Relations Committee functions to strengthen the bond between the institution \\nand alumni for a mutually beneficial relationship. The committee hel ps the alumnus interface \\nwith the students and organization through events such as talks, workshops, and guest \\nlectures. Apart from the unique experience of networking and interacting with topnotch',\n",
              " 'with the students and organization through events such as talks, workshops, and guest \\nlectures. Apart from the unique experience of networking and interacting with topnotch \\nofficials and leading decision -makers, the committee also teaches one how to foster and \\nnurture a strong bond between the organization and its alumni.  \\nOrganisers: Shreya Saha Roy   \\n \\nEmail:  alumnirelations@aaruush.org  \\n \\n2) Corporate Strategy & Implementation:  \\nCorp orate Strategy and Implementation (CSI) is a dynamic committee that is the onground \\narmy of Aaruush. Responsible for internal and external publicity, strategizing work plans, \\nand executing them, CSI is the committee that gives one hands -on experience worki ng in the',\n",
              " 'army of Aaruush. Responsible for internal and external publicity, strategizing work plans, \\nand executing them, CSI is the committee that gives one hands -on experience worki ng in the \\ncorporate world with big teams and even bigger ideas. The committee also takes care of \\nmaintaining the digital presence of the fest while on the ground promoting events and its \\nsales. CSI is also responsible for Crowd Management and Crisis Manage ment.  \\nOrganisers: Pranav Khandelwal, Ritika Agarwal, and Siddhant Priyadarshi  \\nEmail:  csiorg@aaruush.net  \\n \\n3) Challenges & Championships:  \\nThis committee showcases a series of challenging competitions, testing your technical skills \\nand ability to adapt to challenging constraints. Mind -boggling, out -of-the-box competitions',\n",
              " 'This committee showcases a series of challenging competitions, testing your technical skills \\nand ability to adapt to challenging constraints. Mind -boggling, out -of-the-box competitions \\nawait you in the form of Hackathons, Robotics and Design Challenges, et c. The \\nChampionships include mega -events like Robo -Wars, RC Cars, Drone Racing, Coding, and \\nSports.  \\nOrganisers: Aparajita Sahoo, Nurukurthi Veera VenkataGanesh, and Sahaj Ghatiya  \\nEmail:  championship@aaru ush.net  \\n \\n4) Creatives:  \\nCreatives have various subdomains, including photography, videography, graphic designing, \\nVFX, music, video editing, and scripting. It gives you the platform to get the wheels of your \\nartsy left -brain spinning and implement whatever  you can visualize. Apply right away if you',\n",
              " 'VFX, music, video editing, and scripting. It gives you the platform to get the wheels of your \\nartsy left -brain spinning and implement whatever  you can visualize. Apply right away if you \\nfeel like your larger -than-life vision needs makers.  \\nOrganiser: Md. Fardin Hossain, Ujjwal Puri and Utkarsh Sharma  \\nEmail:  creatives@aaruush.net  \\n \\n5) Deco and Arts:  \\nDeco and Arts are the committee that ensures Aaruush comes easy and pleasant to the eyes of \\nthe onlooker. Everything is covered by the Deco and Arts Committee, from artistic banners, \\nartwork, structures, and models for decoration alongsi de flags, lights, and colors.   \\n \\nOrganisers: Arpita Muleva, Preetish Reddy, and Thotakura Venkat Gandhi Varma  \\nEmail:  deco_arts@aaruush.net  \\n \\n6) Finance:',\n",
              " 'Organisers: Arpita Muleva, Preetish Reddy, and Thotakura Venkat Gandhi Varma  \\nEmail:  deco_arts@aaruush.net  \\n \\n6) Finance:  \\nThe Finance Committee examines the accounts, scrutinizes the proposals for expenditures, \\nand submits the annual budget for the Aaruush. No expenditure in the budget is incurred \\nwithout the prior approval of the Finance Committee, which fixes limits for the total \\nexpenditure for the year based on the resources an d the income.  \\nOrganisers: G Srikar Reddy and Siddhant Priyadarshi  \\nEmail:  finance_hr@aaruush.net  \\n \\n7) Highlights:  \\nThe committee takes care of all the Guest Lectures, Aaruush Nites, Expos, exhibitions, and \\ndignitaries that become a part of this National -Level fest. Highlights are responsible for the',\n",
              " 'The committee takes care of all the Guest Lectures, Aaruush Nites, Expos, exhibitions, and \\ndignitaries that become a part of this National -Level fest. Highlights are responsible for the \\nhospitality and transportation of the guests. The guest accommodation and fulfilling all the \\nrequirements that surround the guest.  \\nOrganisers: Shreshtha Kumar Pa thak and Shreya Saha Roy  \\nEmail:  highlights@aaruush.net  \\n \\n8) Initiatives:  \\nInitiatives is a committee that embodies new ideas, projects, and initiatives that will create a \\ndifference. It promises to bring out the soft and humanitarian side of you in the pursuit of \\ntaking our fest to higher echelons of success.  \\nOrganisers:  Arkapr ava Ray  and Sumedha Banthia  \\nEmail: initiatives@aaruush.net',\n",
              " 'taking our fest to higher echelons of success.  \\nOrganisers:  Arkapr ava Ray  and Sumedha Banthia  \\nEmail: initiatives@aaruush.net  \\n \\n9) Operations and Resource Management:  \\nThe Operations and Resource Management (ORM) Committee is in charge of all resource \\nrequirements and their management, permissions for the team, and those required for the \\nsmooth flow of all the events. It is responsible for carrying out operations, fulfil ling \\nrequirements, obtaining permissions, controlling the crowd, performing crisis management, \\nbrainstorming, and innovating solutions for event management.   \\n \\nOrganisers: Karaka Rahul and Nurukurthi Veera Venkata Ganesh  \\nEmail: orm@aaruush.net   \\n \\n10) Outreach:  \\nThe Outreach Committee functions in collaboration with other colleges and universities by',\n",
              " 'Organisers: Karaka Rahul and Nurukurthi Veera Venkata Ganesh  \\nEmail: orm@aaruush.net   \\n \\n10) Outreach:  \\nThe Outreach Committee functions in collaboration with other colleges and universities by \\nconducting events modeled by committees and domains to represent Aaruush as a brand \\nacross the entire nation. These events are held to provide experience to the participants. \\nEstablishing and maintaining a good professional relationship with other schools, \\nuniversities, institutions, and representatives is also critical for the Outreach work profile.  \\nOrganiser: Abhishek Arora   \\nEmail: outreach@aaruush.org  \\n \\n11) Public Relations:  \\nPublic Relations in Aaruush are a distinctive management body that helps establish and',\n",
              " \"Organiser: Abhishek Arora   \\nEmail: outreach@aaruush.org  \\n \\n11) Public Relations:  \\nPublic Relations in Aaruush are a distinctive management body that helps establish and \\nmaintain lines of communication between the organization and its public. It includes content \\nwriting, documenting, achieving certified patronages and accreditations, anc horing, etc. It is \\ndivided into four sub -divisions: Letters, Documentation, NGOs, and Media. Media builds an \\nindividual's interpersonal and public speaking skills, addressing a crowd of thousands to \\ngiving our voice off -screen for podcasts and radio. It en ables one to explore their creative \\nside and make it hyper -useful to write scripts, screenplays, and sketches for Aaruush, record\",\n",
              " 'giving our voice off -screen for podcasts and radio. It en ables one to explore their creative \\nside and make it hyper -useful to write scripts, screenplays, and sketches for Aaruush, record \\nvlogs, and conduct interviews of the myriad of guests joining us for the fest.  \\nOrganisers: Abhilasha, Jishnu Kumar Srivastava  and Stuti Chauhan  \\nEmail:  pro@aaruush.net  \\n \\n12) Quality Assurance:  \\nThe main aim of Quality Assurance is to maintain the desired level of quality of the fest that \\nwe uphold and to strive forward and refine it in ev ery step. It comprises data analysis, report \\nwriting, required follow -up during implementation, and accommodation of external \\nparticipants during the fest. One of the significant job profiles of the committee while',\n",
              " 'writing, required follow -up during implementation, and accommodation of external \\nparticipants during the fest. One of the significant job profiles of the committee while \\nmaintaining the quality is ideating and e xecuting GWR.  \\nOrganisers: Anubhav Mathur, Gayatri Ajith, and Stuti Chauhan  \\nEmail:  qa@aaruush.net  \\n  \\n \\n13) Sponsorship & Marketing:  \\nFrom having corporate meetings with various professionals to bringing sponsors and \\nimplementing marketing ideas, the committee attempts to deliver more than a drive -by \\nimpression. The committee expects potential members to strategize the various marketing \\ntactics to shape various business deals around the fest.  \\nOrganisers: Abhilakshit Kat hait, Arnav Sharma, and Rachana Komanduri  \\nEmail:  sponsorship@aaruush.net  \\n \\n14) Workshops:',\n",
              " 'tactics to shape various business deals around the fest.  \\nOrganisers: Abhilakshit Kat hait, Arnav Sharma, and Rachana Komanduri  \\nEmail:  sponsorship@aaruush.net  \\n \\n14) Workshops:  \\nThe committee conceptualizes design and conducts workshops on various technology fields \\nin collaboration with big organizations across the country. Workshops are also responsible \\nfor the Common Registrations before the main Aaruush Days, and the distributi on of \\ncertificates is taken care of by the committee.  \\nOrganisers: Abhishek Arora, Arnav Sharma, and Jishnu Kumar Srivastava  \\nEmail:  workshops@aaruush.org  \\n \\nTeam Envision  \\nTeam Envision is a Multidisciplinary Te chnical Team of Aaruush that aims to provide \\nsolutions to most campus and societal issues. Team Envision participated in Rajasthan',\n",
              " 'Team Envision  \\nTeam Envision is a Multidisciplinary Te chnical Team of Aaruush that aims to provide \\nsolutions to most campus and societal issues. Team Envision participated in Rajasthan \\nHackathon, Mozofest Hackathon, and Accenture Blockchain Hackathon, wherein we \\npresented hacks based on Campus and Societal Is sues, which won accolades. Team Envision \\nis a consortium of AI, IoT, Blockchain, Web & App Developers, Visual Designers, and \\nElectrical and Mechanical Engineers who work closely to ideate, design, fabricate and \\ndevelop products to tackle campus and societa l issues and problems. These products can also \\ntake the form of a research paper that can be published in renowned international conferences',\n",
              " 'develop products to tackle campus and societa l issues and problems. These products can also \\ntake the form of a research paper that can be published in renowned international conferences \\nor can be filed for patent. It is a team where we convert vision to reality. Bring us your ideas, \\nand we will Envis ion them together.  \\nOrganisers: Dhanya Sri Aravapalli, Rishabh Gupta, Sahaj Ghatiya and Sanjukta Sen  \\nEmail:  envision@aaruush.org  \\n \\nWork Profile of Team Envision:  \\n● Technical support for all Aaruush Events including both hardware and software.  \\n● Development of Aaruush Website , all Aaruush Portals a nd Android/iOS applications.   \\n \\n● Projects related to the campus and social causes.  \\n \\nProjects Done By Team Envision  \\n● A’19 Website  \\n● Aaruush Application (Android & iOS)',\n",
              " '● Projects related to the campus and social causes.  \\n \\nProjects Done By Team Envision  \\n● A’19 Website  \\n● Aaruush Application (Android & iOS)  \\n● Trash -it \\n● Suroma House of Children Website  \\n● Near You App  \\n● Low Cost IoT Hybrid Mesh Multicast Tree Network for Smart Agriculture  \\n● Grid Connected Solar PV Array System using CFTS  \\n● A’20 Website  \\n● Aaruush Campus Ambassador Program Portal  \\n● Here For You App  \\n \\nDivisions of Team Envision:  \\nTeam Envision comprises of 9 divisions:  \\n1. AI/ML:   \\nDive deep into the world of Artificial Intelligence and Machine learning and develop \\ntechnologies that work exactly like humans and serve social causes. Be it developing \\nautomatic smart systems, working on various OpenCV projects, building systems to address',\n",
              " 'technologies that work exactly like humans and serve social causes. Be it developing \\nautomatic smart systems, working on various OpenCV projects, building systems to address \\ndaily life problems and solving problems related to our college campus using machine \\nlearning technologies, we have got you covered.  \\n \\n \\n2. App Development:   \\nIf you are into developi ng creative and functional mobile applications with amazing user \\nexperience, then this is the right division to work for. From developing apps for our college \\nand Aaruush to addressing social issues through technology, we have got it all. Some of our \\nprevi ous projects include Near You App and Here For You which is a mental health tracking \\napp. \\n \\n \\n  \\n \\n3. Blockchain:',\n",
              " 'previ ous projects include Near You App and Here For You which is a mental health tracking \\napp. \\n \\n \\n  \\n \\n3. Blockchain:   \\nStep into the world of Blockchain technologies and grab the wonderful opportunity to work \\non collaborative projects and learn a number of trending tec hnologies including Web3, \\nDapps, NFT, Metaverse and a lot more.  \\n \\n \\n4. Cyber Security:   \\nIf you want to be a part of the Tech Army that protects networks, programs and systems from \\ndifferent digital and cyber attacks, this is just the place for you. Here’s your opportunity to \\ngrab the chance to work on exciting projects and be a part of several cyber security \\nhackathons and competitions with us.  \\n \\n \\n5. Designer Team:',\n",
              " 'grab the chance to work on exciting projects and be a part of several cyber security \\nhackathons and competitions with us.  \\n \\n \\n5. Designer Team:   \\nIf creativity is your strength, then this is just the correct sub -division for you. From designing \\nposters for Social Media and graphics for websites and webapps using different graphic \\ndesigning tools, video making or providing meaning and appealing appearance and user \\nexperience to applications and websites, this division has it all.  \\n \\n \\n6. Edito rial:  \\nThis division plays a major role in handling the corporate part of the team. Be it planning and \\nmanagement of events or preparing content and captions for our social media, the editorial \\ndivision takes care of all of it.   \\n \\n \\n7. Game Development:',\n",
              " \"management of events or preparing content and captions for our social media, the editorial \\ndivision takes care of all of it.   \\n \\n \\n7. Game Development:   \\nIf you 're someone who is extremely passionate for video games, how about trying your hands \\nat building and designing one ? Here is the right opportunity for you to test your brains and \\ncreativity and build video games of your own.   \\n \\n \\n \\n8. Hardware:   \\nInquisitive to e xplore the hardware aspect of technology? Be it Internet of Things or the \\nMechanical & Electrical domains of Engineering, we are right here to give you some real -\\ntime hands -on project experiences like no other in the campus.   \\n \\n \\n9. Web Development:   \\nStep into the world of building attractive and interactive Websites and Web Applications with\",\n",
              " 'time hands -on project experiences like no other in the campus.   \\n \\n \\n9. Web Development:   \\nStep into the world of building attractive and interactive Websites and Web Applications with \\ndistinguished user interfaces. Ranging from building the Aaruush Official Website to \\nmaintaining all the official Aaruush Web Portals, the Web Development team works on \\nhands-on projects all throughout the year.  \\n  \\n  \\n \\nEvents Conducted in Aaruush’22 so far:  \\n● Square One (29th March)  \\n● T-SUMMIT 6.0 (23rd to 24th April)  \\n● Unsung Heroes (7th May)  \\n● Anigma (18th May to 5th June)  \\n● Online Design Challenge (27th June to 8th July)  \\n● Zone Play (9th to 26th July )  \\n● Aerospanza (20th August to 11th September)  \\n● Aaruush Induction (14th September)  \\n● Hybrid Hack (22nd September)',\n",
              " '● Zone Play (9th to 26th July )  \\n● Aerospanza (20th August to 11th September)  \\n● Aaruush Induction (14th September)  \\n● Hybrid Hack (22nd September)  \\n \\nMain Flagship Events of Aaruush:  \\nNasa  Space Apps Challenge  by Championships & Challenges  \\nCodematrix  by Championships & Challenges  \\nColosseum  by Public Relations  \\nLanstrom  by X -Zone & E -Sports  \\nAaruush Educates  by Quality Assurance  \\nHack Summit  by Championships & Challenges  \\nHybrid Hack by Electrizite  \\nMini Lanstrom  by X -Zone & E -Sports  \\nMaster  Stroke  by Creati ves and Deco & Arts  \\nArt Attack  by Deco & Arts  \\nAaruush Young Minds by Corporate Strategy & Implementation  \\nCampus Ambassador Program by Corporate Strategy & Implementation  \\nX-Zone X -Play by X -Zone & E -Sports  \\nMain Quiz by Fundaz',\n",
              " 'Aaruush Young Minds by Corporate Strategy & Implementation  \\nCampus Ambassador Program by Corporate Strategy & Implementation  \\nX-Zone X -Play by X -Zone & E -Sports  \\nMain Quiz by Fundaz  \\nE-Summit by Magefficie and E -Summit   \\n \\nCascase  by Magefficie and E -Summit  \\nT-Summit  by Inititaitives  \\nSRM Run by Initiatives  \\nCanoe Challenge  by Konstruktion  \\nTeachBot by Team Envision']"
            ]
          },
          "execution_count": 54,
          "metadata": {},
          "output_type": "execute_result"
        }
      ],
      "source": [
        "texts[:50]"
      ]
    },
    {
      "cell_type": "code",
      "execution_count": 55,
      "metadata": {
        "colab": {
          "base_uri": "https://localhost:8080/"
        },
        "id": "l7hO-vPzXzcz",
        "outputId": "d7005a31-031c-498c-af4a-e9fbe92816bb"
      },
      "outputs": [
        {
          "name": "stdout",
          "output_type": "stream",
          "text": [
            "Inserted 35 headlines.\n"
          ]
        }
      ],
      "source": [
        "astra_vector_store.add_texts(texts[:50])\n",
        "print(\"Inserted %i headlines.\" %len(texts[:50]))\n",
        "astra_vector_index =VectorStoreIndexWrapper(vectorstore=astra_vector_store)"
      ]
    },
    {
      "cell_type": "code",
      "execution_count": null,
      "metadata": {
        "id": "vTrywtmlZu4-"
      },
      "outputs": [],
      "source": []
    },
    {
      "cell_type": "markdown",
      "metadata": {
        "id": "3B-r2scCaQit"
      },
      "source": [
        "Q/A session start"
      ]
    },
    {
      "cell_type": "code",
      "execution_count": 59,
      "metadata": {
        "colab": {
          "base_uri": "https://localhost:8080/"
        },
        "id": "KfPg7fUqaURX",
        "outputId": "5cf39c73-7ecd-44b9-e41c-1cd8c5669b37"
      },
      "outputs": [
        {
          "name": "stdout",
          "output_type": "stream",
          "text": [
            "\n",
            "Enter your Question [or type quit to exit]:what is team envision?\n",
            "\n",
            "Question:\"what is team envision?\"\n"
          ]
        },
        {
          "name": "stderr",
          "output_type": "stream",
          "text": [
            "WARNING:cassandra.protocol:Server warning: Top-K queries can only be run with consistency level ONE / LOCAL_ONE / NODE_LOCAL. Consistency level LOCAL_QUORUM was requested. Downgrading the consistency level to LOCAL_ONE.\n"
          ]
        },
        {
          "name": "stdout",
          "output_type": "stream",
          "text": [
            "answer:\"Team Envision is a Multidisciplinary Technical Team of Aaruush that aims to provide solutions to campus and societal issues through the development of products and research papers. They also provide technical support for Aaruush events and have worked on projects related to campus and social causes, such as the A'19 website and Aaruush application.\"\n",
            "\n",
            "first doc by relevence:\n"
          ]
        },
        {
          "name": "stderr",
          "output_type": "stream",
          "text": [
            "WARNING:cassandra.protocol:Server warning: Top-K queries can only be run with consistency level ONE / LOCAL_ONE / NODE_LOCAL. Consistency level LOCAL_QUORUM was requested. Downgrading the consistency level to LOCAL_ONE.\n"
          ]
        },
        {
          "name": "stdout",
          "output_type": "stream",
          "text": [
            " [0.9415]\"Team Envision  \n",
            "Team Envision is a Multidisciplinary Te chnical Team of Aaruush that...\"\n",
            " [0.9415]\"Team Envision  \n",
            "Team Envision is a Multidisciplinary Te chnical Team of Aaruush that...\"\n",
            " [0.9145]\"develop products to tackle campus and societa l issues and problems. These products ...\"\n",
            " [0.9145]\"develop products to tackle campus and societa l issues and problems. These products ...\"\n",
            "\n",
            " What is your Next Question:events organised by envision\n"
          ]
        },
        {
          "name": "stderr",
          "output_type": "stream",
          "text": [
            "WARNING:cassandra.protocol:Server warning: Top-K queries can only be run with consistency level ONE / LOCAL_ONE / NODE_LOCAL. Consistency level LOCAL_QUORUM was requested. Downgrading the consistency level to LOCAL_ONE.\n"
          ]
        },
        {
          "name": "stdout",
          "output_type": "stream",
          "text": [
            "\n",
            "Question:\"events organised by envision\"\n"
          ]
        },
        {
          "name": "stderr",
          "output_type": "stream",
          "text": [
            "WARNING:cassandra.protocol:Server warning: Top-K queries can only be run with consistency level ONE / LOCAL_ONE / NODE_LOCAL. Consistency level LOCAL_QUORUM was requested. Downgrading the consistency level to LOCAL_ONE.\n"
          ]
        },
        {
          "name": "stdout",
          "output_type": "stream",
          "text": [
            "answer:\"Team Envision has provided technical support for all Aaruush Events, such as the A'19 Website and the Aaruush Application (Android & iOS). They have also participated in various hackathons and presented solutions to campus and societal issues.\"\n",
            "\n",
            "first doc by relevence:\n",
            " [0.9218]\"Team Envision  \n",
            "Team Envision is a Multidisciplinary Te chnical Team of Aaruush that...\"\n",
            " [0.9218]\"Team Envision  \n",
            "Team Envision is a Multidisciplinary Te chnical Team of Aaruush that...\"\n",
            " [0.9126]\"develop products to tackle campus and societa l issues and problems. These products ...\"\n",
            " [0.9125]\"develop products to tackle campus and societa l issues and problems. These products ...\"\n",
            "\n",
            " What is your Next Question:Teachbot\n",
            "\n",
            "Question:\"Teachbot\"\n"
          ]
        },
        {
          "name": "stderr",
          "output_type": "stream",
          "text": [
            "WARNING:cassandra.protocol:Server warning: Top-K queries can only be run with consistency level ONE / LOCAL_ONE / NODE_LOCAL. Consistency level LOCAL_QUORUM was requested. Downgrading the consistency level to LOCAL_ONE.\n",
            "WARNING:cassandra.protocol:Server warning: Top-K queries can only be run with consistency level ONE / LOCAL_ONE / NODE_LOCAL. Consistency level LOCAL_QUORUM was requested. Downgrading the consistency level to LOCAL_ONE.\n"
          ]
        },
        {
          "name": "stdout",
          "output_type": "stream",
          "text": [
            "answer:\"Teachbot is a division that focuses on developing technologies that mimic human teaching abilities and serve social causes. This includes creating automatic smart systems, working on OpenCV projects, and using machine learning technologies to solve daily life problems and issues on college campuses. They also work on developing mobile applications, such as the Near You App and Here For You, which addresses mental health tracking. Blockchain is another division that focuses on the development of blockchain technology.\"\n",
            "\n",
            "first doc by relevence:\n",
            " [0.8965]\"Organiser: Harsh Bardhan  \n",
            "Email:  praesentatio@aaruush.net  \n",
            " \n",
            "11) Robogyan:  \n",
            "Robo...\"\n",
            " [0.8965]\"Organiser: Harsh Bardhan  \n",
            "Email:  praesentatio@aaruush.net  \n",
            " \n",
            "11) Robogyan:  \n",
            "Robo...\"\n",
            " [0.8932]\"technologies that work exactly like humans and serve social causes. Be it developing...\"\n",
            " [0.8932]\"technologies that work exactly like humans and serve social causes. Be it developing...\"\n",
            "\n",
            " What is your Next Question:projects done by team envision\n"
          ]
        },
        {
          "name": "stderr",
          "output_type": "stream",
          "text": [
            "WARNING:cassandra.protocol:Server warning: Top-K queries can only be run with consistency level ONE / LOCAL_ONE / NODE_LOCAL. Consistency level LOCAL_QUORUM was requested. Downgrading the consistency level to LOCAL_ONE.\n"
          ]
        },
        {
          "name": "stdout",
          "output_type": "stream",
          "text": [
            "\n",
            "Question:\"projects done by team envision\"\n"
          ]
        },
        {
          "name": "stderr",
          "output_type": "stream",
          "text": [
            "WARNING:cassandra.protocol:Server warning: Top-K queries can only be run with consistency level ONE / LOCAL_ONE / NODE_LOCAL. Consistency level LOCAL_QUORUM was requested. Downgrading the consistency level to LOCAL_ONE.\n"
          ]
        },
        {
          "name": "stdout",
          "output_type": "stream",
          "text": [
            "answer:\"Some of the projects done by Team Envision include developing websites for A'19 and A'20, creating the Aaruush application for Android and iOS, designing the Suroma House of Children website, developing the Near You app, and working on various projects related to AI/ML, IoT, and solar energy.\"\n",
            "\n",
            "first doc by relevence:\n",
            " [0.9422]\"Team Envision  \n",
            "Team Envision is a Multidisciplinary Te chnical Team of Aaruush that...\"\n",
            " [0.9422]\"Team Envision  \n",
            "Team Envision is a Multidisciplinary Te chnical Team of Aaruush that...\"\n",
            " [0.9369]\"● Projects related to the campus and social causes.  \n",
            " \n",
            "Projects Done By Team Envisi...\"\n",
            " [0.9369]\"● Projects related to the campus and social causes.  \n",
            " \n",
            "Projects Done By Team Envisi...\"\n",
            "\n",
            " What is your Next Question:quit\n"
          ]
        }
      ],
      "source": [
        "f_q=True\n",
        "while True:\n",
        "  if f_q:\n",
        "    query_text=input(\"\\nEnter your Question [or type quit to exit]:\").strip()\n",
        "  else:\n",
        "    query_text =input(\"\\n What is your Next Question:\").strip()\n",
        "\n",
        "  if query_text.lower()==\"quit\":\n",
        "    break\n",
        "\n",
        "  if query_text==\"\":\n",
        "    continue\n",
        "\n",
        "  f_q=False\n",
        "\n",
        "  print(\"\\nQuestion:\\\"%s\\\"\"%query_text)\n",
        "  answer=astra_vector_index.query(query_text, llm=llm).strip()\n",
        "  print(\"answer:\\\"%s\\\"\\n\"%answer)\n",
        "\n",
        "  print(\"first doc by relevence:\")\n",
        "  for doc,score in astra_vector_store.similarity_search_with_score(query_text, k=4):\n",
        "    print(\" [%0.4f]\\\"%s...\\\"\"%(score,doc.page_content[:84]))\n"
      ]
    }
  ],
  "metadata": {
    "colab": {
      "provenance": []
    },
    "kernelspec": {
      "display_name": "Python 3",
      "name": "python3"
    },
    "language_info": {
      "name": "python"
    }
  },
  "nbformat": 4,
  "nbformat_minor": 0
}
