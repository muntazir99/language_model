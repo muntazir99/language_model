{
  "nbformat": 4,
  "nbformat_minor": 0,
  "metadata": {
    "colab": {
      "provenance": [],
      "authorship_tag": "ABX9TyPj7aCm9kV+OJ9L8FYW8zwX"
    },
    "kernelspec": {
      "name": "python3",
      "display_name": "Python 3"
    },
    "language_info": {
      "name": "python"
    }
  },
  "cells": [
    {
      "cell_type": "code",
      "execution_count": 1,
      "metadata": {
        "id": "pMFF6B44GCKq",
        "colab": {
          "base_uri": "https://localhost:8080/"
        },
        "outputId": "f6475597-fac6-4e2c-d997-4143e12ac08e"
      },
      "outputs": [
        {
          "output_type": "stream",
          "name": "stdout",
          "text": [
            "\u001b[2K     \u001b[90m━━━━━━━━━━━━━━━━━━━━━━━━━━━━━━━━━━━━━━━━\u001b[0m \u001b[32m41.3/41.3 kB\u001b[0m \u001b[31m1.2 MB/s\u001b[0m eta \u001b[36m0:00:00\u001b[0m\n",
            "\u001b[2K     \u001b[90m━━━━━━━━━━━━━━━━━━━━━━━━━━━━━━━━━━━━━━━━\u001b[0m \u001b[32m510.5/510.5 kB\u001b[0m \u001b[31m9.7 MB/s\u001b[0m eta \u001b[36m0:00:00\u001b[0m\n",
            "\u001b[2K     \u001b[90m━━━━━━━━━━━━━━━━━━━━━━━━━━━━━━━━━━━━━━━━\u001b[0m \u001b[32m809.1/809.1 kB\u001b[0m \u001b[31m33.6 MB/s\u001b[0m eta \u001b[36m0:00:00\u001b[0m\n",
            "\u001b[2K     \u001b[90m━━━━━━━━━━━━━━━━━━━━━━━━━━━━━━━━━━━━━━━━\u001b[0m \u001b[32m227.4/227.4 kB\u001b[0m \u001b[31m26.1 MB/s\u001b[0m eta \u001b[36m0:00:00\u001b[0m\n",
            "\u001b[2K     \u001b[90m━━━━━━━━━━━━━━━━━━━━━━━━━━━━━━━━━━━━━━━━\u001b[0m \u001b[32m1.8/1.8 MB\u001b[0m \u001b[31m64.7 MB/s\u001b[0m eta \u001b[36m0:00:00\u001b[0m\n",
            "\u001b[2K     \u001b[90m━━━━━━━━━━━━━━━━━━━━━━━━━━━━━━━━━━━━━━━━\u001b[0m \u001b[32m18.8/18.8 MB\u001b[0m \u001b[31m55.6 MB/s\u001b[0m eta \u001b[36m0:00:00\u001b[0m\n",
            "\u001b[2K     \u001b[90m━━━━━━━━━━━━━━━━━━━━━━━━━━━━━━━━━━━━━━━━\u001b[0m \u001b[32m116.3/116.3 kB\u001b[0m \u001b[31m16.9 MB/s\u001b[0m eta \u001b[36m0:00:00\u001b[0m\n",
            "\u001b[2K     \u001b[90m━━━━━━━━━━━━━━━━━━━━━━━━━━━━━━━━━━━━━━━━\u001b[0m \u001b[32m194.1/194.1 kB\u001b[0m \u001b[31m5.1 MB/s\u001b[0m eta \u001b[36m0:00:00\u001b[0m\n",
            "\u001b[2K     \u001b[90m━━━━━━━━━━━━━━━━━━━━━━━━━━━━━━━━━━━━━━━━\u001b[0m \u001b[32m134.8/134.8 kB\u001b[0m \u001b[31m18.5 MB/s\u001b[0m eta \u001b[36m0:00:00\u001b[0m\n",
            "\u001b[2K     \u001b[90m━━━━━━━━━━━━━━━━━━━━━━━━━━━━━━━━━━━━━━━━\u001b[0m \u001b[32m1.8/1.8 MB\u001b[0m \u001b[31m79.5 MB/s\u001b[0m eta \u001b[36m0:00:00\u001b[0m\n",
            "\u001b[2K     \u001b[90m━━━━━━━━━━━━━━━━━━━━━━━━━━━━━━━━━━━━━━━━\u001b[0m \u001b[32m258.8/258.8 kB\u001b[0m \u001b[31m25.4 MB/s\u001b[0m eta \u001b[36m0:00:00\u001b[0m\n",
            "\u001b[2K     \u001b[90m━━━━━━━━━━━━━━━━━━━━━━━━━━━━━━━━━━━━━━━━\u001b[0m \u001b[32m66.9/66.9 kB\u001b[0m \u001b[31m8.9 MB/s\u001b[0m eta \u001b[36m0:00:00\u001b[0m\n",
            "\u001b[2K     \u001b[90m━━━━━━━━━━━━━━━━━━━━━━━━━━━━━━━━━━━━━━━━\u001b[0m \u001b[32m75.6/75.6 kB\u001b[0m \u001b[31m10.8 MB/s\u001b[0m eta \u001b[36m0:00:00\u001b[0m\n",
            "\u001b[2K     \u001b[90m━━━━━━━━━━━━━━━━━━━━━━━━━━━━━━━━━━━━━━━━\u001b[0m \u001b[32m49.4/49.4 kB\u001b[0m \u001b[31m6.6 MB/s\u001b[0m eta \u001b[36m0:00:00\u001b[0m\n",
            "\u001b[2K     \u001b[90m━━━━━━━━━━━━━━━━━━━━━━━━━━━━━━━━━━━━━━━━\u001b[0m \u001b[32m77.8/77.8 kB\u001b[0m \u001b[31m11.5 MB/s\u001b[0m eta \u001b[36m0:00:00\u001b[0m\n",
            "\u001b[2K     \u001b[90m━━━━━━━━━━━━━━━━━━━━━━━━━━━━━━━━━━━━━━━━\u001b[0m \u001b[32m58.3/58.3 kB\u001b[0m \u001b[31m7.8 MB/s\u001b[0m eta \u001b[36m0:00:00\u001b[0m\n",
            "\u001b[2K     \u001b[90m━━━━━━━━━━━━━━━━━━━━━━━━━━━━━━━━━━━━━━━━\u001b[0m \u001b[32m53.0/53.0 kB\u001b[0m \u001b[31m7.2 MB/s\u001b[0m eta \u001b[36m0:00:00\u001b[0m\n",
            "\u001b[2K     \u001b[90m━━━━━━━━━━━━━━━━━━━━━━━━━━━━━━━━━━━━━━━━\u001b[0m \u001b[32m138.5/138.5 kB\u001b[0m \u001b[31m19.8 MB/s\u001b[0m eta \u001b[36m0:00:00\u001b[0m\n",
            "\u001b[?25h"
          ]
        }
      ],
      "source": [
        "!pip install -q cassio datasets langchain openai tiktoken"
      ]
    },
    {
      "cell_type": "code",
      "source": [
        "from langchain.vectorstores.cassandra import Cassandra\n",
        "from langchain.indexes.vectorstore import VectorStoreIndexWrapper\n",
        "from langchain.llms import OpenAI\n",
        "#from openai import OpenAI\n",
        "from langchain.embeddings import OpenAIEmbeddings\n",
        "\n",
        "from datasets import load_dataset\n",
        "\n",
        "import cassio"
      ],
      "metadata": {
        "id": "aE9BEidJr6HI"
      },
      "execution_count": 2,
      "outputs": []
    },
    {
      "cell_type": "code",
      "source": [
        "!pip install PyPDF2"
      ],
      "metadata": {
        "colab": {
          "base_uri": "https://localhost:8080/"
        },
        "id": "s9RzFYHqsoKz",
        "outputId": "0572125a-c4fb-47ca-f018-84cc784f4cdf"
      },
      "execution_count": 3,
      "outputs": [
        {
          "output_type": "stream",
          "name": "stdout",
          "text": [
            "Collecting PyPDF2\n",
            "  Downloading pypdf2-3.0.1-py3-none-any.whl (232 kB)\n",
            "\u001b[2K     \u001b[90m━━━━━━━━━━━━━━━━━━━━━━━━━━━━━━━━━━━━━━━━\u001b[0m \u001b[32m232.6/232.6 kB\u001b[0m \u001b[31m3.3 MB/s\u001b[0m eta \u001b[36m0:00:00\u001b[0m\n",
            "\u001b[?25hInstalling collected packages: PyPDF2\n",
            "Successfully installed PyPDF2-3.0.1\n"
          ]
        }
      ]
    },
    {
      "cell_type": "code",
      "source": [
        "from PyPDF2 import PdfReader"
      ],
      "metadata": {
        "id": "Gz1TSlMItwoR"
      },
      "execution_count": 4,
      "outputs": []
    },
    {
      "cell_type": "code",
      "source": [
        "ASTRA_DB_APPLICATION_TOKEN=\"\"\n",
        "ASTRA_DB_ID=\"\"\n",
        "OPENAI_API_KEY=\"OPENAI_API_KEY\""
      ],
      "metadata": {
        "id": "lIj4ML7CuKVB"
      },
      "execution_count": 5,
      "outputs": []
    },
    {
      "cell_type": "code",
      "source": [
        "pdfreader=PdfReader('path.pdf')"
      ],
      "metadata": {
        "id": "1JhHhxStuz-l"
      },
      "execution_count": 6,
      "outputs": []
    },
    {
      "cell_type": "code",
      "source": [
        "from typing_extensions import Concatenate\n",
        "raw_text=''\n",
        "for i,page in enumerate(pdfreader.pages):\n",
        "  content = page.extract_text()\n",
        "  if content:\n",
        "    raw_text+=content"
      ],
      "metadata": {
        "id": "iUJAvYxdveuf"
      },
      "execution_count": 7,
      "outputs": []
    },
    {
      "cell_type": "code",
      "source": [
        "print(raw_text)"
      ],
      "metadata": {
        "colab": {
          "base_uri": "https://localhost:8080/"
        },
        "id": "mjS3oaVvEuFV",
        "outputId": "978764b6-1a86-47a3-b9d1-6eaf351bcb1c"
      },
      "execution_count": 8,
      "outputs": [
        {
          "output_type": "stream",
          "name": "stdout",
          "text": [
            "CASE REPORT\n",
            "Archives of Clinical and Experimental Surgery\n",
            "2022 VOL 11, NO. 8, PAGES 01-08\n",
            "Open Access\n",
            "Comprehensive Treatment of a Rare Primary Malignant Pericardial Mesothelioma: A \n",
            "Case Report and Literature Review\n",
            "Chunyu Liu, Bin Zhao, Weiwei Cheng, Dongliang Ma, Xing Wei, Shunye Zhang\n",
            "*\n",
            "Department of Cardiac Surgery, Shanxi Cardiovascular Hospital, Taiyuan of Shanxi province, China\n",
            "Contact:\n",
            " Zhang S, Tel: +8613663618362, E-mail: xxgwk@139.com\n",
            "Copyright: \n",
            "© 2022 The Authors. This is an open access article under the terms of the Creative Commons Attribution NonCommercial ShareAlike 4.0   \n",
            "(https://creativecommons.org/licenses/by-nc-sa/4.0/).\n",
            "Introduction\n",
            "Cardiac tumours are rare [1]. Pericardial malignan -\n",
            "cies account for only 0.0025% of all malignant tu -\n",
            "mours and less than 2% of all cardiac tumours [2,3]. \n",
            "PMPM, originating from pericardial mesothelial cells, \n",
            "can be divided into diffuse and localised types. The \n",
            "diffuse type is characterised by obvious bleeding, \n",
            "exudation, and infiltrative growth, especially along \n",
            "the pericardium. In the early stage, PMPM can only \n",
            "show nodule-like, plaque-like or warty protrusions \n",
            "on the pericardial surface, and then the pericardium \n",
            "gradually thickens. In the late stage, part or even all \n",
            "of the heart is surrounded by the tumour, resulting in \n",
            "symptoms of cardiac compression. PMPM invades the \n",
            "heart or other organs owing to its insidious nature \n",
            "and atypical symptoms. PMPM has a poor prognosis \n",
            "because it is difficult to treat with radical surgical re -\n",
            "section, and there is insufficient evidence regarding \n",
            "the effects of radiotherapy and chemotherapy on this \n",
            "disease entity. Thomason et al. presented a case re -\n",
            "port and review of PMPM, and Basso provided rec -ommendations for its treatment, but standardized \n",
            "guidelines for the treatment of PMPM are lacking. \n",
            "Case Presentation and Therapy\n",
            "A 64-year-old female patient with an unremarkable \n",
            "medical history, except for cholecystectomy for cho -\n",
            "lecystitis with gallstones 7 years prior, presented to \n",
            "our facility with asymptomatic massive pericardial \n",
            "effusion accidentally found through Trans Thorac -\n",
            "ic Echocardiography (TTE). Multi Slice Computed \n",
            "Tomography (MSCT) and CMR showed moderate \n",
            "pleural effusion on both sides (further laboratory \n",
            "tests revealed that the Rivalta reaction was weak -\n",
            "ly positive, and tumour markers were negative) and \n",
            "multiple thickened pericardium (Figures 1a and 1b). \n",
            "18F-FDG imaging-Position Emission Tomography/\n",
            "Computed Tomography (PET/CT) showed scattered \n",
            "a partial increase in pericardial metabolism (SUV -\n",
            "max=5.75-6.82) but no distant metastasis (Figures \n",
            "2a-2d). A malignant pericardial tumour was suspect -\n",
            "ed and appeared to be completely unresectable. For \n",
            "further diagnosis, ultrasound-guided pericardiocen -\n",
            "ABSTRACT\n",
            "Background:  Primary Malignant Pericardial Mesothelioma (PMPM) is an extremely \n",
            "rare aggressive malignancy with nonspecific symptoms; thus, cases of PMPM are \n",
            "usually found incidentally. Despite treatment, it is considered as extremely fatal.\n",
            "Case presentation: We encountered an asymptomatic 64-year-old woman diagnosed \n",
            "with PMPM by Positron Emission Tomography/Computed Tomography (PET/CT). After \n",
            "22 months of supportive treatment and chemotherapy, she presented to our facility \n",
            "with progressive dyspnoea. Surgery was performed. Excision biopsy showed thickening \n",
            "pericardium and many poorly circumscribed masses, and cut sections showed \n",
            "friable grey–white tissue with areas of necrosis. Pathological examination confirmed \n",
            "epithelium-like malignant mesothelioma. The patient was continuously treated with \n",
            "a previously prescribed chemotherapy regimen. The patient did not exhibit dyspnoea \n",
            "recurrence, and PET/CT showed no progression 7 months postoperatively.\n",
            "Conclusion:  Comprehensive treatment, including chemotherapy, supportive \n",
            "treatment, and timely surgery, is effective for unresectable PMPM. When patients \n",
            "present with symptoms caused by PMPM that are not relieved by medication, we \n",
            "recommend prioritising urgent surgery.\n",
            "ARTICLE HISTORY  \n",
            "Received: 21-Jul-2022, Manuscript \n",
            "No. EJMACES-22-69791; Editor \n",
            "assigned: 25-Jul-2022, PreQC \n",
            "No. EJMACES-22-69791 (PQ); \n",
            "Reviewed: 08-Aug-2022, QC No. \n",
            "EJMACES-22-69791; Revised: \n",
            "16-Aug-2022, Manuscript No. \n",
            "EJMACES-22-69791 (R); Published: \n",
            "23-Aug-2022\n",
            "KEYWORDS  \n",
            "Primary malignant pericardial \n",
            "mesothelioma; Comprehensive \n",
            "treatment; Diagnosis; Case report\n",
            "ABBREVIATIONS  \n",
            "MSCT: Multislice Computed \n",
            "Tomography; CMR: Cardiac \n",
            "Magnetic Resonance; PET/CT:  \n",
            "Positron Emission Tomography/\n",
            "Computed Tomography; TTE: \n",
            "Trans Thoracic Echocardiography; \n",
            "PMPM: Primary Malignant \n",
            "Pericardial Mesothelioma\n",
            "IntroductionChunyu Liu, Bin Zhao, Weiwei Cheng, Dongliang Ma, Xing Wei, Shunye Zhang\n",
            "Arch Clin Exp Surg • 2022 • Vol 11 • Issue 8 2\n",
            "tesis was performed, and laboratory analysis revealed \n",
            "that adenosine deaminase tests were negative, and \n",
            "no tumour markers were found, which may be relat -\n",
            "ed to too few punctured tissues or the poor diagnostic \n",
            "effect of pericardial effusion on malignant pericardial \n",
            "tumours. Pericardial effusion did not recur after peri -\n",
            "cardiocentesis. After multidisciplinary discussions, \n",
            "she received supportive treatment and chemotherapy \n",
            "with pemetrexed plus cisplatin for 21 days for four cy -\n",
            "cles. During the first cycle of chemotherapy, the patient \n",
            "presented with nausea and platelet levels of <50000 \n",
            "cell/mm\n",
            "3\n",
            " after the administration of pemetrexed (500 \n",
            "mg/m\n",
            "2\n",
            ") plus cisplatin (75 mg/m\n",
            "2\n",
            "). For the second cy -\n",
            "cle, we reduced the dose of pemetrexed to 250 mg/m\n",
            "2\n",
            " \n",
            "and the dose of cisplatin to 37.5 mg/m\n",
            "2\n",
            ". She tolerated \n",
            "this reduced dose and completed all four cycles of che -\n",
            "motherapy. However, her platelet count was still low, even though she received best supportive treatment. \n",
            "She continued to receive best supportive treatment, \n",
            "and we re-evaluated her via MSCT and TTE every six \n",
            "months. No tumour progression was noted on MSCT \n",
            "at the 6-month follow-up. However, it did reveal that \n",
            "the tumour had grown during the 12\n",
            "th\n",
            " month. A second \n",
            "four-cycle round of chemotherapy was recommended. \n",
            "However, her performance status deteriorated gradu -\n",
            "ally at the end of the first cycle of the second round, and \n",
            "she was unable to receive additional palliative chemo -\n",
            "therapy. Oncologists and nutritionists recommend the \n",
            "suspension of chemotherapy while maintaining com -\n",
            "prehensive best supportive care. The nutritional status \n",
            "of the patient improved significantly, but her pericar -\n",
            "dial disease was found to have progressed at the 22\n",
            "nd\n",
            " \n",
            "month of follow-up.\n",
            "Figure 1.  a) MSCT at the initial visit: Multiple areas of thickened pericardium; b) MSCT at 22 months: Partial thickening of the pericar -\n",
            "dium compared to prior imagingComprehensive Treatment of a Rare Primary Malignant Pericardial Mesothelioma: A Case Report and Literature Review\n",
            "3 Arch Clin Exp Surg • 2022 • Vol 11 • Issue 8\n",
            "The patient presented to our facility with progressive \n",
            "dyspnoea but no orthopnoea, chest pain, or other forms \n",
            "of discomfort in the 22\n",
            "nd\n",
            " month. On clinical examina -\n",
            "tion, her heart rate was 130 bpm, and her respirato -\n",
            "ry rate was 30 breaths/min with an oxygen saturation \n",
            "of 95% on room air. Her blood pressure was 100/60 \n",
            "mmHg with evidence of pulsus paradoxus, and her cen -\n",
            "tral venous pressure was 14 cm H\n",
            "2\n",
            "O. In addition, she \n",
            "had bilateral congested neck veins and distant heart \n",
            "sounds. Most serologic tests were within the normal \n",
            "range. ECG showed low voltage and sinus tachycardia. \n",
            "TTE revealed a thickened pericardium and a notice -\n",
            "able oval capsule mass compressing the left ventricle \n",
            "throughout the entire cardiac cycle (Figure 3). MSCT \n",
            "and CMR revealed partial thickening of the pericardi -\n",
            "um comprised of diffuse masses of varying sizes (Fig -\n",
            "ure 1b, Figure 4). Re-examination by PET/CT showed \n",
            "that metabolism of some of the masses had signifi -\n",
            "cantly increased, while others had not, but the range \n",
            "was significantly increased compared with that from \n",
            "22 months prior; no distant metastasis was observed \n",
            "(Figures 2c and 2d).\n",
            " Her pleural effusion increased significantly, and her \n",
            "dyspnoea symptoms were not relieved, even after \n",
            "closed thoracic drainage. Thus, pericardiotomy and \n",
            "pericardial mass resection and biopsy were subse -quently performed (Figure 5). Some masses were ob -\n",
            "served to surround the aorta and pulmonary artery \n",
            "and involved the left ventricle [4]. These masses could \n",
            "be resected to a certain point, even if they could not \n",
            "be completely resected. Therefore, partial resection of \n",
            "the anterior pericardium was performed. The pericar -\n",
            "dium at the junction of the superior vena cava and the \n",
            "right atrium was partially removed to loosen the con -\n",
            "striction of the mesothelium. Gross pathology of some \n",
            "of the masses revealed a well-defined encapsulated \n",
            "tumour, and the cut section showed friable grey–white \n",
            "tissue with areas of chocolate-like necrosis (Figure 5). \n",
            "The histopathology showed epithelium-like malignant \n",
            "mesothelioma, AE1/AE3(+), Calretinin(+), D240(+), \n",
            "CK56(partial+), CK7(+), mesothelial(+), Vimentin(par -\n",
            "tial cells+), WT-1(-), MOC-31(-), Ber-EP4(-), TTF-1(-), \n",
            "Napsin A(-), P53(partial+), PAX-8(-), CK19(+), CK20(-\n",
            "), ER(-), PR(-), and Ki67(approximately 60%+) (Figure \n",
            "6). Histologic sectioning confirmed that the tumour \n",
            "was PMPM. After surgery, the patient’s central venous \n",
            "pressure decreased to 3 cm H\n",
            "2\n",
            "O, and her blood pres -\n",
            "sure increased and remained stable at 110/80 mmHg. \n",
            "We present preliminary data from a case report to pro -\n",
            "vide specific medical evidence for the development of \n",
            "relevant guidelines (Figure 7).\n",
            "Figure 2.  (a,b) PET/CT at the initial visit; (c,d) PET/CT at 22 monthsChunyu Liu, Bin Zhao, Weiwei Cheng, Dongliang Ma, Xing Wei, Shunye Zhang\n",
            "Arch Clin Exp Surg • 2022 • Vol 11 • Issue 84\n",
            "Figure 3.  TTE at 22 months: Obvious oval capsular mass (white arrow)\n",
            "Figure 4.  CMR at 22 months\n",
            "Figure 5.  a) During operation; b) Cut section of PMPM; c) Gross pathology of PMPMComprehensive Treatment of a Rare Primary Malignant Pericardial Mesothelioma: A Case Report and Literature Review\n",
            "5 Arch Clin Exp Surg • 2022 • Vol 11 • Issue 8\n",
            "Figure 6.\n",
            "Figure 7.  Medical evidence for the development of relevant guidelinesCK-67(+); e) Histopathology: CK-56(+); f) Histopathology: D240(+) a) Histopathology: Mesothelial (+); b) Histopathology: AE3 (+) 200 ×; c) Histopathology: Calretinin (+); d) Histopathology: a b\n",
            "c d\n",
            "e fChunyu Liu, Bin Zhao, Weiwei Cheng, Dongliang Ma, Xing Wei, Shunye Zhang\n",
            "Arch Clin Exp Surg • 2022 • Vol 11 • Issue 86Outcome and follow-up\n",
            "After the surgery, the patient was administered con -\n",
            "ventional cardiotonic, diuretic and other symptomatic \n",
            "treatments. Her overall condition had improved, and \n",
            "TTE evaluation showed that her cardiac ejection frac -\n",
            "tion was 60%. The patient then continued the previous \n",
            "chemotherapy regimen, pemetrexed at a dose of 125 \n",
            "mg/m2 plus cisplatin at a dose of 18.75 mg/m2 for four \n",
            "cycles. Follow-up PET/CT did not show any recurrence \n",
            "or distant metastasis at 7 months postoperatively. Fur -\n",
            "ther follow-up will continue.\n",
            "Results and Discussion \n",
            "In clinical work, various questions arise for surgeons: \n",
            "What kind of imaging examination should be used to \n",
            "make an early and accurate diagnosis? Which treat -\n",
            "ment is better? What surgical treatment will confer \n",
            "the most benefit to the patient? The latest guidelines \n",
            "do not include specific recommendations for malignant \n",
            "pericardial tumours [5]. Thus, this paper describes the \n",
            "diagnosis and treatment of a case of PMPM to provide \n",
            "guidance for clinicians in making decisions regarding \n",
            "treatment planning.\n",
            "It is challenging to diagnose pericardial tumours using \n",
            "only the patient’s medical history, clinical signs, cardi -\n",
            "ac X-ray and TTE. TTE, MSCT and CMR have their own \n",
            "unique advantages and disadvantages [6], but diagnosis \n",
            "still depends on histopathology. PMPM patients do not \n",
            "present dyspnoea—the most common symptom—or \n",
            "other nonspecific symptoms when massive pericardi -\n",
            "al effusion and pericardial thickening are occasionally \n",
            "found by TTE. Because MSCT and CMR do not provide \n",
            "any more discriminating information than TTE, PET/\n",
            "CT was performed, which indicated the possibility of a \n",
            "malignant pericardial tumour. This cautiously suggests \n",
            "that when the patient is suspected of pericardial ma -\n",
            "lignancy but does not accept or cannot undergo histo -\n",
            "pathological examination, the use of PET/CT may aid in \n",
            "making an accurate diagnosis [7,8].\n",
            "In 1997, Basso et al. pointed out that surgery is the \n",
            "first and only choice for PMPM [9]. The recent cases in \n",
            "the literature provided evidence to support the use of \n",
            "combined therapy—pericardiectomy-assisted radio -\n",
            "therapy and/or chemotherapy for patients with limit -\n",
            "ed PMPM and pericardial perfusion chemotherapy af -\n",
            "ter fenestration and drainage for patients with diffuse \n",
            "PMPM—in patients who do not meet the criteria for \n",
            "complete resection. This combination therapy can al -\n",
            "leviate pain and prolong the survival time [10]. Despite \n",
            "many new advances in the diagnosis and treatment of \n",
            "PMPM, its prognosis is dismal, with a median survival time of six months [11,12]. Standard treatment for dif -\n",
            "fuse PMPM has not been well established. It has been \n",
            "reported that pemetrexed plus cisplatin, the only ap -\n",
            "proved first-line treatment for patients with unresect -\n",
            "able malignant pleural mesothelioma, is also effective \n",
            "in the short term for localised PMPM [13]. At the time \n",
            "of accidental discovery, the tumour was diffuse and \n",
            "could not be completely resected. Thus, chemotherapy \n",
            "and supportive treatment were provided. Due to man -\n",
            "ifestations of haematotoxicity and gastrointestinal tox -\n",
            "icity, the dosage of the chemotherapy regimen was ad -\n",
            "justed twice. After one and one-quarter of four cycles \n",
            "of chemotherapy, owing to the poor nutritional status \n",
            "and the reoccurrence of haematotoxicity and gastroin -\n",
            "testinal toxicity, chemotherapy was suspended, and the \n",
            "patients received best supportive treatment. After 10 \n",
            "months of supportive treatment, patient’s general con -\n",
            "dition had improved, but she suffered disease progres -\n",
            "sion, and her condition was similar to constrictive peri -\n",
            "carditis. Excluding pleural effusion, it was determined \n",
            "that her symptoms were caused by a narrowed pericar -\n",
            "dium. Surgery was performed promptly, and symptoms \n",
            "were significantly relieved. The patient’s cardiac ejec -\n",
            "tion function was 60% after surgery, and the previous \n",
            "chemotherapy regimen was resumed. The patient was \n",
            "treated with comprehensive treatment for 22 months \n",
            "before the operation. After 7 months postoperatively, \n",
            "she remains alive and continues to receive best sup -\n",
            "portive care 29 months after the first clinical manifes -\n",
            "tation. This proves that our treatment is effective.\n",
            "In 1994, Thomason et al. presented a case report and \n",
            "reviewed 27 cases of primary pericardial mesotheli -\n",
            "oma that appeared in English literature from 1972 to \n",
            "1992 [14]. Ase Nilsson, et al. reviewed 29 cases report -\n",
            "ed in the English literature from 1993 through 2008 \n",
            "in which a diagnosis of primary pericardial mesothe -\n",
            "lioma was established. In the available literature, we \n",
            "found twelve cases of PMPM (four males and eight \n",
            "females) diagnosed between 2009 and 2020 (Table \n",
            "1). The mean age at the time of diagnosis was 47.92 \n",
            "± 14.15 years. Dyspnoea was the most common clin -\n",
            "ical symptom, which was reported in 12 cases (8/12, \n",
            "66.67%). We did not find any patients with a history of \n",
            "asbestos exposure among these cases, consistent with \n",
            "the current mainstream opinion. The histologic type \n",
            "of 2 patients was not mentioned; 4 were the biphasic \n",
            "type (33.33%) and 6 were the epithelial type (50.00%). \n",
            "Seven of the 12 cases were treated with chemotherapy \n",
            "in combination with surgery; the longest survival time \n",
            "was 27 months, and the shortest survival time was 3 \n",
            "months.7 Arch Clfin Exp Surg • 2022 • Vol 11 • Issue 8\n",
            "No. Author,\n",
            "yearAge,\n",
            "genderSymptoms Asbestosis Diagnosis\n",
            "methodsTumor size(cm) Metastases and \n",
            "invansionHistologic  \n",
            "typeTreatments Outcomes\n",
            "1 Ase Nilsson, 2009 38,M Chest pain, \n",
            "dyspneaNo TTE,CMI,PET/CT 5 × 4 × 2.5 No Biphasic Surgery,\n",
            "Pemetrexed+cispatin15 mo without \n",
            "symptoms\n",
            "2 Kelli Reardon, 2010 59,FM Chest pain, \n",
            "dyspneaNo X-ray, CT,CMI 7.4 × 4.8 × 4.2 Adherence to \n",
            "right ventricleBiphasic PericardialWindows,gem -\n",
            "citabine+cisplatin,gem -\n",
            "citabine+carboplatin.\n",
            "permextred,Radiation50 mo without \n",
            "progression\n",
            "3 Mohit Godar, 2013 68,M Dyspnea No TTE,CT 3.5 No Epithelial Surgery,\n",
            "Pemetrexed+cispatinDied after 27 mo\n",
            "4 Weihui Gong, 2014 60,FM Dry cough, \n",
            "shortness of \n",
            "breathNo TTE,CT ,PET/CT 11 × 9 × 2 Adherence to \n",
            "right ventricleEpithelial Pericardiocentesis,Thora -\n",
            "centesis,Surgery,cisplat -\n",
            "in+eoposideDied after 3 mo\n",
            "5 Russell Fernandes, \n",
            "201430,FM No No TTE,CT ,CMI 10.2 × 5.2 × 0.6 Adherence to \n",
            "right ventricleEpithelial Surgery Died\n",
            "6 RajooRamachandran, \n",
            "201455,FM Dyspnea No TTE,CT ,PET/CT Max. thickness of \n",
            "1.5No Biphasic CT-guided biopsy Not mention\n",
            "7 Takeyukikurosawa, \n",
            "201637.FM Chest pain, \n",
            "dyspneaNo TTE,CT ,PET/CT Irregular,thickened \n",
            "pericardiumAdherence to \n",
            "right ventricleEpithelial Surgery,carboplat -\n",
            "in+pemetrexedDied after 18 mo\n",
            "8 SANG MI CHUNG, \n",
            "201652,FM Dyspnea, \n",
            "coughing, \n",
            "feverNo X-ray, TTE,CT,C -\n",
            "MIsurrounding the \n",
            "heartMetastased to \n",
            "both lung fieldsEpithelial Pericardial biopsy,pericar -\n",
            "diocentesis,Surgery,Peme -\n",
            "trexed+cispatin21 mo whitout \n",
            "symptoms\n",
            "9 Xiaohui Li,2017 28,M chest pain, \n",
            "Shortness of \n",
            "breathNo X-ray, TTE,CT, -\n",
            "PET/CTsurrounding the \n",
            "heartBone and right \n",
            "atrium etastasisNot mention Pericardial biopsy, Sur -\n",
            "gery,Pemetrexed+cispatinDied after 27 mo\n",
            "10 Kohei Shikano, 2018 64,FM Dyspnea No X-ray, TTE,CT surrounding the \n",
            "heartInvasion of myo -\n",
            "cardium, right \n",
            "pleura and lungEpithelial Pericardiocentesis, -\n",
            "VATS-pericardial fenestra -\n",
            "tion,surgeryDied after 5 mo\n",
            "11 Guang Song,2019 52,M Chest pain, \n",
            "dyspneaNo TTE,CT ,PET/\n",
            "CT ,CMI5 × 4 × 2.5 No Biphasic Pericardiocentesis, surgery Still alive after \n",
            "29 mo\n",
            "12 Sameh Ben Farhat, \n",
            "202032,FM Shortness of \n",
            "breathNo X-ray, TTE,CT surrounding the \n",
            "heartNo Not mention Pericardiocentesis,sur -\n",
            "gery,chemo+radiotherapyDied after 4 mo\n",
            "Note:  CT: Computed Tomography; F: Female; M: Male; CMR: Cardiac Magnetic Resonance; PET/CT: Positron Emission Tomography/Computed Tomography; TTE: TransthoracicTable 1.  Summary of literature involving primary malignant pericardial mesothelioma from 2009 to 2020.Comprehensive Treatment of a Rare Primary Malignant Pericardial Mesothelioma: A Case Report and Literature ReviewChunyu Liu, Bin Zhao, Weiwei Cheng, Dongliang Ma, Xing Wei, Shunye Zhang\n",
            "Arch Clin Exp Surg • 2022 • Vol 11 • Issue 88Conclusion\n",
            "In conclusion, comprehensive treatment, including \n",
            "chemotherapy and best supportive treatment, and \n",
            "timely surgery is effective for unrespectable PMPM. \n",
            "When patients present with symptoms caused by \n",
            "PMPM that are not relieved by medication, we recom -\n",
            "mend prioritising urgent surgery. There were no pa -\n",
            "tients found with history of asbestosis. All the patients \n",
            "had a common symptom of dysphonia (i.e shortness in \n",
            "breathing). After proper examinations, With respect to \n",
            "the patient’s condition treatment was undergone.\n",
            "Declarations\n",
            "Ethics approval and consent to participate\n",
            "Not applicable.\n",
            "Consent for publication\n",
            "The authors confirm that written consent for submis -\n",
            "sion and publication of this case report, including im -\n",
            "ages and associated text, has been obtained from the \n",
            "patient in line with COPE guidance.\n",
            "Availability of data and materials\n",
            "Not applicable.\n",
            "Competing interests\n",
            "The authors declare that they have no competing inter -\n",
            "ests in financial and non-financial.\n",
            "Funding\n",
            "Not applicable.\n",
            "Authors’ contributions\n",
            "All authors contributed equally within the limits and \n",
            "beyond their speciality in accumulating knowledge, \n",
            "diagnosing and managing this rare condition and have \n",
            "approved the manuscript. CYL and BZ were involved \n",
            "in disease management and follow-up of the patient. \n",
            "CYL was involved in the thorough literature review. \n",
            "WWC was involved in the radiological investigations \n",
            "throughout the follow-up. DLM was involved in the his -\n",
            "tological evaluation of the tumour. XW was involved in \n",
            "the surgical management and follow up of the patient. \n",
            "SYZ revised the manuscript critically for important in -\n",
            "tellectual content and gave final approval for this man -\n",
            "uscript version to be submitted.\n",
            "Acknowledgements\n",
            "We thank Lin Wang, Pathologist of Shanxi Bethune \n",
            "Hospital, for her professional help.\n",
            "References\n",
            "[1] Fernandes R, Nosib S, Thomson D, Baniak N. A rare \n",
            "cause of heart failure with preserved ejection frac -\n",
            "tion: primary pericardial mesothelioma masquer -\n",
            "ading as pericardial constriction.  BMJ Case Rep \n",
            "2014; 2014: bcr2013203194.\n",
            "[2] Song G, Bi W, Zhang X, Huang W, Zhou K, Ren W, et al. Localized primary malignant pericardial meso -\n",
            "thelioma.  J Clin Ultrasound 2019; 47(3):178-181.\n",
            "[3] Papi M, Genestreti G, Tassinari D, Lorenzini P , Serra \n",
            "S, Ricci M, et al. Malignant pericardial mesothelio -\n",
            "ma. Report of two cases, review of the literature and \n",
            "differential diagnosis. Tumori 2005;91(3):276-9.\n",
            "[4] Apicella G, Boulemden A, Citarella A, Sushma R, \n",
            "Szafranek A. Surgical treatment of a primary malig -\n",
            "nant pericardial mesothelioma: Case report.  Acta \n",
            "Chirurgica Belgica 2022; 122(1):48-50.\n",
            "[5] Adler Y, Charron P , Imazio M, Badano L, Barón-Es -\n",
            "quivias G, Bogaert J, et al. 2015 ESC Guidelines for \n",
            "the Diagnosis and Treatment of Pericardial Diseas -\n",
            "es. Kardiol Pol 2015;73(11):1028-1091.\n",
            "[6] Chung SM, Choi SJ, Kim MJ, Choi JY, Kim HJ, Lee SY, \n",
            "et al. Positive response of a primary malignant peri -\n",
            "cardial mesothelioma to pemetrexed plus cisplatin \n",
            "followed by pemetrexed maintenance chemothera -\n",
            "py: A case report.  Oncol Lett 2016;12(1):213-6.\n",
            "[7] Kurosawa T , Sugino K, Isobe K, Hata Y, Fukasawa \n",
            "Y, Homma S, et al. Primary malignant pericardial \n",
            "mesothelioma with increased serum mesothelin \n",
            "diagnosed by surgical pericardial resection: A case \n",
            "report.  Mol Clin Oncol 2016;5(5):553-6.\n",
            "[8] Hollevoet K, Reitsma JB, Creaney J, Grigoriu BD, \n",
            "Robinson BW, Scherpereel A, et al. Serum mesothe -\n",
            "lin for diagnosing malignant pleural mesothelioma: \n",
            "an individual patient data meta-analysis.  J Clin On -\n",
            "col 2012; 30(13):1541-9.\n",
            "[9] Basso C, Valente M, Poletti A, Casarotto D, Thiene \n",
            "G. Surgical pathology of primary cardiac and \n",
            "pericardial tumors.  Eur J Cardiothorac Surg \n",
            "1997;12(5):730-8.\n",
            "[10] Maruyama R, Sakai M, Nakamura T , Suemitsu R, \n",
            "Okamoto T , Wataya H, et al. Triplet chemotherapy \n",
            "for malignant pericardial mesothelioma: A case re -\n",
            "port.  Jpn J Clin Oncol 2006; 36(4):245-8.\n",
            "[11] Shimazaki H, Aida S, Iizuka Y, Yoshizu H, Tamaj \n",
            "S. Vacuolated cell mesothelioma of the pericardium \n",
            "resembling liposarcoma: A case report.  Hum Pathol \n",
            "2000;31(6):767-70.\n",
            "[12] Nilsson A, Rasmuson T . Primary pericardial \n",
            "mesothelioma: Report of a patient and literature \n",
            "review.  Case Rep Oncol 2009;2(2):125-32.\n",
            "[13] Kim JS, Lim SY, Hwang J, Kang EJ, Choi YJ. A Case \n",
            "Report of Primary Pericardial Malignant Mesothe -\n",
            "lioma Treated with Pemetrexed and Cisplatin.  J Ko -\n",
            "rean Med Sci 2017;32(11):1879-84.\n",
            "[14] Thomason R, Schlegel W, Lucca M, Cummings \n",
            "S, Lee S. Primary malignant mesothelioma of the \n",
            "pericardium. Case report and literature review. Tex \n",
            "Heart Inst J 1994;21(2):170-174.\n"
          ]
        }
      ]
    },
    {
      "cell_type": "markdown",
      "source": [
        "connection to database"
      ],
      "metadata": {
        "id": "aOMlkoEVF56d"
      }
    },
    {
      "cell_type": "code",
      "source": [
        "cassio.init(token=ASTRA_DB_APPLICATION_TOKEN, database_id=ASTRA_DB_ID)"
      ],
      "metadata": {
        "colab": {
          "base_uri": "https://localhost:8080/"
        },
        "id": "PAc9IiujGCRj",
        "outputId": "e73429bc-5b3a-443a-f523-a1879ba403b6"
      },
      "execution_count": 9,
      "outputs": [
        {
          "output_type": "stream",
          "name": "stderr",
          "text": [
            "WARNING:cassandra.cluster:Downgrading core protocol version from 66 to 65 for 78459230-d954-46e9-9f6a-07d9a7362e61-us-east1.db.astra.datastax.com:29042:e1b20a5d-8e92-4b5a-be5a-584a278235b5. To avoid this, it is best practice to explicitly set Cluster(protocol_version) to the version supported by your cluster. http://datastax.github.io/python-driver/api/cassandra/cluster.html#cassandra.cluster.Cluster.protocol_version\n",
            "WARNING:cassandra.cluster:Downgrading core protocol version from 65 to 5 for 78459230-d954-46e9-9f6a-07d9a7362e61-us-east1.db.astra.datastax.com:29042:e1b20a5d-8e92-4b5a-be5a-584a278235b5. To avoid this, it is best practice to explicitly set Cluster(protocol_version) to the version supported by your cluster. http://datastax.github.io/python-driver/api/cassandra/cluster.html#cassandra.cluster.Cluster.protocol_version\n",
            "ERROR:cassandra.connection:Closing connection <AsyncoreConnection(139190433683280) 78459230-d954-46e9-9f6a-07d9a7362e61-us-east1.db.astra.datastax.com:29042:e1b20a5d-8e92-4b5a-be5a-584a278235b5> due to protocol error: Error from server: code=000a [Protocol error] message=\"Beta version of the protocol used (5/v5-beta), but USE_BETA flag is unset\"\n",
            "WARNING:cassandra.cluster:Downgrading core protocol version from 5 to 4 for 78459230-d954-46e9-9f6a-07d9a7362e61-us-east1.db.astra.datastax.com:29042:e1b20a5d-8e92-4b5a-be5a-584a278235b5. To avoid this, it is best practice to explicitly set Cluster(protocol_version) to the version supported by your cluster. http://datastax.github.io/python-driver/api/cassandra/cluster.html#cassandra.cluster.Cluster.protocol_version\n"
          ]
        }
      ]
    },
    {
      "cell_type": "markdown",
      "source": [
        "LangChain Embedding or LLM object"
      ],
      "metadata": {
        "id": "rE_VxOTqQnPV"
      }
    },
    {
      "cell_type": "code",
      "source": [
        "llm= OpenAI(openai_api_key='OPENAI_API_KEY')\n"
      ],
      "metadata": {
        "id": "BIp83rxbGGJI"
      },
      "execution_count": 13,
      "outputs": []
    },
    {
      "cell_type": "code",
      "source": [
        "embedding = OpenAIEmbeddings(openai_api_key='OPENAI_API_KEY')"
      ],
      "metadata": {
        "id": "h2fD7n0iYLX6"
      },
      "execution_count": 14,
      "outputs": []
    },
    {
      "cell_type": "code",
      "source": [
        "astra_vector_store = Cassandra(\n",
        "    embedding=embedding,\n",
        "    table_name='qa_mini_demo',\n",
        "    session=None,\n",
        "    keyspace=None,\n",
        ")"
      ],
      "metadata": {
        "id": "ij09m-EQWY8z"
      },
      "execution_count": 15,
      "outputs": []
    },
    {
      "cell_type": "code",
      "source": [
        "from langchain.text_splitter import CharacterTextSplitter\n",
        "text_splitter = CharacterTextSplitter(\n",
        "    separator=\"\\n\",\n",
        "    chunk_size=800,\n",
        "    chunk_overlap=200,\n",
        "    length_function=len,\n",
        ")\n",
        "\n",
        "texts = text_splitter.split_text(raw_text)"
      ],
      "metadata": {
        "id": "Vbub-_1rWsp2"
      },
      "execution_count": 16,
      "outputs": []
    },
    {
      "cell_type": "code",
      "source": [
        "texts[:50]"
      ],
      "metadata": {
        "colab": {
          "base_uri": "https://localhost:8080/"
        },
        "id": "7L7KyWNyXw5w",
        "outputId": "9e4438ac-158a-4c2a-cc6a-fb7c0ca6f056"
      },
      "execution_count": 17,
      "outputs": [
        {
          "output_type": "execute_result",
          "data": {
            "text/plain": [
              "['CASE REPORT\\nArchives of Clinical and Experimental Surgery\\n2022 VOL 11, NO. 8, PAGES 01-08\\nOpen Access\\nComprehensive Treatment of a Rare Primary Malignant Pericardial Mesothelioma: A \\nCase Report and Literature Review\\nChunyu Liu, Bin Zhao, Weiwei Cheng, Dongliang Ma, Xing Wei, Shunye Zhang\\n*\\nDepartment of Cardiac Surgery, Shanxi Cardiovascular Hospital, Taiyuan of Shanxi province, China\\nContact:\\n Zhang S, Tel: +8613663618362, E-mail: xxgwk@139.com\\nCopyright: \\n© 2022 The Authors. This is an open access article under the terms of the Creative Commons Attribution NonCommercial ShareAlike 4.0   \\n(https://creativecommons.org/licenses/by-nc-sa/4.0/).\\nIntroduction\\nCardiac tumours are rare [1]. Pericardial malignan -\\ncies account for only 0.0025% of all malignant tu -',\n",
              " '(https://creativecommons.org/licenses/by-nc-sa/4.0/).\\nIntroduction\\nCardiac tumours are rare [1]. Pericardial malignan -\\ncies account for only 0.0025% of all malignant tu -\\nmours and less than 2% of all cardiac tumours [2,3]. \\nPMPM, originating from pericardial mesothelial cells, \\ncan be divided into diffuse and localised types. The \\ndiffuse type is characterised by obvious bleeding, \\nexudation, and infiltrative growth, especially along \\nthe pericardium. In the early stage, PMPM can only \\nshow nodule-like, plaque-like or warty protrusions \\non the pericardial surface, and then the pericardium \\ngradually thickens. In the late stage, part or even all \\nof the heart is surrounded by the tumour, resulting in \\nsymptoms of cardiac compression. PMPM invades the',\n",
              " 'gradually thickens. In the late stage, part or even all \\nof the heart is surrounded by the tumour, resulting in \\nsymptoms of cardiac compression. PMPM invades the \\nheart or other organs owing to its insidious nature \\nand atypical symptoms. PMPM has a poor prognosis \\nbecause it is difficult to treat with radical surgical re -\\nsection, and there is insufficient evidence regarding \\nthe effects of radiotherapy and chemotherapy on this \\ndisease entity. Thomason et al. presented a case re -\\nport and review of PMPM, and Basso provided rec -ommendations for its treatment, but standardized \\nguidelines for the treatment of PMPM are lacking. \\nCase Presentation and Therapy\\nA 64-year-old female patient with an unremarkable \\nmedical history, except for cholecystectomy for cho -',\n",
              " 'guidelines for the treatment of PMPM are lacking. \\nCase Presentation and Therapy\\nA 64-year-old female patient with an unremarkable \\nmedical history, except for cholecystectomy for cho -\\nlecystitis with gallstones 7 years prior, presented to \\nour facility with asymptomatic massive pericardial \\neffusion accidentally found through Trans Thorac -\\nic Echocardiography (TTE). Multi Slice Computed \\nTomography (MSCT) and CMR showed moderate \\npleural effusion on both sides (further laboratory \\ntests revealed that the Rivalta reaction was weak -\\nly positive, and tumour markers were negative) and \\nmultiple thickened pericardium (Figures 1a and 1b). \\n18F-FDG imaging-Position Emission Tomography/\\nComputed Tomography (PET/CT) showed scattered \\na partial increase in pericardial metabolism (SUV -',\n",
              " 'multiple thickened pericardium (Figures 1a and 1b). \\n18F-FDG imaging-Position Emission Tomography/\\nComputed Tomography (PET/CT) showed scattered \\na partial increase in pericardial metabolism (SUV -\\nmax=5.75-6.82) but no distant metastasis (Figures \\n2a-2d). A malignant pericardial tumour was suspect -\\ned and appeared to be completely unresectable. For \\nfurther diagnosis, ultrasound-guided pericardiocen -\\nABSTRACT\\nBackground:  Primary Malignant Pericardial Mesothelioma (PMPM) is an extremely \\nrare aggressive malignancy with nonspecific symptoms; thus, cases of PMPM are \\nusually found incidentally. Despite treatment, it is considered as extremely fatal.\\nCase presentation: We encountered an asymptomatic 64-year-old woman diagnosed',\n",
              " 'usually found incidentally. Despite treatment, it is considered as extremely fatal.\\nCase presentation: We encountered an asymptomatic 64-year-old woman diagnosed \\nwith PMPM by Positron Emission Tomography/Computed Tomography (PET/CT). After \\n22 months of supportive treatment and chemotherapy, she presented to our facility \\nwith progressive dyspnoea. Surgery was performed. Excision biopsy showed thickening \\npericardium and many poorly circumscribed masses, and cut sections showed \\nfriable grey–white tissue with areas of necrosis. Pathological examination confirmed \\nepithelium-like malignant mesothelioma. The patient was continuously treated with \\na previously prescribed chemotherapy regimen. The patient did not exhibit dyspnoea',\n",
              " 'epithelium-like malignant mesothelioma. The patient was continuously treated with \\na previously prescribed chemotherapy regimen. The patient did not exhibit dyspnoea \\nrecurrence, and PET/CT showed no progression 7 months postoperatively.\\nConclusion:  Comprehensive treatment, including chemotherapy, supportive \\ntreatment, and timely surgery, is effective for unresectable PMPM. When patients \\npresent with symptoms caused by PMPM that are not relieved by medication, we \\nrecommend prioritising urgent surgery.\\nARTICLE HISTORY  \\nReceived: 21-Jul-2022, Manuscript \\nNo. EJMACES-22-69791; Editor \\nassigned: 25-Jul-2022, PreQC \\nNo. EJMACES-22-69791 (PQ); \\nReviewed: 08-Aug-2022, QC No. \\nEJMACES-22-69791; Revised: \\n16-Aug-2022, Manuscript No. \\nEJMACES-22-69791 (R); Published: \\n23-Aug-2022\\nKEYWORDS',\n",
              " 'No. EJMACES-22-69791 (PQ); \\nReviewed: 08-Aug-2022, QC No. \\nEJMACES-22-69791; Revised: \\n16-Aug-2022, Manuscript No. \\nEJMACES-22-69791 (R); Published: \\n23-Aug-2022\\nKEYWORDS  \\nPrimary malignant pericardial \\nmesothelioma; Comprehensive \\ntreatment; Diagnosis; Case report\\nABBREVIATIONS  \\nMSCT: Multislice Computed \\nTomography; CMR: Cardiac \\nMagnetic Resonance; PET/CT:  \\nPositron Emission Tomography/\\nComputed Tomography; TTE: \\nTrans Thoracic Echocardiography; \\nPMPM: Primary Malignant \\nPericardial Mesothelioma\\nIntroductionChunyu Liu, Bin Zhao, Weiwei Cheng, Dongliang Ma, Xing Wei, Shunye Zhang\\nArch Clin Exp Surg • 2022 • Vol 11 • Issue 8 2\\ntesis was performed, and laboratory analysis revealed \\nthat adenosine deaminase tests were negative, and \\nno tumour markers were found, which may be relat -',\n",
              " 'tesis was performed, and laboratory analysis revealed \\nthat adenosine deaminase tests were negative, and \\nno tumour markers were found, which may be relat -\\ned to too few punctured tissues or the poor diagnostic \\neffect of pericardial effusion on malignant pericardial \\ntumours. Pericardial effusion did not recur after peri -\\ncardiocentesis. After multidisciplinary discussions, \\nshe received supportive treatment and chemotherapy \\nwith pemetrexed plus cisplatin for 21 days for four cy -\\ncles. During the first cycle of chemotherapy, the patient \\npresented with nausea and platelet levels of <50000 \\ncell/mm\\n3\\n after the administration of pemetrexed (500 \\nmg/m\\n2\\n) plus cisplatin (75 mg/m\\n2\\n). For the second cy -\\ncle, we reduced the dose of pemetrexed to 250 mg/m\\n2',\n",
              " 'cell/mm\\n3\\n after the administration of pemetrexed (500 \\nmg/m\\n2\\n) plus cisplatin (75 mg/m\\n2\\n). For the second cy -\\ncle, we reduced the dose of pemetrexed to 250 mg/m\\n2\\n \\nand the dose of cisplatin to 37.5 mg/m\\n2\\n. She tolerated \\nthis reduced dose and completed all four cycles of che -\\nmotherapy. However, her platelet count was still low, even though she received best supportive treatment. \\nShe continued to receive best supportive treatment, \\nand we re-evaluated her via MSCT and TTE every six \\nmonths. No tumour progression was noted on MSCT \\nat the 6-month follow-up. However, it did reveal that \\nthe tumour had grown during the 12\\nth\\n month. A second \\nfour-cycle round of chemotherapy was recommended. \\nHowever, her performance status deteriorated gradu -',\n",
              " 'the tumour had grown during the 12\\nth\\n month. A second \\nfour-cycle round of chemotherapy was recommended. \\nHowever, her performance status deteriorated gradu -\\nally at the end of the first cycle of the second round, and \\nshe was unable to receive additional palliative chemo -\\ntherapy. Oncologists and nutritionists recommend the \\nsuspension of chemotherapy while maintaining com -\\nprehensive best supportive care. The nutritional status \\nof the patient improved significantly, but her pericar -\\ndial disease was found to have progressed at the 22\\nnd\\n \\nmonth of follow-up.\\nFigure 1.  a) MSCT at the initial visit: Multiple areas of thickened pericardium; b) MSCT at 22 months: Partial thickening of the pericar -',\n",
              " 'nd\\n \\nmonth of follow-up.\\nFigure 1.  a) MSCT at the initial visit: Multiple areas of thickened pericardium; b) MSCT at 22 months: Partial thickening of the pericar -\\ndium compared to prior imagingComprehensive Treatment of a Rare Primary Malignant Pericardial Mesothelioma: A Case Report and Literature Review\\n3 Arch Clin Exp Surg • 2022 • Vol 11 • Issue 8\\nThe patient presented to our facility with progressive \\ndyspnoea but no orthopnoea, chest pain, or other forms \\nof discomfort in the 22\\nnd\\n month. On clinical examina -\\ntion, her heart rate was 130 bpm, and her respirato -\\nry rate was 30 breaths/min with an oxygen saturation \\nof 95% on room air. Her blood pressure was 100/60 \\nmmHg with evidence of pulsus paradoxus, and her cen -\\ntral venous pressure was 14 cm H\\n2\\nO. In addition, she',\n",
              " 'of 95% on room air. Her blood pressure was 100/60 \\nmmHg with evidence of pulsus paradoxus, and her cen -\\ntral venous pressure was 14 cm H\\n2\\nO. In addition, she \\nhad bilateral congested neck veins and distant heart \\nsounds. Most serologic tests were within the normal \\nrange. ECG showed low voltage and sinus tachycardia. \\nTTE revealed a thickened pericardium and a notice -\\nable oval capsule mass compressing the left ventricle \\nthroughout the entire cardiac cycle (Figure 3). MSCT \\nand CMR revealed partial thickening of the pericardi -\\num comprised of diffuse masses of varying sizes (Fig -\\nure 1b, Figure 4). Re-examination by PET/CT showed \\nthat metabolism of some of the masses had signifi -\\ncantly increased, while others had not, but the range',\n",
              " 'ure 1b, Figure 4). Re-examination by PET/CT showed \\nthat metabolism of some of the masses had signifi -\\ncantly increased, while others had not, but the range \\nwas significantly increased compared with that from \\n22 months prior; no distant metastasis was observed \\n(Figures 2c and 2d).\\n Her pleural effusion increased significantly, and her \\ndyspnoea symptoms were not relieved, even after \\nclosed thoracic drainage. Thus, pericardiotomy and \\npericardial mass resection and biopsy were subse -quently performed (Figure 5). Some masses were ob -\\nserved to surround the aorta and pulmonary artery \\nand involved the left ventricle [4]. These masses could \\nbe resected to a certain point, even if they could not \\nbe completely resected. Therefore, partial resection of',\n",
              " 'and involved the left ventricle [4]. These masses could \\nbe resected to a certain point, even if they could not \\nbe completely resected. Therefore, partial resection of \\nthe anterior pericardium was performed. The pericar -\\ndium at the junction of the superior vena cava and the \\nright atrium was partially removed to loosen the con -\\nstriction of the mesothelium. Gross pathology of some \\nof the masses revealed a well-defined encapsulated \\ntumour, and the cut section showed friable grey–white \\ntissue with areas of chocolate-like necrosis (Figure 5). \\nThe histopathology showed epithelium-like malignant \\nmesothelioma, AE1/AE3(+), Calretinin(+), D240(+), \\nCK56(partial+), CK7(+), mesothelial(+), Vimentin(par -\\ntial cells+), WT-1(-), MOC-31(-), Ber-EP4(-), TTF-1(-),',\n",
              " 'mesothelioma, AE1/AE3(+), Calretinin(+), D240(+), \\nCK56(partial+), CK7(+), mesothelial(+), Vimentin(par -\\ntial cells+), WT-1(-), MOC-31(-), Ber-EP4(-), TTF-1(-), \\nNapsin A(-), P53(partial+), PAX-8(-), CK19(+), CK20(-\\n), ER(-), PR(-), and Ki67(approximately 60%+) (Figure \\n6). Histologic sectioning confirmed that the tumour \\nwas PMPM. After surgery, the patient’s central venous \\npressure decreased to 3 cm H\\n2\\nO, and her blood pres -\\nsure increased and remained stable at 110/80 mmHg. \\nWe present preliminary data from a case report to pro -\\nvide specific medical evidence for the development of \\nrelevant guidelines (Figure 7).\\nFigure 2.  (a,b) PET/CT at the initial visit; (c,d) PET/CT at 22 monthsChunyu Liu, Bin Zhao, Weiwei Cheng, Dongliang Ma, Xing Wei, Shunye Zhang',\n",
              " 'relevant guidelines (Figure 7).\\nFigure 2.  (a,b) PET/CT at the initial visit; (c,d) PET/CT at 22 monthsChunyu Liu, Bin Zhao, Weiwei Cheng, Dongliang Ma, Xing Wei, Shunye Zhang\\nArch Clin Exp Surg • 2022 • Vol 11 • Issue 84\\nFigure 3.  TTE at 22 months: Obvious oval capsular mass (white arrow)\\nFigure 4.  CMR at 22 months\\nFigure 5.  a) During operation; b) Cut section of PMPM; c) Gross pathology of PMPMComprehensive Treatment of a Rare Primary Malignant Pericardial Mesothelioma: A Case Report and Literature Review\\n5 Arch Clin Exp Surg • 2022 • Vol 11 • Issue 8\\nFigure 6.',\n",
              " '5 Arch Clin Exp Surg • 2022 • Vol 11 • Issue 8\\nFigure 6.\\nFigure 7.  Medical evidence for the development of relevant guidelinesCK-67(+); e) Histopathology: CK-56(+); f) Histopathology: D240(+) a) Histopathology: Mesothelial (+); b) Histopathology: AE3 (+) 200 ×; c) Histopathology: Calretinin (+); d) Histopathology: a b\\nc d\\ne fChunyu Liu, Bin Zhao, Weiwei Cheng, Dongliang Ma, Xing Wei, Shunye Zhang\\nArch Clin Exp Surg • 2022 • Vol 11 • Issue 86Outcome and follow-up\\nAfter the surgery, the patient was administered con -\\nventional cardiotonic, diuretic and other symptomatic \\ntreatments. Her overall condition had improved, and \\nTTE evaluation showed that her cardiac ejection frac -\\ntion was 60%. The patient then continued the previous \\nchemotherapy regimen, pemetrexed at a dose of 125',\n",
              " 'TTE evaluation showed that her cardiac ejection frac -\\ntion was 60%. The patient then continued the previous \\nchemotherapy regimen, pemetrexed at a dose of 125 \\nmg/m2 plus cisplatin at a dose of 18.75 mg/m2 for four \\ncycles. Follow-up PET/CT did not show any recurrence \\nor distant metastasis at 7 months postoperatively. Fur -\\nther follow-up will continue.\\nResults and Discussion \\nIn clinical work, various questions arise for surgeons: \\nWhat kind of imaging examination should be used to \\nmake an early and accurate diagnosis? Which treat -\\nment is better? What surgical treatment will confer \\nthe most benefit to the patient? The latest guidelines \\ndo not include specific recommendations for malignant \\npericardial tumours [5]. Thus, this paper describes the',\n",
              " 'the most benefit to the patient? The latest guidelines \\ndo not include specific recommendations for malignant \\npericardial tumours [5]. Thus, this paper describes the \\ndiagnosis and treatment of a case of PMPM to provide \\nguidance for clinicians in making decisions regarding \\ntreatment planning.\\nIt is challenging to diagnose pericardial tumours using \\nonly the patient’s medical history, clinical signs, cardi -\\nac X-ray and TTE. TTE, MSCT and CMR have their own \\nunique advantages and disadvantages [6], but diagnosis \\nstill depends on histopathology. PMPM patients do not \\npresent dyspnoea—the most common symptom—or \\nother nonspecific symptoms when massive pericardi -\\nal effusion and pericardial thickening are occasionally \\nfound by TTE. Because MSCT and CMR do not provide',\n",
              " 'other nonspecific symptoms when massive pericardi -\\nal effusion and pericardial thickening are occasionally \\nfound by TTE. Because MSCT and CMR do not provide \\nany more discriminating information than TTE, PET/\\nCT was performed, which indicated the possibility of a \\nmalignant pericardial tumour. This cautiously suggests \\nthat when the patient is suspected of pericardial ma -\\nlignancy but does not accept or cannot undergo histo -\\npathological examination, the use of PET/CT may aid in \\nmaking an accurate diagnosis [7,8].\\nIn 1997, Basso et al. pointed out that surgery is the \\nfirst and only choice for PMPM [9]. The recent cases in \\nthe literature provided evidence to support the use of \\ncombined therapy—pericardiectomy-assisted radio -\\ntherapy and/or chemotherapy for patients with limit -',\n",
              " 'the literature provided evidence to support the use of \\ncombined therapy—pericardiectomy-assisted radio -\\ntherapy and/or chemotherapy for patients with limit -\\ned PMPM and pericardial perfusion chemotherapy af -\\nter fenestration and drainage for patients with diffuse \\nPMPM—in patients who do not meet the criteria for \\ncomplete resection. This combination therapy can al -\\nleviate pain and prolong the survival time [10]. Despite \\nmany new advances in the diagnosis and treatment of \\nPMPM, its prognosis is dismal, with a median survival time of six months [11,12]. Standard treatment for dif -\\nfuse PMPM has not been well established. It has been \\nreported that pemetrexed plus cisplatin, the only ap -\\nproved first-line treatment for patients with unresect -',\n",
              " 'fuse PMPM has not been well established. It has been \\nreported that pemetrexed plus cisplatin, the only ap -\\nproved first-line treatment for patients with unresect -\\nable malignant pleural mesothelioma, is also effective \\nin the short term for localised PMPM [13]. At the time \\nof accidental discovery, the tumour was diffuse and \\ncould not be completely resected. Thus, chemotherapy \\nand supportive treatment were provided. Due to man -\\nifestations of haematotoxicity and gastrointestinal tox -\\nicity, the dosage of the chemotherapy regimen was ad -\\njusted twice. After one and one-quarter of four cycles \\nof chemotherapy, owing to the poor nutritional status \\nand the reoccurrence of haematotoxicity and gastroin -\\ntestinal toxicity, chemotherapy was suspended, and the',\n",
              " 'of chemotherapy, owing to the poor nutritional status \\nand the reoccurrence of haematotoxicity and gastroin -\\ntestinal toxicity, chemotherapy was suspended, and the \\npatients received best supportive treatment. After 10 \\nmonths of supportive treatment, patient’s general con -\\ndition had improved, but she suffered disease progres -\\nsion, and her condition was similar to constrictive peri -\\ncarditis. Excluding pleural effusion, it was determined \\nthat her symptoms were caused by a narrowed pericar -\\ndium. Surgery was performed promptly, and symptoms \\nwere significantly relieved. The patient’s cardiac ejec -\\ntion function was 60% after surgery, and the previous \\nchemotherapy regimen was resumed. The patient was \\ntreated with comprehensive treatment for 22 months',\n",
              " 'tion function was 60% after surgery, and the previous \\nchemotherapy regimen was resumed. The patient was \\ntreated with comprehensive treatment for 22 months \\nbefore the operation. After 7 months postoperatively, \\nshe remains alive and continues to receive best sup -\\nportive care 29 months after the first clinical manifes -\\ntation. This proves that our treatment is effective.\\nIn 1994, Thomason et al. presented a case report and \\nreviewed 27 cases of primary pericardial mesotheli -\\noma that appeared in English literature from 1972 to \\n1992 [14]. Ase Nilsson, et al. reviewed 29 cases report -\\ned in the English literature from 1993 through 2008 \\nin which a diagnosis of primary pericardial mesothe -\\nlioma was established. In the available literature, we',\n",
              " 'ed in the English literature from 1993 through 2008 \\nin which a diagnosis of primary pericardial mesothe -\\nlioma was established. In the available literature, we \\nfound twelve cases of PMPM (four males and eight \\nfemales) diagnosed between 2009 and 2020 (Table \\n1). The mean age at the time of diagnosis was 47.92 \\n± 14.15 years. Dyspnoea was the most common clin -\\nical symptom, which was reported in 12 cases (8/12, \\n66.67%). We did not find any patients with a history of \\nasbestos exposure among these cases, consistent with \\nthe current mainstream opinion. The histologic type \\nof 2 patients was not mentioned; 4 were the biphasic \\ntype (33.33%) and 6 were the epithelial type (50.00%). \\nSeven of the 12 cases were treated with chemotherapy',\n",
              " 'of 2 patients was not mentioned; 4 were the biphasic \\ntype (33.33%) and 6 were the epithelial type (50.00%). \\nSeven of the 12 cases were treated with chemotherapy \\nin combination with surgery; the longest survival time \\nwas 27 months, and the shortest survival time was 3 \\nmonths.7 Arch Clfin Exp Surg • 2022 • Vol 11 • Issue 8\\nNo. Author,\\nyearAge,\\ngenderSymptoms Asbestosis Diagnosis\\nmethodsTumor size(cm) Metastases and \\ninvansionHistologic  \\ntypeTreatments Outcomes\\n1 Ase Nilsson, 2009 38,M Chest pain, \\ndyspneaNo TTE,CMI,PET/CT 5 × 4 × 2.5 No Biphasic Surgery,\\nPemetrexed+cispatin15 mo without \\nsymptoms\\n2 Kelli Reardon, 2010 59,FM Chest pain, \\ndyspneaNo X-ray, CT,CMI 7.4 × 4.8 × 4.2 Adherence to \\nright ventricleBiphasic PericardialWindows,gem -\\ncitabine+cisplatin,gem -\\ncitabine+carboplatin.',\n",
              " 'symptoms\\n2 Kelli Reardon, 2010 59,FM Chest pain, \\ndyspneaNo X-ray, CT,CMI 7.4 × 4.8 × 4.2 Adherence to \\nright ventricleBiphasic PericardialWindows,gem -\\ncitabine+cisplatin,gem -\\ncitabine+carboplatin.\\npermextred,Radiation50 mo without \\nprogression\\n3 Mohit Godar, 2013 68,M Dyspnea No TTE,CT 3.5 No Epithelial Surgery,\\nPemetrexed+cispatinDied after 27 mo\\n4 Weihui Gong, 2014 60,FM Dry cough, \\nshortness of \\nbreathNo TTE,CT ,PET/CT 11 × 9 × 2 Adherence to \\nright ventricleEpithelial Pericardiocentesis,Thora -\\ncentesis,Surgery,cisplat -\\nin+eoposideDied after 3 mo\\n5 Russell Fernandes, \\n201430,FM No No TTE,CT ,CMI 10.2 × 5.2 × 0.6 Adherence to \\nright ventricleEpithelial Surgery Died\\n6 RajooRamachandran, \\n201455,FM Dyspnea No TTE,CT ,PET/CT Max. thickness of',\n",
              " '5 Russell Fernandes, \\n201430,FM No No TTE,CT ,CMI 10.2 × 5.2 × 0.6 Adherence to \\nright ventricleEpithelial Surgery Died\\n6 RajooRamachandran, \\n201455,FM Dyspnea No TTE,CT ,PET/CT Max. thickness of \\n1.5No Biphasic CT-guided biopsy Not mention\\n7 Takeyukikurosawa, \\n201637.FM Chest pain, \\ndyspneaNo TTE,CT ,PET/CT Irregular,thickened \\npericardiumAdherence to \\nright ventricleEpithelial Surgery,carboplat -\\nin+pemetrexedDied after 18 mo\\n8 SANG MI CHUNG, \\n201652,FM Dyspnea, \\ncoughing, \\nfeverNo X-ray, TTE,CT,C -\\nMIsurrounding the \\nheartMetastased to \\nboth lung fieldsEpithelial Pericardial biopsy,pericar -\\ndiocentesis,Surgery,Peme -\\ntrexed+cispatin21 mo whitout \\nsymptoms\\n9 Xiaohui Li,2017 28,M chest pain, \\nShortness of \\nbreathNo X-ray, TTE,CT, -\\nPET/CTsurrounding the \\nheartBone and right',\n",
              " 'diocentesis,Surgery,Peme -\\ntrexed+cispatin21 mo whitout \\nsymptoms\\n9 Xiaohui Li,2017 28,M chest pain, \\nShortness of \\nbreathNo X-ray, TTE,CT, -\\nPET/CTsurrounding the \\nheartBone and right \\natrium etastasisNot mention Pericardial biopsy, Sur -\\ngery,Pemetrexed+cispatinDied after 27 mo\\n10 Kohei Shikano, 2018 64,FM Dyspnea No X-ray, TTE,CT surrounding the \\nheartInvasion of myo -\\ncardium, right \\npleura and lungEpithelial Pericardiocentesis, -\\nVATS-pericardial fenestra -\\ntion,surgeryDied after 5 mo\\n11 Guang Song,2019 52,M Chest pain, \\ndyspneaNo TTE,CT ,PET/\\nCT ,CMI5 × 4 × 2.5 No Biphasic Pericardiocentesis, surgery Still alive after \\n29 mo\\n12 Sameh Ben Farhat, \\n202032,FM Shortness of \\nbreathNo X-ray, TTE,CT surrounding the \\nheartNo Not mention Pericardiocentesis,sur -',\n",
              " '29 mo\\n12 Sameh Ben Farhat, \\n202032,FM Shortness of \\nbreathNo X-ray, TTE,CT surrounding the \\nheartNo Not mention Pericardiocentesis,sur -\\ngery,chemo+radiotherapyDied after 4 mo\\nNote:  CT: Computed Tomography; F: Female; M: Male; CMR: Cardiac Magnetic Resonance; PET/CT: Positron Emission Tomography/Computed Tomography; TTE: TransthoracicTable 1.  Summary of literature involving primary malignant pericardial mesothelioma from 2009 to 2020.Comprehensive Treatment of a Rare Primary Malignant Pericardial Mesothelioma: A Case Report and Literature ReviewChunyu Liu, Bin Zhao, Weiwei Cheng, Dongliang Ma, Xing Wei, Shunye Zhang\\nArch Clin Exp Surg • 2022 • Vol 11 • Issue 88Conclusion\\nIn conclusion, comprehensive treatment, including \\nchemotherapy and best supportive treatment, and',\n",
              " 'Arch Clin Exp Surg • 2022 • Vol 11 • Issue 88Conclusion\\nIn conclusion, comprehensive treatment, including \\nchemotherapy and best supportive treatment, and \\ntimely surgery is effective for unrespectable PMPM. \\nWhen patients present with symptoms caused by \\nPMPM that are not relieved by medication, we recom -\\nmend prioritising urgent surgery. There were no pa -\\ntients found with history of asbestosis. All the patients \\nhad a common symptom of dysphonia (i.e shortness in \\nbreathing). After proper examinations, With respect to \\nthe patient’s condition treatment was undergone.\\nDeclarations\\nEthics approval and consent to participate\\nNot applicable.\\nConsent for publication\\nThe authors confirm that written consent for submis -\\nsion and publication of this case report, including im -',\n",
              " 'Ethics approval and consent to participate\\nNot applicable.\\nConsent for publication\\nThe authors confirm that written consent for submis -\\nsion and publication of this case report, including im -\\nages and associated text, has been obtained from the \\npatient in line with COPE guidance.\\nAvailability of data and materials\\nNot applicable.\\nCompeting interests\\nThe authors declare that they have no competing inter -\\nests in financial and non-financial.\\nFunding\\nNot applicable.\\nAuthors’ contributions\\nAll authors contributed equally within the limits and \\nbeyond their speciality in accumulating knowledge, \\ndiagnosing and managing this rare condition and have \\napproved the manuscript. CYL and BZ were involved \\nin disease management and follow-up of the patient.',\n",
              " 'diagnosing and managing this rare condition and have \\napproved the manuscript. CYL and BZ were involved \\nin disease management and follow-up of the patient. \\nCYL was involved in the thorough literature review. \\nWWC was involved in the radiological investigations \\nthroughout the follow-up. DLM was involved in the his -\\ntological evaluation of the tumour. XW was involved in \\nthe surgical management and follow up of the patient. \\nSYZ revised the manuscript critically for important in -\\ntellectual content and gave final approval for this man -\\nuscript version to be submitted.\\nAcknowledgements\\nWe thank Lin Wang, Pathologist of Shanxi Bethune \\nHospital, for her professional help.\\nReferences\\n[1] Fernandes R, Nosib S, Thomson D, Baniak N. A rare',\n",
              " 'Acknowledgements\\nWe thank Lin Wang, Pathologist of Shanxi Bethune \\nHospital, for her professional help.\\nReferences\\n[1] Fernandes R, Nosib S, Thomson D, Baniak N. A rare \\ncause of heart failure with preserved ejection frac -\\ntion: primary pericardial mesothelioma masquer -\\nading as pericardial constriction.  BMJ Case Rep \\n2014; 2014: bcr2013203194.\\n[2] Song G, Bi W, Zhang X, Huang W, Zhou K, Ren W, et al. Localized primary malignant pericardial meso -\\nthelioma.  J Clin Ultrasound 2019; 47(3):178-181.\\n[3] Papi M, Genestreti G, Tassinari D, Lorenzini P , Serra \\nS, Ricci M, et al. Malignant pericardial mesothelio -\\nma. Report of two cases, review of the literature and \\ndifferential diagnosis. Tumori 2005;91(3):276-9.\\n[4] Apicella G, Boulemden A, Citarella A, Sushma R,',\n",
              " 'ma. Report of two cases, review of the literature and \\ndifferential diagnosis. Tumori 2005;91(3):276-9.\\n[4] Apicella G, Boulemden A, Citarella A, Sushma R, \\nSzafranek A. Surgical treatment of a primary malig -\\nnant pericardial mesothelioma: Case report.  Acta \\nChirurgica Belgica 2022; 122(1):48-50.\\n[5] Adler Y, Charron P , Imazio M, Badano L, Barón-Es -\\nquivias G, Bogaert J, et al. 2015 ESC Guidelines for \\nthe Diagnosis and Treatment of Pericardial Diseas -\\nes. Kardiol Pol 2015;73(11):1028-1091.\\n[6] Chung SM, Choi SJ, Kim MJ, Choi JY, Kim HJ, Lee SY, \\net al. Positive response of a primary malignant peri -\\ncardial mesothelioma to pemetrexed plus cisplatin \\nfollowed by pemetrexed maintenance chemothera -\\npy: A case report.  Oncol Lett 2016;12(1):213-6.',\n",
              " 'cardial mesothelioma to pemetrexed plus cisplatin \\nfollowed by pemetrexed maintenance chemothera -\\npy: A case report.  Oncol Lett 2016;12(1):213-6.\\n[7] Kurosawa T , Sugino K, Isobe K, Hata Y, Fukasawa \\nY, Homma S, et al. Primary malignant pericardial \\nmesothelioma with increased serum mesothelin \\ndiagnosed by surgical pericardial resection: A case \\nreport.  Mol Clin Oncol 2016;5(5):553-6.\\n[8] Hollevoet K, Reitsma JB, Creaney J, Grigoriu BD, \\nRobinson BW, Scherpereel A, et al. Serum mesothe -\\nlin for diagnosing malignant pleural mesothelioma: \\nan individual patient data meta-analysis.  J Clin On -\\ncol 2012; 30(13):1541-9.\\n[9] Basso C, Valente M, Poletti A, Casarotto D, Thiene \\nG. Surgical pathology of primary cardiac and \\npericardial tumors.  Eur J Cardiothorac Surg \\n1997;12(5):730-8.',\n",
              " 'col 2012; 30(13):1541-9.\\n[9] Basso C, Valente M, Poletti A, Casarotto D, Thiene \\nG. Surgical pathology of primary cardiac and \\npericardial tumors.  Eur J Cardiothorac Surg \\n1997;12(5):730-8.\\n[10] Maruyama R, Sakai M, Nakamura T , Suemitsu R, \\nOkamoto T , Wataya H, et al. Triplet chemotherapy \\nfor malignant pericardial mesothelioma: A case re -\\nport.  Jpn J Clin Oncol 2006; 36(4):245-8.\\n[11] Shimazaki H, Aida S, Iizuka Y, Yoshizu H, Tamaj \\nS. Vacuolated cell mesothelioma of the pericardium \\nresembling liposarcoma: A case report.  Hum Pathol \\n2000;31(6):767-70.\\n[12] Nilsson A, Rasmuson T . Primary pericardial \\nmesothelioma: Report of a patient and literature \\nreview.  Case Rep Oncol 2009;2(2):125-32.\\n[13] Kim JS, Lim SY, Hwang J, Kang EJ, Choi YJ. A Case',\n",
              " '[12] Nilsson A, Rasmuson T . Primary pericardial \\nmesothelioma: Report of a patient and literature \\nreview.  Case Rep Oncol 2009;2(2):125-32.\\n[13] Kim JS, Lim SY, Hwang J, Kang EJ, Choi YJ. A Case \\nReport of Primary Pericardial Malignant Mesothe -\\nlioma Treated with Pemetrexed and Cisplatin.  J Ko -\\nrean Med Sci 2017;32(11):1879-84.\\n[14] Thomason R, Schlegel W, Lucca M, Cummings \\nS, Lee S. Primary malignant mesothelioma of the \\npericardium. Case report and literature review. Tex \\nHeart Inst J 1994;21(2):170-174.']"
            ]
          },
          "metadata": {},
          "execution_count": 17
        }
      ]
    },
    {
      "cell_type": "code",
      "source": [
        "astra_vector_store.add_texts(texts[:50])\n",
        "print(\"Inserted %i headlines.\" %len(texts[:50]))\n",
        "astra_vector_index =VectorStoreIndexWrapper(vectorstore=astra_vector_store)"
      ],
      "metadata": {
        "colab": {
          "base_uri": "https://localhost:8080/"
        },
        "id": "l7hO-vPzXzcz",
        "outputId": "b6c6e660-2b00-400f-b3d9-81939867c8f6"
      },
      "execution_count": 18,
      "outputs": [
        {
          "output_type": "stream",
          "name": "stdout",
          "text": [
            "Inserted 39 headlines.\n"
          ]
        }
      ]
    },
    {
      "cell_type": "code",
      "source": [],
      "metadata": {
        "id": "vTrywtmlZu4-"
      },
      "execution_count": null,
      "outputs": []
    },
    {
      "cell_type": "markdown",
      "source": [
        "Q/A session start"
      ],
      "metadata": {
        "id": "3B-r2scCaQit"
      }
    },
    {
      "cell_type": "code",
      "source": [
        "f_q=True\n",
        "while True:\n",
        "  if f_q:\n",
        "    query_text=input(\"\\nEnter your Question [or type quit to exit]:\").strip()\n",
        "  else:\n",
        "    query_text =input(\"\\n What is your Next Question:\").strip()\n",
        "\n",
        "  if query_text.lower()==\"quit\":\n",
        "    break\n",
        "\n",
        "  if query_text==\"\":\n",
        "    continue\n",
        "\n",
        "  f_q=False\n",
        "\n",
        "  print(\"\\nQuestion:\\\"%s\\\"\"%query_text)\n",
        "  answer=astra_vector_index.query(query_text, llm=llm).strip()\n",
        "  print(\"answer:\\\"%s\\\"\\n\"%answer)\n",
        "\n",
        "  print(\"first doc by relevence:\")\n",
        "  for doc,score in astra_vector_store.similarity_search_with_score(query_text, k=4):\n",
        "    print(\" [%0.4f]\\\"%s...\\\"\"%(score,doc.page_content[:84]))\n"
      ],
      "metadata": {
        "colab": {
          "base_uri": "https://localhost:8080/"
        },
        "id": "KfPg7fUqaURX",
        "outputId": "3f3b9dc6-523f-4921-faf3-4fccdeb8ade3"
      },
      "execution_count": 19,
      "outputs": [
        {
          "output_type": "stream",
          "name": "stdout",
          "text": [
            "\n",
            "Enter your Question [or type quit to exit]:provide the table provided in document\n",
            "\n",
            "Question:\"provide the table provided in document\"\n"
          ]
        },
        {
          "output_type": "stream",
          "name": "stderr",
          "text": [
            "WARNING:cassandra.protocol:Server warning: Top-K queries can only be run with consistency level ONE / LOCAL_ONE / NODE_LOCAL. Consistency level LOCAL_QUORUM was requested. Downgrading the consistency level to LOCAL_ONE.\n"
          ]
        },
        {
          "output_type": "stream",
          "name": "stdout",
          "text": [
            "answer:\"I'm sorry, I don't see a table provided in the document. Can you please specify which table you are referring to?\"\n",
            "\n",
            "first doc by relevence:\n"
          ]
        },
        {
          "output_type": "stream",
          "name": "stderr",
          "text": [
            "WARNING:cassandra.protocol:Server warning: Top-K queries can only be run with consistency level ONE / LOCAL_ONE / NODE_LOCAL. Consistency level LOCAL_QUORUM was requested. Downgrading the consistency level to LOCAL_ONE.\n"
          ]
        },
        {
          "name": "stdout",
          "output_type": "stream",
          "text": [
            " [0.8675]\"Ethics approval and consent to participate\n",
            "Not applicable.\n",
            "Consent for publication\n",
            "T...\"\n",
            " [0.8640]\"5 Arch Clin Exp Surg • 2022 • Vol 11 • Issue 8\n",
            "Figure 6.\n",
            "Figure 7.  Medical evidence...\"\n",
            " [0.8638]\"Envision) - Third year students  \n",
            "4. Organisers - Fourth year s tudents  \n",
            " \n",
            "Descript...\"\n",
            " [0.8638]\"Envision) - Third year students  \n",
            "4. Organisers - Fourth year s tudents  \n",
            " \n",
            "Descript...\"\n",
            "\n",
            " What is your Next Question:quit\n"
          ]
        }
      ]
    },
    {
      "cell_type": "code",
      "source": [],
      "metadata": {
        "id": "y66bwmmYxnln"
      },
      "execution_count": null,
      "outputs": []
    }
  ]
}